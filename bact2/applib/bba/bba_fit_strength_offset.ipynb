{
 "cells": [
  {
   "cell_type": "code",
   "execution_count": null,
   "metadata": {},
   "outputs": [],
   "source": [
    "from IPython.core.display import display, HTML\n",
    "display(HTML(\"<style>.container { width:90% !important; }</style>\"))"
   ]
  },
  {
   "cell_type": "code",
   "execution_count": null,
   "metadata": {},
   "outputs": [],
   "source": [
    "import copy as _copy\n",
    "import pickle\n",
    "import gzip\n",
    "import os.path\n",
    "import importlib\n",
    "import numpy as np\n",
    "import pandas as pd\n",
    "import matplotlib.pyplot as plt\n",
    "import datetime\n",
    "import scipy.optimize\n",
    "import functools"
   ]
  },
  {
   "cell_type": "markdown",
   "metadata": {},
   "source": [
    "<h1> Developing fitting the model for the beam based alignement measurement </h1>\n",
    "\n",
    "<h2> Warning </h2>\n",
    "\n",
    "All text below referes to the response matrix development. These \n",
    "\n",
    "<h2> Original procedure </h2>\n",
    "The data have been treated and are available. Fits have been made to the different measuremnts. These revealed that the measurements can be explained with sufficient accuracy using second order polynoms. These fits are, however, model agnositic. \n",
    "\n",
    "The second step now aims to reach a model that fits the model to the measurement data\n",
    "\n",
    "In this file different fit procedures are studied:\n",
    "* Estimating the beta function from the model\n",
    "* Fitting a second order scaling polynomial for the model\n",
    "* Calculating reference data for each measurement assuming that the magnet transfer functions is not totally linear but contains a second order polynomial\n"
   ]
  },
  {
   "cell_type": "code",
   "execution_count": null,
   "metadata": {},
   "outputs": [],
   "source": [
    "datetime.datetime.now().strftime('%Y %m %d')"
   ]
  },
  {
   "cell_type": "markdown",
   "metadata": {},
   "source": [
    "<h2> Used modules </h2>\n",
    "\n",
    "The different modules are collected in :mod:`bact2`.\n",
    "\n",
    "* The response matrix directory collects the different module\n",
    "* :mod:`reference_orbit` try to provide an *side effect free* interface to \n",
    "  ocelot next to orbit difference processing\n",
    "* :mod:`commons` provides access to the preprocessed data. The current solution is a hack and will have to be adapted to the available data bases\n",
    "\n",
    "* the preprocessed data are currently stored in a pickle file. The pickle file is created using \n",
    "`from_json_to_pickle`"
   ]
  },
  {
   "cell_type": "code",
   "execution_count": null,
   "metadata": {},
   "outputs": [],
   "source": [
    "import bact2.applib.transverse_lib.bpm_data as bd\n",
    "importlib.reload(bd)\n"
   ]
  },
  {
   "cell_type": "code",
   "execution_count": null,
   "metadata": {},
   "outputs": [],
   "source": [
    "from bact2.applib.bba import model_fits, process_model_fits\n",
    "from bact2.applib.bba.model_fit_funcs import min_func_adjust_2D\n",
    "from bact2.applib.transverse_lib import reference_orbit\n",
    "from bact2.applib.transverse_lib.process_model_fits import prepare_bpm_data\n",
    "\n",
    "from bact2.applib.transverse_lib.distorted_orbit import closed_orbit_distortion\n",
    "from bact2.applib.transverse_lib.distorted_orbit_process import orbit_distortion_for_kicker\n",
    "importlib.reload(process_model_fits)"
   ]
  },
  {
   "cell_type": "code",
   "execution_count": null,
   "metadata": {},
   "outputs": [],
   "source": [
    "import bact2.applib.bba.commons as commons\n",
    "pickle_file_name = commons.pickle_file_name()"
   ]
  },
  {
   "cell_type": "code",
   "execution_count": null,
   "metadata": {},
   "outputs": [],
   "source": [
    "with gzip.open(pickle_file_name) as fp:\n",
    "    obj = pickle.load(fp)"
   ]
  },
  {
   "cell_type": "code",
   "execution_count": null,
   "metadata": {},
   "outputs": [],
   "source": [
    "obj.original_dataframe.head()"
   ]
  },
  {
   "cell_type": "code",
   "execution_count": null,
   "metadata": {},
   "outputs": [],
   "source": [
    "importlib.reload(reference_orbit)"
   ]
  },
  {
   "cell_type": "markdown",
   "metadata": {},
   "source": [
    "<h2> The model </h2>\n",
    "The model is currently wrapped in :mod:`reference_orbit`. It allows\n",
    "* calculating the reference orbit\n",
    "* creating a new model with a changed element\n",
    "* calculating offset from a changed orbit to the reference orbit without messing with the original model...\n",
    "\n",
    "The following lines are used to set up the orbit and to store the reference data"
   ]
  },
  {
   "cell_type": "code",
   "execution_count": null,
   "metadata": {},
   "outputs": [],
   "source": [
    "default_orbit = reference_orbit.OrbitCalculator()"
   ]
  },
  {
   "cell_type": "code",
   "execution_count": null,
   "metadata": {},
   "outputs": [],
   "source": [
    "moved_quadrupole_name = 'Q4M2D1R'"
   ]
  },
  {
   "cell_type": "code",
   "execution_count": null,
   "metadata": {},
   "outputs": [],
   "source": [
    "moved_quadrupole = default_orbit.getElementbyName(moved_quadrupole_name)\n",
    "moved_quadrupole, moved_quadrupole.dx, moved_quadrupole.dy"
   ]
  },
  {
   "cell_type": "code",
   "execution_count": null,
   "metadata": {},
   "outputs": [],
   "source": [
    "new_quad, orbit = default_orbit.orbitCalculatorWithNewElement(name=moved_quadrupole_name, init_lattice=False)"
   ]
  },
  {
   "cell_type": "code",
   "execution_count": null,
   "metadata": {},
   "outputs": [],
   "source": [
    "new_quad, new_quad.dx, new_quad.dy"
   ]
  },
  {
   "cell_type": "code",
   "execution_count": null,
   "metadata": {},
   "outputs": [],
   "source": [
    "new_quad.dx = 0\n",
    "new_quad.dy = 0\n"
   ]
  },
  {
   "cell_type": "code",
   "execution_count": null,
   "metadata": {},
   "outputs": [],
   "source": [
    "orbit.initLattice()"
   ]
  },
  {
   "cell_type": "code",
   "execution_count": null,
   "metadata": {},
   "outputs": [],
   "source": [
    "orbit_data_ref = orbit.orbitData()"
   ]
  },
  {
   "cell_type": "code",
   "execution_count": null,
   "metadata": {},
   "outputs": [],
   "source": [
    "orbit_offset_filter = reference_orbit.OrbitOffset()\n",
    "orbit_offset_filter.reference_data = orbit_data_ref"
   ]
  },
  {
   "cell_type": "markdown",
   "metadata": {},
   "source": [
    "<h3> Setting up a model with a steerer at quadrupole position <h3>"
   ]
  },
  {
   "cell_type": "code",
   "execution_count": null,
   "metadata": {},
   "outputs": [],
   "source": [
    "magnet_name = 'Q3M1T5R'\n",
    "magnet_name = 'Q3M1T1R'\n",
    "# magnet_name = 'Q3M1T6R'\n",
    "#magnet_name = 'Q3M2D3R'\n",
    "# magnet_name = moved_quadrupole_name"
   ]
  },
  {
   "cell_type": "markdown",
   "metadata": {},
   "source": [
    "<h3> Selected quadrupole magnet  </h3>\n",
    "\n",
    "Cuurrently only working with a single magnet. As soon it has been tested here a script will be developed for batch proessing all magnets"
   ]
  },
  {
   "cell_type": "markdown",
   "metadata": {},
   "source": [
    "<h2> Measurement data </h2>"
   ]
  },
  {
   "cell_type": "code",
   "execution_count": null,
   "metadata": {},
   "outputs": [],
   "source": [
    "def compute_polarity(value):\n",
    "    if value == 0:\n",
    "        return 0\n",
    "    elif value > 0:\n",
    "        return 1\n",
    "    else:\n",
    "        return -1"
   ]
  },
  {
   "cell_type": "code",
   "execution_count": null,
   "metadata": {},
   "outputs": [],
   "source": [
    "line_colours = {0: 'k', 2: 'b'}\n",
    "model_line_colours = {0: 'g', 2: 'c'}\n",
    "\n",
    "def plot_style_for_value(value, colours=line_colours):\n",
    "    aval = np.absolute(value)\n",
    "    \n",
    "    t_colour = colours[aval]\n",
    "    \n",
    "    polarity = compute_polarity(value)\n",
    "    \n",
    "    if polarity == 0:\n",
    "        return t_colour + '-.'\n",
    "    elif polarity == 1:\n",
    "        return t_colour + '-'\n",
    "    elif polarity -1:\n",
    "        return t_colour + '--'\n",
    "    \n",
    "    raise AssertionError('Should not end up here')"
   ]
  },
  {
   "cell_type": "markdown",
   "metadata": {},
   "source": [
    "<h2> Setting up the model </h2>"
   ]
  },
  {
   "cell_type": "markdown",
   "metadata": {},
   "source": [
    "Fit offset together with kick"
   ]
  },
  {
   "cell_type": "markdown",
   "metadata": {},
   "source": [
    "<h2> Approximation function using equivalent kicker and  beta function </h2>"
   ]
  },
  {
   "cell_type": "code",
   "execution_count": null,
   "metadata": {},
   "outputs": [],
   "source": [
    "from bact2.applib.transverse_lib import  utils \n",
    "from bact2.applib.bba import distorted_orbit_process"
   ]
  },
  {
   "cell_type": "code",
   "execution_count": null,
   "metadata": {},
   "outputs": [],
   "source": [
    "twiss = orbit.twissParameters()\n",
    "twiss_df = utils.twiss_to_df(twiss)\n",
    "twiss_df.head()"
   ]
  },
  {
   "cell_type": "code",
   "execution_count": null,
   "metadata": {},
   "outputs": [],
   "source": [
    "twiss_bpm = orbit.twissParametersBpms()\n",
    "twiss_bpm_df = utils.twiss_to_df(twiss_bpm)\n",
    "twiss_bpm_df.head()"
   ]
  },
  {
   "cell_type": "markdown",
   "metadata": {},
   "source": [
    "Currently starting with micro radians steering effects. Here the known magnet transfer functions should\n",
    "be added. "
   ]
  },
  {
   "cell_type": "code",
   "execution_count": null,
   "metadata": {},
   "outputs": [],
   "source": [
    "machine_x, machine_y = distorted_orbit_process.machine_info_xy(twiss_df)\n",
    "machine_bpm_x, machine_bpm_y = distorted_orbit_process.machine_info_xy(twiss_bpm_df)\n",
    "# Bpm data do not contain the whole machine .... \n",
    "machine_bpm_x.Q = machine_x.Q\n",
    "machine_bpm_y.Q = machine_y.Q"
   ]
  },
  {
   "cell_type": "code",
   "execution_count": null,
   "metadata": {},
   "outputs": [],
   "source": [
    "models = distorted_orbit_process.MachineModelXY(\n",
    "    x=distorted_orbit_process.MachineModel(orbit=machine_x, bpm=machine_bpm_x, kick=None),\n",
    "    y=distorted_orbit_process.MachineModel(orbit=machine_y, bpm=machine_bpm_y, kick=None)\n",
    ")"
   ]
  },
  {
   "cell_type": "code",
   "execution_count": null,
   "metadata": {},
   "outputs": [],
   "source": [
    "guessed_angle=1e-5"
   ]
  },
  {
   "cell_type": "code",
   "execution_count": null,
   "metadata": {},
   "outputs": [],
   "source": [
    "magnet_name"
   ]
  },
  {
   "cell_type": "code",
   "execution_count": null,
   "metadata": {},
   "outputs": [],
   "source": [
    "kx, ky = distorted_orbit_process.model_kick(twiss_df, quadrupole_name=magnet_name, guessed_angle=guessed_angle)\n",
    "kx"
   ]
  },
  {
   "cell_type": "code",
   "execution_count": null,
   "metadata": {},
   "outputs": [],
   "source": [
    "co_x = orbit_distortion_for_kicker(models.x.bpm, kx)"
   ]
  },
  {
   "cell_type": "code",
   "execution_count": null,
   "metadata": {},
   "outputs": [],
   "source": [
    "co_y = orbit_distortion_for_kicker(models.y.bpm, ky)"
   ]
  },
  {
   "cell_type": "markdown",
   "metadata": {},
   "source": [
    "<h2> Trying to calculate kick closer to original data </h2>"
   ]
  },
  {
   "cell_type": "code",
   "execution_count": null,
   "metadata": {},
   "outputs": [],
   "source": [
    "import bact2.pandas.dataframe.df_aggregate as dfg\n",
    "from bact2.applib.transverse_lib.model_fits import select_bpm_data_in_model"
   ]
  },
  {
   "cell_type": "code",
   "execution_count": null,
   "metadata": {},
   "outputs": [],
   "source": [
    "df = obj.original_dataframe[obj.original_dataframe.count_bpm_reads > 0]"
   ]
  },
  {
   "cell_type": "code",
   "execution_count": null,
   "metadata": {},
   "outputs": [],
   "source": [
    "df_sel = df.loc[\n",
    "    (df.mux_selector_selected == magnet_name) \n",
    "    #& (df.ramp_index.isin([0, 4, 12, 16]))\n",
    "    ,\n",
    "    :]\n",
    "df_sel.shape"
   ]
  },
  {
   "cell_type": "code",
   "execution_count": null,
   "metadata": {},
   "outputs": [],
   "source": [
    "bpm_data, bpm_data_m, bpm_data_rms, bpm_data_m_rms = prepare_bpm_data(df_sel, ref_row=0)"
   ]
  },
  {
   "cell_type": "code",
   "execution_count": null,
   "metadata": {},
   "outputs": [],
   "source": [
    "# df.bpm_waveform_x_pos\n",
    "dI = df_sel.mux_power_converter_setpoint"
   ]
  },
  {
   "cell_type": "code",
   "execution_count": null,
   "metadata": {},
   "outputs": [],
   "source": [
    "def prepare_empty_fit_matrix(n_bpms, n_currents):\n",
    "    A_prepared = np.zeros([n_bpms + 1, n_currents, n_bpms])\n",
    "    for i in range(n_bpms):\n",
    "        A_prepared[i+1, :, i] = 1\n",
    "    return A_prepared\n",
    "\n",
    "def prepare_fit_matrix(model_data, currents):\n",
    "    n_bpms = len(model_data)\n",
    "    n_currents = len(currents)\n",
    "\n",
    "    A = prepare_empty_fit_matrix(n_bpms, n_currents)\n",
    "    Ax = model_data[np.newaxis, :] * currents[:, np.newaxis]\n",
    "    A[0, :, :] = Ax[:, :]\n",
    "    return A\n",
    "\n",
    "def fit_kicks(bpm_data, model_data, currents, bpm_scale_factor=1.0):\n",
    "    A = prepare_fit_matrix(model_data, currents)\n",
    "    \n",
    "    bpm_data = bpm_data * bpm_scale_factor\n",
    "    n_bpms = len(model_data)\n",
    "    n_currents = len(currents)\n",
    "\n",
    "    A = np.reshape(A, [n_bpms + 1, n_bpms * n_currents])\n",
    "    b = np.reshape(bpm_data, [n_bpms * n_currents])\n",
    "    r = scipy.optimize.lsq_linear(A.T, b)\n",
    "    return r"
   ]
  },
  {
   "cell_type": "code",
   "execution_count": null,
   "metadata": {},
   "outputs": [],
   "source": [
    "rx = fit_kicks(bpm_data_m.x, co_x, dI, bpm_scale_factor=1/1000.)\n",
    "rx.x[0]"
   ]
  },
  {
   "cell_type": "code",
   "execution_count": null,
   "metadata": {},
   "outputs": [],
   "source": [
    "ry = fit_kicks(bpm_data_m.y, co_y, dI, bpm_scale_factor=1/1000.)\n",
    "ry.x[0]"
   ]
  },
  {
   "cell_type": "code",
   "execution_count": null,
   "metadata": {},
   "outputs": [],
   "source": []
  },
  {
   "cell_type": "code",
   "execution_count": null,
   "metadata": {},
   "outputs": [],
   "source": [
    "ref_mx =  ref_my = None\n",
    "f = plt.figure(figsize=[20, 24])\n",
    "ax1 = plt.subplot(211)\n",
    "ax2 = plt.subplot(212)\n",
    "dz_all = []\n",
    "dz_model_all = []\n",
    "for i in range(len(bpm_data_m.x)):\n",
    "    row = df_sel.iloc[i, :]\n",
    "    dI = df_sel.mux_power_converter_setpoint.iat[i]\n",
    "\n",
    "    model_to_bpm = 1000\n",
    "\n",
    "    if dI >= 0: \n",
    "        polarity = -1\n",
    "    else:\n",
    "        polarity =  1\n",
    "    t_kick_scale_x = rx.x[0] * dI * polarity * model_to_bpm\n",
    "    t_kick_scale_y = ry.x[0] * dI * polarity * model_to_bpm\n",
    "\n",
    "    \n",
    "    setpoint_round = int(dI)\n",
    "           \n",
    "\n",
    "    dx = bpm_data_m.x[i] - rx.x[1:] * model_to_bpm\n",
    "    dy = bpm_data_m.y[i] - ry.x[1:] * model_to_bpm\n",
    "    \n",
    "    dx = dx * polarity\n",
    "    dy = dy * polarity\n",
    "    ds = bpm_data_m.s[i]\n",
    "    ax1.plot(ds, dx, 'b', linewidth=.25, marker='x', label='bpm x')\n",
    "    ax2.plot(ds, dy, 'r', linewidth=.25, marker='x', label='bpm y')\n",
    "        \n",
    "    ax1.plot(ds, co_x * t_kick_scale_x, 'c--', linewidth=.5, marker='+', label='kick x')\n",
    "    ax2.plot(ds, co_y * t_kick_scale_y, 'm--', linewidth=.5, marker='+', label='kick y')\n",
    "\n",
    "        \n",
    "ax1.plot(ds, rx.x[1:] * model_to_bpm , 'k:', linewidth=.5, marker='x', label='offset x')\n",
    "ax2.plot(ds, ry.x[1:] * model_to_bpm , 'k:', linewidth=.5, marker='x', label='offset y')\n",
    "\n",
    "ax1.set_xlabel('ds [m]')\n",
    "ax2.set_xlabel('ds [m]')\n",
    "ax1.set_ylabel('dx [mm]')\n",
    "ax2.set_ylabel('dy [mm]')\n",
    "ax1.legend(loc=0).set_draggable(True)\n",
    "ax2.legend(loc=0).set_draggable(True)\n"
   ]
  },
  {
   "cell_type": "code",
   "execution_count": null,
   "metadata": {},
   "outputs": [],
   "source": [
    "prepare_bpm_data?"
   ]
  },
  {
   "cell_type": "code",
   "execution_count": null,
   "metadata": {},
   "outputs": [],
   "source": []
  },
  {
   "cell_type": "code",
   "execution_count": null,
   "metadata": {},
   "outputs": [],
   "source": []
  }
 ],
 "metadata": {
  "kernelspec": {
   "display_name": "Python 3",
   "language": "python",
   "name": "python3"
  },
  "language_info": {
   "codemirror_mode": {
    "name": "ipython",
    "version": 3
   },
   "file_extension": ".py",
   "mimetype": "text/x-python",
   "name": "python",
   "nbconvert_exporter": "python",
   "pygments_lexer": "ipython3",
   "version": "3.7.6"
  }
 },
 "nbformat": 4,
 "nbformat_minor": 2
}
