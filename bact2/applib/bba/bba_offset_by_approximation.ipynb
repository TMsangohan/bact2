{
 "cells": [
  {
   "cell_type": "code",
   "execution_count": null,
   "metadata": {},
   "outputs": [],
   "source": []
  },
  {
   "cell_type": "code",
   "execution_count": null,
   "metadata": {},
   "outputs": [],
   "source": [
    "import pandas as pd\n",
    "%matplotlib notebook\n",
    "import matplotlib.pyplot as plt\n",
    "import tqdm\n",
    "import numpy as np\n",
    "import pickle\n",
    "import gzip\n",
    "import os.path\n",
    "import importlib\n",
    "import datetime"
   ]
  },
  {
   "cell_type": "code",
   "execution_count": null,
   "metadata": {},
   "outputs": [],
   "source": [
    "from IPython.core.display import display, Markdown, HTML\n",
    "display(HTML(\"<style>.container { width:90% !important; }</style>\"))"
   ]
  },
  {
   "cell_type": "markdown",
   "metadata": {},
   "source": [
    "<h1> Fit data from beam based alignement measurement </h1>\n",
    "\n",
    "<h2> Procedure </h2>\n",
    "\n",
    "Measurements were made for the different quadrupoles using the multiplexer. These data have been preprocessed\n",
    "BPM data were preprocessed in the followig manner:\n",
    "* For each measurement step:\n",
    "    * The first bpm data reading was discarded. This ensures that all \n",
    "      measurement data belong to the same machine setting.\n",
    "    * The mean of the remaining data was calculated.\n",
    "   \n",
    "Based on the model beta(tron) functions are calculated to estimate the equivalent kick"
   ]
  },
  {
   "cell_type": "code",
   "execution_count": null,
   "metadata": {},
   "outputs": [],
   "source": [
    "datetime.datetime.now().strftime('%Y %m %d %H:%M')"
   ]
  },
  {
   "cell_type": "markdown",
   "metadata": {},
   "source": [
    "<h2> Used modules </h2>\n",
    "\n",
    "The different modules are collected in :mod:`bact2`.\n",
    "\n",
    "* The response matrix directory collects the different module\n",
    "* :mod:`reference_orbit` try to provide an *side effect free* interface to \n",
    "  ocelot next to orbit difference processing\n",
    "* :mod:`commons` provides access to the preprocessed data. The current solution is a hack and will have to be adapted to the available data bases\n",
    "\n",
    "* the preprocessed data are currently stored in a pickle file. The pickle file is created using \n",
    "`from_json_to_pickle`"
   ]
  },
  {
   "cell_type": "code",
   "execution_count": null,
   "metadata": {},
   "outputs": [],
   "source": [
    "import bact2.applib.bba.distorted_orbit_process\n",
    "importlib.reload(bact2.applib.bba.distorted_orbit_process)\n",
    "from bact2.applib.transverse_lib import reference_orbit, utils \n",
    "from bact2.applib.bba import distorted_orbit_process\n",
    "\n",
    "importlib.reload(reference_orbit)\n",
    "importlib.reload(distorted_orbit_process)\n"
   ]
  },
  {
   "cell_type": "markdown",
   "metadata": {},
   "source": [
    "<h2> The model </h2>\n",
    "\n",
    "The model is currently wrapped in :mod:`reference_orbit`. It allows\n",
    "\n",
    "* calculating the reference orbit\n",
    "* creating a new model with a changed element\n",
    "* calculating offset from a changed orbit to the reference orbit without messing with the original model...\n",
    "\n",
    "The following lines are used to set up the orbit and to store the reference data. Furthermore \n",
    "it is checked that an offset quadrupole is on orbit."
   ]
  },
  {
   "cell_type": "code",
   "execution_count": null,
   "metadata": {},
   "outputs": [],
   "source": [
    "default_orbit = reference_orbit.OrbitCalculator()"
   ]
  },
  {
   "cell_type": "code",
   "execution_count": null,
   "metadata": {},
   "outputs": [],
   "source": [
    "moved_quadrupole_name = 'Q4M2D1R'"
   ]
  },
  {
   "cell_type": "markdown",
   "metadata": {},
   "source": [
    "Check that the moved quadrupole found in the model does not expose an offset"
   ]
  },
  {
   "cell_type": "code",
   "execution_count": null,
   "metadata": {},
   "outputs": [],
   "source": [
    "moved_quadrupole = default_orbit.getElementbyName(moved_quadrupole_name)\n",
    "moved_quadrupole, moved_quadrupole.dx, moved_quadrupole.dy"
   ]
  },
  {
   "cell_type": "code",
   "execution_count": null,
   "metadata": {},
   "outputs": [],
   "source": [
    "new_quad, orbit = default_orbit.orbitCalculatorWithNewElement(name=moved_quadrupole_name, init_lattice=False)"
   ]
  },
  {
   "cell_type": "code",
   "execution_count": null,
   "metadata": {},
   "outputs": [],
   "source": [
    "new_quad, new_quad.dx, new_quad.dy"
   ]
  },
  {
   "cell_type": "code",
   "execution_count": null,
   "metadata": {},
   "outputs": [],
   "source": [
    "new_quad.dx = 0\n",
    "new_quad.dy = 0"
   ]
  },
  {
   "cell_type": "code",
   "execution_count": null,
   "metadata": {},
   "outputs": [],
   "source": [
    "orbit.initLattice()"
   ]
  },
  {
   "cell_type": "code",
   "execution_count": null,
   "metadata": {},
   "outputs": [],
   "source": [
    "orbit_data_ref = orbit.orbitData()"
   ]
  },
  {
   "cell_type": "code",
   "execution_count": null,
   "metadata": {},
   "outputs": [],
   "source": [
    "orbit_offset_filter = reference_orbit.OrbitOffset()\n",
    "orbit_offset_filter.reference_data = orbit_data_ref"
   ]
  },
  {
   "cell_type": "markdown",
   "metadata": {},
   "source": [
    "<h2> Used data </h2>\n",
    "\n",
    "The preprocessed data are available as a pickle file. The data are preprocessed by scripts provided by the `bact2` library."
   ]
  },
  {
   "cell_type": "code",
   "execution_count": null,
   "metadata": {},
   "outputs": [],
   "source": [
    "from bact2.applib.bba.process_dataframe import ProcessedBPMData\n",
    "from bact2.applib.transverse_lib.from_json_to_pickle import preprocess_table"
   ]
  },
  {
   "cell_type": "markdown",
   "metadata": {},
   "source": [
    "Defaults file. `bact.applib` apps assume that a directory 'data' exists on the same level as the bact2 repo directory. \n",
    "There it would expect the json dump next to intermediate pickle directores. \n",
    "This directory is not required for this notebook"
   ]
  },
  {
   "cell_type": "code",
   "execution_count": null,
   "metadata": {},
   "outputs": [],
   "source": [
    "import bact2.applib.bba.commons as commons\n",
    "pickle_file_name = commons.pickle_file_name()\n",
    "json_file_name = commons.json_file_name()\n",
    "pickle_file_name, json_file_name"
   ]
  },
  {
   "cell_type": "code",
   "execution_count": null,
   "metadata": {},
   "outputs": [],
   "source": []
  },
  {
   "cell_type": "code",
   "execution_count": null,
   "metadata": {},
   "outputs": [],
   "source": [
    "measured_data_df = pd.read_json(json_file_name)"
   ]
  },
  {
   "cell_type": "markdown",
   "metadata": {},
   "source": [
    "It can be convienent to store the preprocessed data during development of the notebook"
   ]
  },
  {
   "cell_type": "code",
   "execution_count": null,
   "metadata": {},
   "outputs": [],
   "source": [
    "use_pickle = False"
   ]
  },
  {
   "cell_type": "code",
   "execution_count": null,
   "metadata": {},
   "outputs": [],
   "source": [
    "if not use_pickle:\n",
    "    measured_data_pp_df = preprocess_table(measured_data_df)\n",
    "    obj = ProcessedBPMData(measured_data_pp_df)"
   ]
  },
  {
   "cell_type": "code",
   "execution_count": null,
   "metadata": {},
   "outputs": [],
   "source": [
    "if use_pickle:\n",
    "    with gzip.open(pickle_file_name) as fp:\n",
    "        obj = pickle.load(fp)"
   ]
  },
  {
   "cell_type": "code",
   "execution_count": null,
   "metadata": {},
   "outputs": [],
   "source": [
    "obj.original_dataframe.head()"
   ]
  },
  {
   "cell_type": "code",
   "execution_count": null,
   "metadata": {},
   "outputs": [],
   "source": [
    "obj.processed_dataframe.head()"
   ]
  },
  {
   "cell_type": "markdown",
   "metadata": {},
   "source": [
    "<h2> Approximation function using equivalent kicker and  beta function </h2>"
   ]
  },
  {
   "cell_type": "code",
   "execution_count": null,
   "metadata": {},
   "outputs": [],
   "source": [
    "twiss = orbit.twissParameters()\n",
    "twiss_df = utils.twiss_to_df(twiss)\n",
    "twiss_df.head()"
   ]
  },
  {
   "cell_type": "code",
   "execution_count": null,
   "metadata": {},
   "outputs": [],
   "source": [
    "twiss_bpm = orbit.twissParametersBpms()\n",
    "twiss_bpm_df = utils.twiss_to_df(twiss_bpm)\n",
    "twiss_bpm_df.head()"
   ]
  },
  {
   "cell_type": "code",
   "execution_count": null,
   "metadata": {},
   "outputs": [],
   "source": [
    "machine_x, machine_y = distorted_orbit_process.machine_info_xy(twiss_df)\n",
    "machine_bpm_x, machine_bpm_y = distorted_orbit_process.machine_info_xy(twiss_bpm_df)\n",
    "# Bpm data do not contain the whole machine .... \n",
    "machine_bpm_x.Q = machine_x.Q\n",
    "machine_bpm_y.Q = machine_y.Q"
   ]
  },
  {
   "cell_type": "code",
   "execution_count": null,
   "metadata": {},
   "outputs": [],
   "source": [
    "models = distorted_orbit_process.MachineModelXY(\n",
    "    x=distorted_orbit_process.MachineModel(orbit=machine_x, bpm=machine_bpm_x, kick=None),\n",
    "    y=distorted_orbit_process.MachineModel(orbit=machine_y, bpm=machine_bpm_y, kick=None)\n",
    ")"
   ]
  },
  {
   "cell_type": "markdown",
   "metadata": {},
   "source": [
    "<h2> Processing all  magnets </h2>\n",
    "    \n",
    "Currently assumes that all magnets found are quadrupoles magnets"
   ]
  },
  {
   "cell_type": "code",
   "execution_count": null,
   "metadata": {},
   "outputs": [],
   "source": []
  },
  {
   "cell_type": "code",
   "execution_count": null,
   "metadata": {},
   "outputs": [],
   "source": [
    "def kick_to_offset(angle, *, scale=1, k1=None):\n",
    "    scale = float(scale)\n",
    "    assert(k1 is not None)\n",
    "    \n",
    "    t_angle = angle * scale\n",
    "    offset = t_angle / k1\n",
    "    return offset"
   ]
  },
  {
   "cell_type": "code",
   "execution_count": null,
   "metadata": {},
   "outputs": [],
   "source": [
    "importlib.reload(distorted_orbit_process)\n",
    "muxed_magnets = set(obj.processed_dataframe.mux_selector_selected)\n",
    "muxed_magnets = list(muxed_magnets)\n",
    "columns_per_coordinate = ['kick', 'offset', 'fit_scale', 'guessed_angle']\n",
    "columns = [n + '_x' for n in columns_per_coordinate]\n",
    "columns += [n + '_y' for n in columns_per_coordinate]\n",
    "columns += ['s', 'k1', 'tilt', 'dI', 'result']\n",
    "rdf = pd.DataFrame(index=muxed_magnets, \n",
    "                   columns=columns,\n",
    "                   dtype=np.object_\n",
    "                  )\n",
    "\n",
    "for t_name in tqdm.tqdm(muxed_magnets, total=len(muxed_magnets)):\n",
    "    r = distorted_orbit_process.process_single(twiss_df, obj.processed_dataframe, t_name, models)\n",
    "    elem = orbit.getElementbyName(t_name)\n",
    "    rdf.at[t_name, 'k1'] = elem.k1\n",
    "    rdf.at[t_name, 'tilt'] = elem.tilt\n",
    "    rdf.at[t_name, 'result'] = r\n",
    "    rdf.at[t_name, 's'] = r.x.kick.s\n",
    "    rdf.at[t_name, 'fit_scale_x'] = r.x.fit_result.x[0]\n",
    "    rdf.at[t_name, 'fit_scale_y'] = r.y.fit_result.x[0]\n",
    "    rdf.at[t_name, 'dI'] = r.x.dI\n",
    "    rdf.at[t_name, 'guessed_angle_x'] = r.x.guessed_angle\n",
    "    rdf.at[t_name, 'guessed_angle_y'] = r.y.guessed_angle\n",
    "rdf = rdf.sort_values(by='s')"
   ]
  },
  {
   "cell_type": "code",
   "execution_count": null,
   "metadata": {},
   "outputs": [],
   "source": [
    "k1_ref = moved_quadrupole.k1 "
   ]
  },
  {
   "cell_type": "code",
   "execution_count": null,
   "metadata": {},
   "outputs": [],
   "source": [
    "rdf.kick_x = rdf.guessed_angle_x * rdf.fit_scale_x\n",
    "rdf.kick_y = rdf.guessed_angle_y * rdf.fit_scale_y\n",
    "rdf.offset_x = kick_to_offset(rdf.kick_x, k1=rdf.k1 * 1 / 265)\n",
    "rdf.offset_y = kick_to_offset(rdf.kick_y, k1=rdf.k1 * 1 / 265)"
   ]
  },
  {
   "cell_type": "code",
   "execution_count": null,
   "metadata": {},
   "outputs": [],
   "source": [
    "rdf.head()"
   ]
  },
  {
   "cell_type": "code",
   "execution_count": null,
   "metadata": {},
   "outputs": [],
   "source": [
    "fig = plt.figure(figsize=[16, 12])\n",
    "ax1 = fig.add_subplot(211)\n",
    "ax1.plot(rdf.s, rdf.offset_x * 1e6, 'b+-', linewidth=.5)\n",
    "ax1.set_ylabel('x [$\\mu$m]')\n",
    "ax2 = fig.add_subplot(212)\n",
    "ax2.plot(rdf.s, rdf.offset_y * 1e6, 'r+-', linewidth=.5)\n",
    "ax2.set_ylabel('y [$\\mu$m]')\n",
    "ax2.set_xlabel('s [m]')"
   ]
  },
  {
   "cell_type": "markdown",
   "metadata": {},
   "source": [
    "<h2> Reference plots for all magnets </h2>"
   ]
  },
  {
   "cell_type": "code",
   "execution_count": null,
   "metadata": {},
   "outputs": [],
   "source": [
    "def create_plot_one_axis(ax, result, model, model_scale, dI, \n",
    "                         color=None, coordinate=None, magnet_name=None):\n",
    "    \n",
    "    assert(color is not None)\n",
    "    assert(coordinate is not None)\n",
    "    assert(np.isfinite(model_scale))\n",
    "\n",
    "    co = result.orbit\n",
    "    co_s = model.orbit.s\n",
    "    co_bpm = result.bpm\n",
    "    co_bpm_s = model.bpm.s\n",
    "    \n",
    "    p_scale_model = 1e6\n",
    "    p_scale_data = 1e3\n",
    "    # print(kick, dI.max())\n",
    "    dI_max = dI.max()\n",
    "    equivalent_angle = model_scale * dI_max\n",
    "    p_scale_model_c = p_scale_model * equivalent_angle\n",
    "    bpm_data = result.bpm_data\n",
    "    bpm_offset = bpm_data[(0, -1), :].mean(axis=0)\n",
    "    \n",
    "    offset = result.fit_result.x[1]\n",
    "\n",
    "    line, = ax.plot(co_s, (co + offset) * p_scale_model_c, '-', color=color, linewidth=.5)\n",
    "    ax.plot(co_bpm_s, (co_bpm + offset) * p_scale_model_c, '.', color=line.get_color())\n",
    "    \n",
    "    scale = dI/dI.max()\n",
    "    for i, do in enumerate(bpm_data):\n",
    "        s = scale[i]\n",
    "        if s == 0:\n",
    "            s = 1\n",
    "        ax.plot(co_bpm_s, (do - bpm_offset) * p_scale_data * s, '+--', color=line.get_color(), linewidth=.25)\n",
    "    \n",
    "    # Mark the position of the magnet\n",
    "    magnet_s = result.kick.s\n",
    "    axis = ax.axis()\n",
    "    vmin = axis[2]\n",
    "    vmax = axis[3]\n",
    "    dv = vmax - vmin\n",
    "    ax.plot([magnet_s] * 2, [vmin, vmax], 'k:', linewidth=2)\n",
    "    ax.text(magnet_s, vmax - dv * 1/100., magnet_name, \n",
    "            horizontalalignment='left', verticalalignment='top')\n",
    "    ax.axis(axis)\n",
    "    ax.set_xlabel('s [m]')\n",
    "    \n",
    "    var_desc = r'$\\Delta {}$'.format(coordinate)\n",
    "    ax.set_ylabel(var_desc +  '  ' + r'[$\\mu$m]')\n",
    "\n",
    "\n",
    "def create_plots(rdf, models, fignum=10):\n",
    "    \n",
    "    fig = plt.figure(figsize=[16,12])\n",
    "    ax = fig.add_subplot(211)\n",
    "    magnet_name=rdf.name\n",
    "    fit_scale_x = rdf.fit_scale_x\n",
    "    fit_scale_y = rdf.fit_scale_y\n",
    "    # fit_scale_x = fit_scale_y = 1\n",
    "    \n",
    "    kick = rdf.kick_x\n",
    "    offset = rdf.offset_x\n",
    "    fmt = '{} equivalent angle {:.3f} [$\\mu$rad]  offset {:.1f} [$\\mu$m]'\n",
    "    txt = fmt.format(magnet_name, kick*1e6, offset*1e6)\n",
    "    create_plot_one_axis(ax, rdf.result.x, models.x, fit_scale_x, rdf.dI, \n",
    "                         color='b', coordinate='x', magnet_name=txt)      \n",
    "    ax = fig.add_subplot(212)\n",
    "    kick = rdf.kick_y\n",
    "    offset = rdf.offset_y\n",
    "    txt = fmt.format(magnet_name, kick*1e6, offset*1e6)\n",
    "    create_plot_one_axis(ax, rdf.result.y, models.y, fit_scale_y, rdf.dI, \n",
    "                        color='r', coordinate='y', magnet_name=txt)      \n",
    "    return fig "
   ]
  },
  {
   "cell_type": "code",
   "execution_count": null,
   "metadata": {},
   "outputs": [],
   "source": [
    "#plt.ioff()\n",
    "for idx, t_name in enumerate(rdf.index):\n",
    "    plot_sel = rdf.loc[t_name, :]\n",
    "    print(f'Magnet {t_name}, position {plot_sel.s:10.3f} fit: x {plot_sel.fit_scale_x: .3f} y {plot_sel.fit_scale_y: .3f}')\n",
    "    #display(Markdown('<h3> Quadrupole {} </h4>'.format(t_name)))\n",
    "    fig = create_plots(plot_sel, models=models)\n",
    "    #fig.set_tight_layout(True)\n",
    "    fig.savefig(f'BBA_Quadrupole_{t_name}.png')\n",
    "    #break\n",
    "    #del fig\n",
    "    if idx >= 0:\n",
    "        break\n",
    "        pass\n",
    "\n",
    "print('Done plotting')\n",
    "#plt.ion()"
   ]
  }
 ],
 "metadata": {
  "kernelspec": {
   "display_name": "Python 3",
   "language": "python",
   "name": "python3"
  },
  "language_info": {
   "codemirror_mode": {
    "name": "ipython",
    "version": 3
   },
   "file_extension": ".py",
   "mimetype": "text/x-python",
   "name": "python",
   "nbconvert_exporter": "python",
   "pygments_lexer": "ipython3",
   "version": "3.7.3"
  }
 },
 "nbformat": 4,
 "nbformat_minor": 2
}
