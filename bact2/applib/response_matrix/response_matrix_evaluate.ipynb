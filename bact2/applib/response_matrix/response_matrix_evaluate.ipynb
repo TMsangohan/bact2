{
 "cells": [
  {
   "cell_type": "markdown",
   "metadata": {},
   "source": [
    "<h1> Response matrix analysis </h1>\n",
    "\n",
    "<h2> Dependencies </h2>\n",
    "\n",
    "<h3> External module dependencies </h3>"
   ]
  },
  {
   "cell_type": "code",
   "execution_count": null,
   "metadata": {},
   "outputs": [],
   "source": [
    "import matplotlib.pyplot as plt\n",
    "%pylab inline\n",
    "import pandas as pd\n",
    "import numpy as np\n",
    "from matplotlib import cm\n",
    "from mpl_toolkits.mplot3d import Axes3D\n",
    "import datetime\n",
    "import pprint\n",
    "import os.path"
   ]
  },
  {
   "cell_type": "markdown",
   "metadata": {},
   "source": [
    "Mayavi is faster in plotting 3D data.\n",
    "But the x3d interface to the notebook does not allow for scaling"
   ]
  },
  {
   "cell_type": "code",
   "execution_count": null,
   "metadata": {},
   "outputs": [],
   "source": [
    "from mayavi import mlab\n",
    "mlab.init_notebook()"
   ]
  },
  {
   "cell_type": "markdown",
   "metadata": {},
   "source": [
    "<h3> Internal module dependencies </h3>\n",
    "\n",
    "Modules in development at HZB"
   ]
  },
  {
   "cell_type": "code",
   "execution_count": null,
   "metadata": {},
   "outputs": [],
   "source": [
    "bact2_path = os.path.join(os.getcwd(), *([os.path.pardir]*3))\n",
    "bact2_path = os.path.normpath(bact2_path)\n",
    "bact2_path"
   ]
  },
  {
   "cell_type": "code",
   "execution_count": null,
   "metadata": {},
   "outputs": [],
   "source": [
    "import os.path\n",
    "import sys\n",
    "import importlib\n",
    "\n",
    "pierres_dir = '/net/nfs/srv/MachinePhysics/MachineDevelopment/schnizer/github/'\n",
    "if pierres_dir not in sys.path:\n",
    "    sys.path.append(pierres_dir)\n",
    "\n",
    "if bact2_path not in sys.path:\n",
    "    sys.path.append(bact2_path)\n",
    "    \n",
    "import bact2.pandas.dataframe.df_aggregate as dfg\n",
    "importlib.reload(dfg)\n",
    "\n",
    "from bact2.applib.utils import steerer as st_u, utils as m_u\n",
    "from bact2.applib.response_matrix import bpm_data as bd\n",
    "importlib.reload(st_u)\n",
    "importlib.reload(m_u)\n",
    "importlib.reload(bd)"
   ]
  },
  {
   "cell_type": "markdown",
   "metadata": {},
   "source": [
    "<h2> Loading measured data </h2>\n",
    "\n",
    "Currently there are two ways to access the measurement data:\n",
    "    \n",
    "    * Accessing the data from the mongodb installed at HZB\n",
    "    * loading the data from a json exported file.\n",
    "    \n",
    "The flag below is set if data are loaded from a json file\n",
    "\n",
    "Please note: loading the file requires a significant amount ouf time"
   ]
  },
  {
   "cell_type": "code",
   "execution_count": null,
   "metadata": {},
   "outputs": [],
   "source": [
    "use_json = True"
   ]
  },
  {
   "cell_type": "code",
   "execution_count": null,
   "metadata": {},
   "outputs": [],
   "source": [
    "if not use_json:\n",
    "    from databroker import Broker\n",
    "    db = Broker.named('light')\n",
    "    uid = '78f148ec-4f55-44c8-bde4-e389ea6ec4d3'\n",
    "    uid = 'ee52c929-4d97-4838-b007-517beb58cba7'\n",
    "    uid = '02fe5d1c-b012-4054-8e53-77c911b97e3b'\n",
    "    uid = '75c454ca-bda5-4254-b7af-0acf365e989d'\n",
    "    r = db(plan_name='response_matrix')\n",
    "    cnt = 0\n",
    "    for doc in r:\n",
    "        start = doc['start']\n",
    "        d = datetime.datetime.fromtimestamp(start['time'])\n",
    "        print(d, start['uid'])"
   ]
  },
  {
   "cell_type": "code",
   "execution_count": null,
   "metadata": {},
   "outputs": [],
   "source": [
    "# First full run \n",
    "uid = '5af3a89f-c496-4d3d-84fd-1ca76c9331dc'\n",
    "# second full run \n"
   ]
  },
  {
   "cell_type": "code",
   "execution_count": null,
   "metadata": {},
   "outputs": [],
   "source": [
    "if not use_json:\n",
    "    header = db[uid]"
   ]
  },
  {
   "cell_type": "code",
   "execution_count": null,
   "metadata": {},
   "outputs": [],
   "source": [
    "path = '/opt/OPI/MachinePhysics/MeasurementData/Users/schnizer/response_matrix'\n",
    "path = os.getcwd()\n",
    "path = os.path.join(path, *([os.path.pardir]*3 + ['data', 'response_matrix']) )\n",
    "path = os.path.normpath(path)\n",
    "                    \n",
    "path"
   ]
  },
  {
   "cell_type": "code",
   "execution_count": null,
   "metadata": {},
   "outputs": [],
   "source": [
    "pickle_name = os.path.join(path, 'response_measurement.json.bz2')\n",
    "pickle_name"
   ]
  },
  {
   "cell_type": "code",
   "execution_count": null,
   "metadata": {},
   "outputs": [],
   "source": [
    "if use_json:\n",
    "    start_stamp = datetime.datetime.now()\n",
    "    t_table = pd.read_json(pickle_name)\n",
    "    read_in = datetime.datetime.now()\n",
    "    t_table = t_table.infer_objects().sort_index()\n",
    "    nt = dfg.df_vectors_convert(t_table, copy=False)\n",
    "    now = datetime.datetime.now()\n",
    "    t_table = nt\n",
    "    del nt\n",
    "    dt_read = read_in - start_stamp\n",
    "    dt_conv = now - read_in\n",
    "    dt = now - start_stamp\n",
    "    fmt = 'Reading data for json required {}; data conversion required {}; total {}'\n",
    "    print(fmt.format(dt_read, dt_conv, dt))\n",
    "else:\n",
    "    t_table = header.table()\n",
    "    t_table.tail()"
   ]
  },
  {
   "cell_type": "markdown",
   "metadata": {},
   "source": [
    "If data was loaded from a json file the numpy arrays were exported as lists.\n",
    "This conversion has to be reverted; otherwise the processing of the data frame\n",
    "further down will fail."
   ]
  },
  {
   "cell_type": "code",
   "execution_count": null,
   "metadata": {},
   "outputs": [],
   "source": [
    "nt = dfg.df_vectors_convert(t_table, copy=False)\n",
    "t_table = nt"
   ]
  },
  {
   "cell_type": "code",
   "execution_count": null,
   "metadata": {},
   "outputs": [],
   "source": [
    "t_table.time.max()"
   ]
  },
  {
   "cell_type": "markdown",
   "metadata": {},
   "source": [
    "Fix data if imported as json file"
   ]
  },
  {
   "cell_type": "code",
   "execution_count": null,
   "metadata": {},
   "outputs": [],
   "source": [
    "if use_json:\n",
    "    t_table = t_table.infer_objects().sort_index()\n",
    "    "
   ]
  },
  {
   "cell_type": "code",
   "execution_count": null,
   "metadata": {},
   "outputs": [],
   "source": [
    "cols_to_process = [\n",
    "    'time',\n",
    "    'sc_selected',\n",
    "    'bpm_x_ref', 'bpm_y_ref',\n",
    "    'bpm_x_diff', 'bpm_y_diff',\n",
    "    'bk_dev_mode', \n",
    "    'steerer_mode',\n",
    "    'steerer_pos',\n",
    "    'measurement',\n",
    "    'I_rounded',\n",
    "    'bk_dev_dI', 'bk_dev_scale_factor', 'bk_dev_current_offset', \n",
    "    'sc_sel_dev_setpoint', 'sc_sel_dev_readback',\n",
    "    'ramp_index',\n",
    "    'bpm_waveform_x_pos', 'bpm_waveform_y_pos', \n",
    "    'bpm_waveform_ds',\n",
    "    'dt',\n",
    "    'bpm_x_scale', 'bpm_y_scale',\n",
    "    'steerer_type',\n",
    "    'relative_step',\n",
    "    'bpm_waveform_names'\n",
    "]"
   ]
  },
  {
   "cell_type": "code",
   "execution_count": null,
   "metadata": {},
   "outputs": [],
   "source": [
    "t_table;"
   ]
  },
  {
   "cell_type": "markdown",
   "metadata": {},
   "source": []
  },
  {
   "cell_type": "markdown",
   "metadata": {},
   "source": [
    "<h2> Trying to understand the data </h2>\n",
    "\n",
    "<h3> Adding information which was not stored in the measurememnt .</h3>\n",
    "\n",
    "The following two currents are the currents which are the default ones found in \n",
    "AT for sstandard BESSY Mode"
   ]
  },
  {
   "cell_type": "code",
   "execution_count": null,
   "metadata": {},
   "outputs": [],
   "source": [
    "start_current_horizontal = 0.07 / 6\n",
    "start_current_vertical = 0.07"
   ]
  },
  {
   "cell_type": "markdown",
   "metadata": {},
   "source": [
    "Adding additional imformations\n",
    "\n",
    "These shall be added by the book keeping device in furture\n",
    "\n",
    "**Todo**:\n",
    "\n",
    "   * add a measurement number: an consecutive integer running up for measurement by measurement \n",
    "   * steerer_pos: the position of the steerer within the machine Heere it is also used for sorting \n",
    "       e.g. in the  following manner:  ignoring that BESSY II lost its symmetry one groups steerers together \n",
    "       which are at the same position within a cell or supercell\n",
    "    \n"
   ]
  },
  {
   "cell_type": "code",
   "execution_count": null,
   "metadata": {},
   "outputs": [],
   "source": [
    "table_sel = t_table.reindex(columns=cols_to_process, index=t_table.index)\n",
    "table_sel.loc[:,'I_rounded'] = m_u.round_float_values(table_sel.sc_sel_dev_setpoint)\n",
    "table_sel.loc[:, 'measurement'] = -1\n",
    "table_sel.loc[:, 'steerer_pos'] = -1\n",
    "table_sel.loc[:, 'ramp_index'] = -1\n",
    "table_sel = st_u.add_steerer_info(table_sel, copy=False)\n",
    "table_sel = st_u.add_relative_steps(table_sel, \n",
    "                               horizontal_current=start_current_horizontal,\n",
    "                               vertical_current=start_current_vertical,\n",
    "                               copy=False)\n",
    "table_sel = table_sel.infer_objects()"
   ]
  },
  {
   "cell_type": "code",
   "execution_count": null,
   "metadata": {},
   "outputs": [],
   "source": [
    "# tt = m_u.add_measurement_counts(table_sel)\n",
    "dfg.logger.setLevel('DEBUG')\n",
    "tt = m_u.add_measurement_counts(table_sel)\n",
    "tt.loc[:, 'measurement'] = pd.to_numeric(tt.measurement)\n",
    "table_agg = dfg.df_with_vectors_mean_skip_first(tt.infer_objects())\n",
    "# assert(tt.shape[0]/table_agg.shape[0]==3)\n",
    "\n"
   ]
  },
  {
   "cell_type": "code",
   "execution_count": null,
   "metadata": {},
   "outputs": [],
   "source": [
    "def provide_steerer_sort(df):\n",
    "    tmp = [st_u.SteererSort(*tup) for tup in zip(df.sc_selected, df.index)]\n",
    "    tmp.sort()\n",
    "    counter = m_u.Counter()\n",
    "    for t in tmp:\n",
    "        t.count = counter(t.name)\n",
    "    return tmp\n"
   ]
  },
  {
   "cell_type": "markdown",
   "metadata": {},
   "source": [
    "<h3> Checking measurement index step by step</h3>"
   ]
  },
  {
   "cell_type": "code",
   "execution_count": null,
   "metadata": {},
   "outputs": [],
   "source": [
    "plt.figure(figsize=[20,6])\n",
    "plt.plot(tt.index, tt.measurement, linewidth=.25)\n",
    "#pd.DataFrame.groupby?"
   ]
  },
  {
   "cell_type": "markdown",
   "metadata": {},
   "source": [
    "<h3> First tries to plot the response matrix </h3>\n",
    "\n",
    "For further data evaluation a linear fit is made to all the steerer measurements. Furthermmore the \n",
    "offset of the measurements from the fit are added.\n",
    "\n",
    "These are made using the functions:\n",
    "   * :func:`bd.calc_bpm_gains` calculates (an unbiased?) linear fit\n",
    "   * :func:`bd.calc_bpm_diff` calculates the offste of the measurement from the fit\n",
    "   \n",
    "   "
   ]
  },
  {
   "cell_type": "code",
   "execution_count": null,
   "metadata": {},
   "outputs": [],
   "source": [
    "\n",
    "table_meas = table_agg.loc[table_agg.bk_dev_mode == 'store_data',:].infer_objects()\n",
    "\n",
    "# Reduce to minimal range\n",
    "# table_meas = table_meas.loc[table_meas.relative_step.abs()<0.3,:]\n",
    "\n",
    "table_meas = m_u.add_measurement_index(table_meas)\n",
    "meas_ref = bd.calc_bpm_gains(table_meas)#.infer_objects()\n",
    "table_meas_w_ref = bd.calc_bpm_diff(table_meas, meas_ref)"
   ]
  },
  {
   "cell_type": "markdown",
   "metadata": {},
   "source": [
    "<h3> Checking if the stored scaling is correct </h3>"
   ]
  },
  {
   "cell_type": "code",
   "execution_count": null,
   "metadata": {},
   "outputs": [],
   "source": [
    "(table_meas_w_ref.bk_dev_dI/table_meas_w_ref.bk_dev_scale_factor).plot()"
   ]
  },
  {
   "cell_type": "markdown",
   "metadata": {},
   "source": [
    "<h4> Checking exciation of horizontal steerers </h4>\n",
    "\n",
    "The maxima of the following plot shoud go from -1 to 1 "
   ]
  },
  {
   "cell_type": "code",
   "execution_count": null,
   "metadata": {},
   "outputs": [],
   "source": [
    "df_hor = table_meas_w_ref.loc[table_meas_w_ref.steerer_type == 'horizontal',:]"
   ]
  },
  {
   "cell_type": "code",
   "execution_count": null,
   "metadata": {},
   "outputs": [],
   "source": [
    "#fig = plt.figure(figsize = [16,12])\n",
    "scale_hor = df_hor.bk_dev_dI/df_hor.bk_dev_scale_factor/start_current_horizontal\n",
    "(scale_hor).plot()"
   ]
  },
  {
   "cell_type": "markdown",
   "metadata": {},
   "source": [
    "The scale was also calculated, let's checi if it is the same here too\n",
    "Thus the following plot should be a consttant 1"
   ]
  },
  {
   "cell_type": "code",
   "execution_count": null,
   "metadata": {},
   "outputs": [],
   "source": [
    "plt.plot(df_hor.measurement, scale_hor, '.' ,\n",
    "         df_hor.measurement, df_hor.relative_step)"
   ]
  },
  {
   "cell_type": "code",
   "execution_count": null,
   "metadata": {},
   "outputs": [],
   "source": [
    "assert(\n",
    "    (\n",
    "        ((scale_hor - df_hor.relative_step) < 1e-10) == True\n",
    "    ).all()\n",
    ")"
   ]
  },
  {
   "cell_type": "markdown",
   "metadata": {},
   "source": [
    "<h4> Vertical mode </h4>\n",
    "Maxima should be at -1, 1\n",
    "\n",
    "One can see that the whole plot is not fully periodic. I do not yet understand why.\n",
    "I exepcted that the checks further down fail, but this is not the case ..."
   ]
  },
  {
   "cell_type": "code",
   "execution_count": null,
   "metadata": {},
   "outputs": [],
   "source": [
    "df_vert = table_meas_w_ref.loc[table_meas_w_ref.steerer_type == 'vertical',:]"
   ]
  },
  {
   "cell_type": "code",
   "execution_count": null,
   "metadata": {},
   "outputs": [],
   "source": [
    "#fig = plt.figure(figsize = [16,12])\n",
    "scale_vert = df_vert.bk_dev_dI/df_vert.bk_dev_scale_factor/start_current_vertical\n",
    "scale_vert.plot()"
   ]
  },
  {
   "cell_type": "code",
   "execution_count": null,
   "metadata": {},
   "outputs": [],
   "source": [
    "plt.plot(df_vert.measurement, scale_vert, '.' ,\n",
    "         df_vert.measurement, df_vert.relative_step)"
   ]
  },
  {
   "cell_type": "code",
   "execution_count": null,
   "metadata": {},
   "outputs": [],
   "source": [
    "assert(\n",
    "    (\n",
    "        ((scale_vert - df_vert.relative_step) < 1e-10) == True\n",
    "    ).all()\n",
    ")"
   ]
  },
  {
   "cell_type": "markdown",
   "metadata": {},
   "source": [
    "<h3> First plots of the gain matrix </h3>\n",
    "\n",
    "* Attemt to sort the steeres by position\n",
    "* Should be only made after the analysis has been made"
   ]
  },
  {
   "cell_type": "code",
   "execution_count": null,
   "metadata": {},
   "outputs": [],
   "source": [
    "meas_ref_s = meas_ref.sort_values(by='steerer_pos')\n",
    "table_meas_w_ref_s = table_meas_w_ref.sort_values(by='steerer_pos')"
   ]
  },
  {
   "cell_type": "code",
   "execution_count": null,
   "metadata": {},
   "outputs": [],
   "source": []
  },
  {
   "cell_type": "code",
   "execution_count": null,
   "metadata": {},
   "outputs": [],
   "source": [
    "gy_all = np.array(meas_ref_s.bpm_gy.tolist(), dtype=np.float_)\n",
    "gx_all = np.array(meas_ref_s.bpm_gx.tolist(), dtype=np.float_)"
   ]
  },
  {
   "cell_type": "code",
   "execution_count": null,
   "metadata": {},
   "outputs": [],
   "source": [
    "gx_all.shape"
   ]
  },
  {
   "cell_type": "code",
   "execution_count": null,
   "metadata": {},
   "outputs": [],
   "source": [
    "meas_ref.head()"
   ]
  },
  {
   "cell_type": "code",
   "execution_count": null,
   "metadata": {},
   "outputs": [],
   "source": [
    "indices =  np.arange(gx_all.shape[0])\n",
    "ds = table_agg.bpm_waveform_ds.iat[0]\n",
    "DS, Indices = np.meshgrid(ds, indices)"
   ]
  },
  {
   "cell_type": "code",
   "execution_count": null,
   "metadata": {},
   "outputs": [],
   "source": []
  },
  {
   "cell_type": "code",
   "execution_count": null,
   "metadata": {},
   "outputs": [],
   "source": [
    "savename = os.path.join(path, 'response_matrix_x.png')\n",
    "fig = plt.figure(figsize=[16,12])\n",
    "ax = Axes3D(fig)\n",
    "ax.plot_surface(Indices, DS, gx_all, rstride=1, cstride=1, cmap=cm.viridis)\n",
    "ax.set_xlabel('steerer_index')\n",
    "ax.set_ylabel('bpm position [m]')\n",
    "ax.set_zlabel('$g_x$ [mm/A]')\n",
    "fig.savefig(savename, dpi=100)"
   ]
  },
  {
   "cell_type": "code",
   "execution_count": null,
   "metadata": {},
   "outputs": [],
   "source": [
    "savename = os.path.join(path, 'response_matrix_y.png')\n",
    "fig = plt.figure(figsize=[16,12])\n",
    "ax = Axes3D(fig)\n",
    "ax.plot_surface(Indices, DS, gy_all, rstride=1, cstride=1, cmap=cm.viridis)\n",
    "ax.set_xlabel('steerer_index')\n",
    "ax.set_ylabel('bpm position [m]')\n",
    "ax.set_zlabel('$g_y$ [mm/A]')\n",
    "fig.savefig(savename, dpi=100)"
   ]
  },
  {
   "cell_type": "markdown",
   "metadata": {},
   "source": [
    "<h2> First tries to analyse the offsets of the steerers </h2>\n",
    "\n",
    "The offset of the measurement data to the interpolated line is added to the data "
   ]
  },
  {
   "cell_type": "code",
   "execution_count": null,
   "metadata": {},
   "outputs": [],
   "source": [
    "def add_steerer_scale(df, column_name='sc_selected', copy=True):\n",
    "    if copy:\n",
    "        df = df.copy()\n",
    "\n",
    "    df.bpm_x_diff = df.bpm_waveform_x_pos - df.bpm_x_ref\n",
    "    df.bpm_y_diff = df.bpm_waveform_y_pos - df.bpm_y_ref\n",
    "    \n",
    "    grp = df.groupby(by='sc_selected')\n",
    "    for steerer_name, index in grp.groups.items():\n",
    "        sel = df.loc[index,:]\n",
    "        sel_ri = sel.loc[sel.ramp_index == 4,:]\n",
    "        assert(sel_ri.shape[0] == 1)\n",
    "        \n",
    "        # scale for the x factor\n",
    "        s_x = sel_ri.bpm_waveform_x_pos.iat[0]\n",
    "        # scale for the y factor\n",
    "        s_y = sel_ri.bpm_waveform_y_pos.iat[0]\n",
    "        \n",
    "        li = len(index)\n",
    "        ss_x = pd.Series(index=index, data=[s_x] * li, dtype=np.object_)\n",
    "        ss_y = pd.Series(index=index, data=[s_y] * li, dtype=np.object_)\n",
    "            \n",
    "        df.loc[index, 'bpm_x_scale'] = ss_x\n",
    "        df.loc[index, 'bpm_y_scale'] = ss_y\n",
    "        \n",
    "    return df\n",
    "        #break  \n",
    "    "
   ]
  },
  {
   "cell_type": "code",
   "execution_count": null,
   "metadata": {},
   "outputs": [],
   "source": [
    "table_meas_w_ref = add_steerer_scale(table_meas_w_ref)"
   ]
  },
  {
   "cell_type": "code",
   "execution_count": null,
   "metadata": {},
   "outputs": [],
   "source": [
    "table_meas_w_ref;"
   ]
  },
  {
   "cell_type": "markdown",
   "metadata": {},
   "source": [
    "excluded_steerers = ['hs4p1d3r',\n",
    "                     'vs2p2t1r',\n",
    "                     'vs3p2t8r'\n",
    "                     #'hs1pd4r'\n",
    "                    ]"
   ]
  },
  {
   "cell_type": "markdown",
   "metadata": {},
   "source": [
    "Select only the columns required for further processing.\n",
    "This makes the further treatment of the tables considerably faster"
   ]
  },
  {
   "cell_type": "code",
   "execution_count": null,
   "metadata": {},
   "outputs": [],
   "source": [
    "cols = [\n",
    "    'time', 'sc_selected', 'ramp_index', \n",
    "    'bpm_x_diff', 'bpm_y_diff',  \n",
    "    'bpm_x_scale', 'bpm_y_scale', \n",
    "    'bpm_x_ref', 'bpm_y_ref', \n",
    "    'bpm_waveform_ds', 'measurement',\n",
    "    'relative_step',\n",
    "    'steerer_pos'\n",
    "]\n",
    "tt2 = table_meas_w_ref.sort_values(by='steerer_pos').loc[:, cols]\n",
    "#tt2 = tt2.loc[~tt2.sc_selected.isin(excluded_steerers),:]\n",
    "#table_meas_w_ref.steerer_pos"
   ]
  },
  {
   "cell_type": "code",
   "execution_count": null,
   "metadata": {},
   "outputs": [],
   "source": [
    "tt2.sc_selected.iat[16]"
   ]
  },
  {
   "cell_type": "code",
   "execution_count": null,
   "metadata": {},
   "outputs": [],
   "source": [
    "steerer_sel = 'hs1pd1r'\n",
    "\n",
    "importlib.reload(dfg)\n",
    "#df_sel = dfg.df_with_vectors_amax(tt2, 'sc_selected')\n",
    "# df_sel = table_meas_w_ref.loc[table_meas_w_ref.sc_selected==steerer_sel,:]\n",
    "df_sel = tt2.loc[(tt2.relative_step.abs() < .3) & (tt2.relative_step.abs() > 1e-3), :]\n",
    "dx_one = np.array(df_sel.bpm_x_diff.tolist(), dtype=np.float_)\n",
    "dy_one = np.array(df_sel.bpm_y_diff.tolist(), dtype=np.float_)\n",
    "dx_s   = np.array(df_sel.bpm_x_scale.tolist(), dtype=np.float_)\n",
    "dy_s   = np.array(df_sel.bpm_y_scale.tolist(), dtype=np.float_)"
   ]
  },
  {
   "cell_type": "code",
   "execution_count": null,
   "metadata": {},
   "outputs": [],
   "source": [
    "df_sel.shape"
   ]
  },
  {
   "cell_type": "markdown",
   "metadata": {},
   "source": [
    "Beam position monitors which are currently considered to give faulty results"
   ]
  },
  {
   "cell_type": "code",
   "execution_count": null,
   "metadata": {},
   "outputs": [],
   "source": [
    "#ds = table_meas_w_ref.bpm_waveform_ds.iat[0]\n",
    "bpm_indices = np.ones(table_meas_w_ref.bpm_waveform_ds.iat[0].shape, np.bool_)\n",
    "\n",
    "# Needs to be rechecked\n",
    "# TZesting if scanning over all data\n",
    "bpm_indices[65] = 0\n",
    "#bpm_indices[60:80] = 0\n",
    "\n",
    "\n",
    "bpm_indices[93] = 0\n",
    "\n",
    "\n",
    "bpm_indices[41] = 0\n",
    "bpm_indices[8] = 0\n",
    "bpm_indices[71] = 0\n",
    "bpm_indices[82] = 0\n",
    "bpm_indices[64] = 0\n",
    "np.array(table_meas_w_ref.bpm_waveform_names.iat[0])[~bpm_indices]"
   ]
  },
  {
   "cell_type": "code",
   "execution_count": null,
   "metadata": {},
   "outputs": [],
   "source": [
    "def data_only_with_working_bpms(data, working_bpms=bpm_indices):\n",
    "    ndata = data[:, working_bpms]\n",
    "    return ndata"
   ]
  },
  {
   "cell_type": "code",
   "execution_count": null,
   "metadata": {},
   "outputs": [],
   "source": [
    "dx_s_one = dx_one/dx_s\n",
    "dy_s_one = dy_one/dy_s\n",
    "\n",
    "indices =  np.arange(len(df_sel.sc_selected))\n",
    "\n",
    "ds = table_meas_w_ref.bpm_waveform_ds.iat[0]\n",
    "ds = np.arange(len(ds))\n",
    "\n",
    "if True:\n",
    "    ds = ds[bpm_indices]\n",
    "    dx_s_one, dy_s_one = map(data_only_with_working_bpms, [dx_s_one, dy_s_one])\n",
    "                  \n",
    "# dx_s_one = dx_s_one[:,bpm_indices]\n",
    "# dy_s_one = dy_s_one[:,bpm_indices]\n",
    "                     \n",
    "s, e = 0, 1000\n",
    "#s, e = 64, 70\n",
    "                     #s, e = 58, 68\n",
    "ds = ds[s:e]\n",
    "dx_s_one = dx_s_one[:,s:e]\n",
    "dy_s_one = dy_s_one[:,s:e]\n",
    "DS, Indices = np.meshgrid(ds, indices)"
   ]
  },
  {
   "cell_type": "code",
   "execution_count": null,
   "metadata": {},
   "outputs": [],
   "source": [
    "table_meas_w_ref.bpm_waveform_ds;"
   ]
  },
  {
   "cell_type": "code",
   "execution_count": null,
   "metadata": {},
   "outputs": [],
   "source": [
    "Indices.shape, DS.shape, dx_s_one.shape"
   ]
  },
  {
   "cell_type": "code",
   "execution_count": null,
   "metadata": {},
   "outputs": [],
   "source": [
    "savename = os.path.join(path, 'steerer_inhomogeneity_{}_x.png'.format(steerer_sel))\n",
    "fig = plt.figure(figsize=[16,12])\n",
    "ax = Axes3D(fig)\n",
    "ax.plot_surface(DS, Indices, dx_s_one, rstride=1, cstride=1, cmap=cm.viridis)\n",
    "ax.set_ylabel('ramp_index')\n",
    "ax.set_xlabel('bpm position [m]')\n",
    "ax.set_zlabel('$d_x$ [$\\mu$m]')\n",
    "fig.savefig(savename, dpi=100)"
   ]
  },
  {
   "cell_type": "code",
   "execution_count": null,
   "metadata": {},
   "outputs": [],
   "source": [
    "np.absolute(dx_s_one).argmax(axis=0)"
   ]
  },
  {
   "cell_type": "code",
   "execution_count": null,
   "metadata": {},
   "outputs": [],
   "source": [
    "savename = os.path.join(path, 'steerer_inhomogeneity_{}_y.png'.format(steerer_sel))\n",
    "fig = plt.figure(figsize=[16,12])\n",
    "ax = Axes3D(fig)\n",
    "ax.plot_surface(DS, Indices, dy_s_one, rstride=1, cstride=1, cmap=cm.viridis)\n",
    "ax.set_ylabel('ramp_index')\n",
    "ax.set_xlabel('bpm position [m]')\n",
    "ax.set_zlabel('$d_y$ [$\\mu$m]')\n",
    "fig.savefig(savename, dpi=100)"
   ]
  },
  {
   "cell_type": "code",
   "execution_count": null,
   "metadata": {},
   "outputs": [],
   "source": [
    "table_meas_w_ref.columns"
   ]
  },
  {
   "cell_type": "code",
   "execution_count": null,
   "metadata": {},
   "outputs": [],
   "source": [
    "def prepare_offset_from_fit(df, coor, scale = 1000, mode = 'rscale'):\n",
    "    '''\n",
    "    \n",
    "    Args:\n",
    "        scale: scale the value (default 1000 corresponds from mm to um)\n",
    "    '''\n",
    "    if coor == 'x':\n",
    "        diff = df.bpm_x_diff\n",
    "        bscale = df.bpm_x_scale\n",
    "        refv = df.bpm_x_ref\n",
    "\n",
    "    elif coor == 'y':\n",
    "        diff = df.bpm_y_diff\n",
    "        bscale = df.bpm_y_scale\n",
    "        refv = df.bpm_y_ref\n",
    "     \n",
    "    else:\n",
    "        raise AssertionError(f'Coordinate {coor} unknown')\n",
    "\n",
    "    offset = np.array(diff.tolist(), dtype=np.float_)\n",
    "    gain = np.array(bscale.tolist(), dtype=np.float_)\n",
    "    ref = np.array(refv.tolist(), dtype=np.float_)\n",
    "    \n",
    "    del diff, bscale, refv\n",
    "    # The \"polarity\" of some steeres could be changed. Then they would\n",
    "    # kick to the same side of the orbit\n",
    "    sign = np.sign(gain)\n",
    "\n",
    "    \n",
    "    if mode == 'offset':\n",
    "        # mm to um\n",
    "        res = offset * scale\n",
    "    elif mode == 'offset_sign':\n",
    "        # Just scale by sign ... \n",
    "        res = offset * scale\n",
    "        res = res * sign\n",
    "    elif mode == 'rscale':\n",
    "        # Need to fix divison by zero\n",
    "        ref < 1e-16\n",
    "        res = offset / ref\n",
    "    return res\n"
   ]
  },
  {
   "cell_type": "code",
   "execution_count": null,
   "metadata": {},
   "outputs": [],
   "source": [
    "if False:\n",
    "    df_sel = dfg.df_with_vectors_max(table_meas_w_ref, 'sc_selected')\n",
    "\n",
    "    sdx_all = prepare_offset_from_fit(df_sel, 'x')\n",
    "    sdy_all = prepare_offset_from_fit(df_sel, 'y')\n",
    "    indices =  df_sel.measurement\n",
    "else:\n",
    "    sdx_all = prepare_offset_from_fit(table_meas_w_ref, 'x')\n",
    "    sdy_all = prepare_offset_from_fit(table_meas_w_ref, 'y')\n",
    "    indices = table_meas_w_ref.measurement\n",
    "\n",
    "val = 10\n",
    "# sdx_all[np.absolute(sdx_all>val)] = 0\n"
   ]
  },
  {
   "cell_type": "code",
   "execution_count": null,
   "metadata": {},
   "outputs": [],
   "source": [
    "df_sel.bpm_x_ref"
   ]
  },
  {
   "cell_type": "code",
   "execution_count": null,
   "metadata": {},
   "outputs": [],
   "source": [
    "df_sel = df_sel.sort_values(by='steerer_pos')\n",
    "\n",
    "ds = df_sel.bpm_waveform_ds.iat[0]\n",
    "\n",
    "if True:\n",
    "    sdx_all = data_only_with_working_bpms(sdx_all)\n",
    "    sdy_all = data_only_with_working_bpms(sdy_all)\n",
    "    ds = ds[bpm_indices]\n",
    "DS, Indices = np.meshgrid(ds, indices)"
   ]
  },
  {
   "cell_type": "code",
   "execution_count": null,
   "metadata": {},
   "outputs": [],
   "source": [
    "sdx_all.shape, DS.shape, Indices.shape"
   ]
  },
  {
   "cell_type": "code",
   "execution_count": null,
   "metadata": {},
   "outputs": [],
   "source": [
    "savename = os.path.join(path, 'steerer_inhomogeneity_all_x.png')\n",
    "fig = plt.figure(figsize=[16,12])\n",
    "ax = Axes3D(fig)\n",
    "ax.plot_surface(Indices, DS, sdx_all, rstride=1, cstride=1, cmap=cm.viridis)\n",
    "ax.set_xlabel('ramp_index')\n",
    "ax.set_ylabel('bpm position [m]')\n",
    "ax.set_zlabel('$d_x$ [$\\mu$m]')\n",
    "fig.savefig(savename, dpi=100)"
   ]
  },
  {
   "cell_type": "code",
   "execution_count": null,
   "metadata": {},
   "outputs": [],
   "source": [
    "savename = os.path.join(path, 'steerer_inhomogeneity_all_y.png')\n",
    "fig = plt.figure(figsize=[16,12])\n",
    "ax = Axes3D(fig)\n",
    "ax.plot_surface(Indices, DS, sdy_all, rstride=1, cstride=1, cmap=cm.viridis)\n",
    "ax.set_xlabel('ramp_index')\n",
    "ax.set_ylabel('bpm position [m]')\n",
    "ax.set_zlabel('$sd_x$')\n",
    "fig.savefig(savename, dpi=100)"
   ]
  },
  {
   "cell_type": "code",
   "execution_count": null,
   "metadata": {},
   "outputs": [],
   "source": []
  },
  {
   "cell_type": "markdown",
   "metadata": {},
   "source": []
  },
  {
   "cell_type": "code",
   "execution_count": null,
   "metadata": {},
   "outputs": [],
   "source": [
    "mlab.surf(Indices, DS, sdy_all)"
   ]
  },
  {
   "cell_type": "code",
   "execution_count": null,
   "metadata": {},
   "outputs": [],
   "source": []
  }
 ],
 "metadata": {
  "kernelspec": {
   "display_name": "Python 3",
   "language": "python",
   "name": "python3"
  },
  "language_info": {
   "codemirror_mode": {
    "name": "ipython",
    "version": 3
   },
   "file_extension": ".py",
   "mimetype": "text/x-python",
   "name": "python",
   "nbconvert_exporter": "python",
   "pygments_lexer": "ipython3",
   "version": "3.6.8"
  }
 },
 "nbformat": 4,
 "nbformat_minor": 2
}
