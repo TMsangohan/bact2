{
 "cells": [
  {
   "cell_type": "code",
   "execution_count": 2,
   "metadata": {
    "slideshow": {
     "slide_type": "skip"
    }
   },
   "outputs": [],
   "source": [
    "from IPython.display import display, Markdown, Latex"
   ]
  },
  {
   "cell_type": "code",
   "execution_count": 3,
   "metadata": {
    "slideshow": {
     "slide_type": "skip"
    }
   },
   "outputs": [],
   "source": [
    "from notebook.services.config import ConfigManager\n",
    "cm = ConfigManager()"
   ]
  },
  {
   "cell_type": "code",
   "execution_count": 4,
   "metadata": {
    "slideshow": {
     "slide_type": "skip"
    }
   },
   "outputs": [
    {
     "data": {
      "text/plain": [
       "{'width': 1000, 'height': 600, 'scroll': True}"
      ]
     },
     "execution_count": 4,
     "metadata": {},
     "output_type": "execute_result"
    }
   ],
   "source": [
    "cm.update('livereveal', {\n",
    "              'width': 1000,\n",
    "              'height': 600,\n",
    "              'scroll': True,\n",
    "})"
   ]
  },
  {
   "cell_type": "code",
   "execution_count": 5,
   "metadata": {
    "slideshow": {
     "slide_type": "skip"
    }
   },
   "outputs": [],
   "source": [
    "# Let's see if the required installation is available\n",
    "import ophyd\n",
    "import bluesky\n",
    "\n",
    "\n",
    "# Select a read only variable which gives a new output every now and then\n",
    "# I could use the simulation ones from ophyd. I prefer to use some real \n",
    "# device\n",
    "\n",
    "# One read only device\n",
    "sig_ro = 'TOPUPCC:rdCur'\n",
    "\n",
    "# A second read only device\n",
    "sig_ro2 = 'MCLKHX251C:freq'\n",
    "\n",
    "# Furthermore let's use good practice: a single bluesky run engine\n",
    "has_run_engine = False\n",
    "try:\n",
    "    RE\n",
    "    has_run_engine = True\n",
    "except NameError:\n",
    "    pass\n",
    "    \n",
    "if not has_run_engine:\n",
    "    RE = bluesky.RunEngine()\n",
    "    \n",
    "assert(callable(RE))"
   ]
  },
  {
   "cell_type": "code",
   "execution_count": 6,
   "metadata": {
    "slideshow": {
     "slide_type": "skip"
    }
   },
   "outputs": [],
   "source": [
    "# Let's set up nb kicker\n",
    "import matplotlib\n",
    "%matplotlib inline\n",
    "import bluesky.utils\n",
    "bluesky.utils.install_nb_kicker()"
   ]
  },
  {
   "cell_type": "code",
   "execution_count": 7,
   "metadata": {
    "slideshow": {
     "slide_type": "skip"
    }
   },
   "outputs": [
    {
     "name": "stdout",
     "output_type": "stream",
     "text": [
      "Epics PV TOPUPCC:rdCur: Got value 0.0\n",
      "Epics PV MCLKHX251C:freq: Got value 499621.31788209\n"
     ]
    }
   ],
   "source": [
    "#Let's test that the epics variables are really available\n",
    "import epics\n",
    "import functools\n",
    "\n",
    "# A little hack to minimize load on the real IOC's\n",
    "@functools.lru_cache(maxsize=None)\n",
    "def create_pv(name):\n",
    "    t_pv = epics.PV(name)\n",
    "    return t_pv\n",
    "\n",
    "# This test should print some values.\n",
    "# I do it directly using epics.PV to have direct control\n",
    "# on connections etc ....\n",
    "for ro_name in [sig_ro, sig_ro2]:\n",
    "    a_pv = create_pv(ro_name)\n",
    "    value = a_pv.value\n",
    "    print(f'Epics PV {ro_name}: Got value {value}')"
   ]
  },
  {
   "cell_type": "markdown",
   "metadata": {
    "slideshow": {
     "slide_type": "slide"
    }
   },
   "source": [
    "<h1> Introduction to Bluesky and Ophyd </h1>\n",
    "\n",
    "Author: Pierre Schnizer\n"
   ]
  },
  {
   "cell_type": "markdown",
   "metadata": {
    "slideshow": {
     "slide_type": "subslide"
    }
   },
   "source": [
    "<h2> Literature </h2>\n",
    "\n",
    "<h3> Python knowledge </h3>\n",
    "\n",
    "* classes and inheritance\n",
    "* generators  \n",
    "* decorators\n",
    "* asyncio\n",
    "* Global Intepreter Lock\n",
    "\n"
   ]
  },
  {
   "cell_type": "markdown",
   "metadata": {
    "slideshow": {
     "slide_type": "notes"
    }
   },
   "source": [
    "<h2> Literature </h2>\n",
    "\n",
    "<h3> Python </h3>\n",
    "The author assumes that the reader is familiar with python language version 3. \n",
    "Bluesky and Ophyd make have use of:\n",
    "\n",
    "* asyncio\n",
    "* generators  \n",
    "* decorators\n",
    "* Global Intepreter Lock\n",
    "\n"
   ]
  },
  {
   "cell_type": "markdown",
   "metadata": {
    "slideshow": {
     "slide_type": "subslide"
    }
   },
   "source": [
    "<h3> Abstraction </h3>\n",
    "\n",
    "Most of these implementation details are abstracted in an elegant manner. \n",
    "But ocassioally, in particular when debugging \n",
    "a faulty device driver, it can be helpful to be awaare of the general concepts of asynchronous programming.\n",
    "\n",
    "Generators are used by bluesky plans or plan stubs. If plans are used, which are provided by bluesky,\n",
    "the user does not need to worry about these details.\n",
    "\n",
    "If one wants to implement ophyd device drivers, the concept of classes should be understood.\n",
    "\n",
    "<h3> Bluesky and ophyd links </h3>\n",
    "\n",
    "* Bluesky and ophyd are available from https://github.com/bluesky/bluesky\n",
    "* Documentation: https://blueskyproject.io/bluesky/\n",
    "* Tutorial: https://github.com/bluesky/tutorial/\n",
    "* Chat https://gitter.im/NSLS-II/DAMA"
   ]
  },
  {
   "cell_type": "markdown",
   "metadata": {
    "slideshow": {
     "slide_type": "slide"
    }
   },
   "source": [
    "<h2> General Concepts </h2>\n",
    "\n",
    "Bluesky is used with already two meanings:\n",
    "* Bluesky collaboration: a set of different modules used to simplify taking data within the EPICS control system environement\n",
    "* Bluesky as the python module, which provides the RunEngine and plans\n",
    "\n",
    "In the following I will use \"Bluesky\" as reference to the module. If I want to refer to the whole package, I refer to it\n",
    "as \"Bluesky measurement orchestration\"\n",
    "\n"
   ]
  },
  {
   "cell_type": "markdown",
   "metadata": {
    "slideshow": {
     "slide_type": "subslide"
    }
   },
   "source": [
    "<h3> Bluesky build up</h3>\n",
    "\n",
    "Bluesky collaboration uses the following concpets:\n",
    "* A control system (EPICS) is responsible for taking data\n",
    "* This control system provides asynchronos and parallel access to the devices using variables\n",
    "* It separates device abstraction from measurement plans\n",
    "* In this concept:\n",
    "\n",
    "    * Ophyd allows making devices accessible abstracted as classes with different methods\n",
    "    * Bluesky provides measurement plans and the run engine\n",
    "    * The run engine executes the plans by calling appropriate methods of the involved devices. \n",
    "      (This description is a bit imprecise and will be detailed further below)\n",
    "\n",
    "\n"
   ]
  },
  {
   "cell_type": "markdown",
   "metadata": {
    "slideshow": {
     "slide_type": "subslide"
    }
   },
   "source": [
    "<h3> Asynchronous access</h3>\n",
    "\n",
    "At this stage, one could still directly access the different process variables. But the run engine\n",
    "assures that these are accessed in an asynchronous fashion. How this works is detailed below.\n",
    "\n",
    "Furthermore:\n",
    "* these modules (as much as python) are not real time software (and in particular not \n",
    "  *hard* real time software)\n",
    "* but it has the tools to:\n",
    "  * set up different hard real time devices\n",
    "  * to get them going \n",
    "  * and to collect their data in the end\n",
    "* It is right to control a small or medium size experiments\n",
    "\n",
    "Your millage may vary ;-)"
   ]
  },
  {
   "cell_type": "markdown",
   "metadata": {
    "slideshow": {
     "slide_type": "slide"
    }
   },
   "source": [
    "<h3> Device driver example </h3>\n",
    "\n",
    "Let's look to a simple device driver. For the beginning let's assume we have a read only\n",
    "Epics variable with name `sig_ro`.\n"
   ]
  },
  {
   "cell_type": "code",
   "execution_count": 8,
   "metadata": {
    "slideshow": {
     "slide_type": "fragment"
    }
   },
   "outputs": [],
   "source": [
    "from ophyd import Device, Component as Cpt, EpicsSignalRO\n",
    "\n",
    "class ReadonlyDevice(Device):\n",
    "    \"\"\"A simple sample device\n",
    "    \n",
    "    This devivce is solely used to describe the methods\n",
    "    \"\"\"\n",
    "    ro = Cpt(EpicsSignalRO, sig_ro)"
   ]
  },
  {
   "cell_type": "code",
   "execution_count": 9,
   "metadata": {
    "slideshow": {
     "slide_type": "skip"
    }
   },
   "outputs": [],
   "source": [
    "# let's keep namespace clean \n",
    "del Device, Cpt, EpicsSignalRO"
   ]
  },
  {
   "cell_type": "markdown",
   "metadata": {
    "slideshow": {
     "slide_type": "subslide"
    }
   },
   "source": [
    "<h3> Instantiating Run Engine </h3>\n",
    "    \n",
    "* A Run Engine is required to execute plans for executing the measurement.\n",
    "* A Run Eninge should be tyically only instantiated once. \n",
    "* So better to check if one is there already:"
   ]
  },
  {
   "cell_type": "code",
   "execution_count": 10,
   "metadata": {
    "slideshow": {
     "slide_type": "fragment"
    }
   },
   "outputs": [
    {
     "data": {
      "text/plain": [
       "<bluesky.run_engine.RunEngine at 0x7fc45c42a1d0>"
      ]
     },
     "execution_count": 10,
     "metadata": {},
     "output_type": "execute_result"
    }
   ],
   "source": [
    "RE"
   ]
  },
  {
   "cell_type": "markdown",
   "metadata": {
    "slideshow": {
     "slide_type": "fragment"
    }
   },
   "source": [
    "* if a name error occurs use the code below\n",
    "* don't forget to uncomment the run engine defintion"
   ]
  },
  {
   "cell_type": "code",
   "execution_count": 11,
   "metadata": {
    "slideshow": {
     "slide_type": "fragment"
    }
   },
   "outputs": [],
   "source": [
    "from bluesky import RunEngine\n",
    "\n",
    "# if the code above gives a name error, \n",
    "# uncomment the following line\n",
    "# RE = RunEngine({})"
   ]
  },
  {
   "cell_type": "markdown",
   "metadata": {
    "slideshow": {
     "slide_type": "subslide"
    }
   },
   "source": [
    "<h3>Executing a simple measurement</h3>\n",
    "\n",
    "* That's all the setup required if nothing fancy needed\n",
    "* Now let's read the detector 5 times"
   ]
  },
  {
   "cell_type": "code",
   "execution_count": 12,
   "metadata": {
    "slideshow": {
     "slide_type": "fragment"
    }
   },
   "outputs": [
    {
     "data": {
      "text/plain": [
       "('82518b35-0f0e-484b-b793-08b43913c116',)"
      ]
     },
     "execution_count": 12,
     "metadata": {},
     "output_type": "execute_result"
    }
   ],
   "source": [
    "from bluesky import plans as bps \n",
    "\n",
    "ro_dev = ReadonlyDevice(name = 'sig')\n",
    "\n",
    "if not ro_dev.connected:\n",
    "    ro_dev.wait_for_connection()\n",
    "\n",
    "detectors = [ro_dev]\n",
    "RE(bps.count(detectors, 5))"
   ]
  },
  {
   "cell_type": "markdown",
   "metadata": {
    "slideshow": {
     "slide_type": "subslide"
    }
   },
   "source": [
    "<h3> Device: What's happening under the hood?</h3>"
   ]
  },
  {
   "cell_type": "markdown",
   "metadata": {
    "slideshow": {
     "slide_type": "fragment"
    }
   },
   "source": [
    "The `Device` code is not yet really showing what happens, so lets see what is happening under the hood.\n",
    "\n",
    "This we can do if we use the same code as above and enable logging"
   ]
  },
  {
   "cell_type": "code",
   "execution_count": 13,
   "metadata": {
    "slideshow": {
     "slide_type": "fragment"
    }
   },
   "outputs": [
    {
     "name": "stdout",
     "output_type": "stream",
     "text": [
      "[I 17:28:43.480 run_engine:821] Executing plan <generator object count at 0x7fc451f10f48>\n",
      "[I 17:28:43.481 run_engine:116] Change state on <bluesky.run_engine.RunEngine object at 0x7fc45c42a1d0> from 'idle' -> 'running'\n",
      "[D 17:28:43.482 run_engine:1421] stage: (ReadonlyDevice(prefix='', name='sig', read_attrs=['ro'], configuration_attrs=[])), (), {}\n",
      "[D 17:28:43.482 run_engine:1421] open_run: (None), (), {'detectors': ['sig'], 'num_points': 1, 'num_intervals': 0, 'plan_args': {'detectors': [\"ReadonlyDevice(prefix='', name='sig', read_attrs=['ro'], configuration_attrs=[])\"], 'num': 1}, 'plan_name': 'count', 'hints': {'dimensions': [(('time',), 'primary')]}}\n",
      "[D 17:28:43.483 run_engine:1631] Emitted RunStart (uid='7cdde793-221a-4864-8338-cc32ea7cabcf')\n",
      "[D 17:28:43.483 run_engine:1421] checkpoint: (None), (), {}\n",
      "[D 17:28:43.484 run_engine:1421] trigger: (ReadonlyDevice(prefix='', name='sig', read_attrs=['ro'], configuration_attrs=[])), (), {'group': 'trigger-7f4ba2'}\n",
      "[D 17:28:43.484 run_engine:2245] The object ReadonlyDevice(prefix='', name='sig', read_attrs=['ro'], configuration_attrs=[]) reports trigger is done with status True.\n",
      "[D 17:28:43.484 run_engine:1421] wait: (None), (), {'group': 'trigger-7f4ba2'}\n",
      "[D 17:28:43.485 run_engine:1421] create: (None), (), {'name': 'primary'}\n",
      "[D 17:28:43.485 run_engine:1421] read: (ReadonlyDevice(prefix='', name='sig', read_attrs=['ro'], configuration_attrs=[])), (), {}\n",
      "[D 17:28:43.491 run_engine:1421] save: (None), (), {}\n",
      "[D 17:28:43.492 run_engine:1946] Emitted Event Descriptor with name 'primary' containing data keys dict_keys(['sig_ro']) (uid='b54adb30-47ca-49e0-afe8-8dd5edba9263')\n",
      "[D 17:28:43.493 run_engine:1978] Emitted Event with data keys dict_keys(['sig_ro']) (uid='b5e628c5-688f-44d8-96dc-0ce27ae23c2e')\n",
      "[D 17:28:43.493 run_engine:1421] close_run: (None), (), {'exit_status': None, 'reason': None}\n",
      "[D 17:28:43.494 run_engine:1663] Stopping run '7cdde793-221a-4864-8338-cc32ea7cabcf'\n",
      "[D 17:28:43.494 run_engine:1688] Emitted RunStop (uid='d650e165-b3b4-40e6-8a2a-42e32c012a4f')\n",
      "[D 17:28:43.495 run_engine:1421] unstage: (ReadonlyDevice(prefix='', name='sig', read_attrs=['ro'], configuration_attrs=[])), (), {}\n",
      "[I 17:28:43.495 run_engine:116] Change state on <bluesky.run_engine.RunEngine object at 0x7fc45c42a1d0> from 'running' -> 'idle'\n",
      "[I 17:28:43.496 run_engine:1570] Cleaned up from plan <generator object count at 0x7fc451f10f48>\n"
     ]
    },
    {
     "data": {
      "text/plain": [
       "('7cdde793-221a-4864-8338-cc32ea7cabcf',)"
      ]
     },
     "execution_count": 13,
     "metadata": {},
     "output_type": "execute_result"
    }
   ],
   "source": [
    "# Check that debug print works!\n",
    "#RE.log.setLevel('INFO')\n",
    "ro_dev = ReadonlyDevice(name = 'sig')\n",
    "\n",
    "\n",
    "if not ro_dev.connected:\n",
    "    ro_dev.wait_for_connection()\n",
    "\n",
    "detectors = [ro_dev]\n",
    "RE.log.setLevel('DEBUG')\n",
    "RE(bps.count(detectors, 1))"
   ]
  },
  {
   "cell_type": "markdown",
   "metadata": {
    "slideshow": {
     "slide_type": "subslide"
    }
   },
   "source": [
    "Now let's look to the output. There is quite some output being presented. \n",
    "What is happending? Let's look under the hood:\n",
    "\n",
    "* There is a call to trigger made\n",
    "* There is a call to read\n",
    "\n",
    "So what's the difference?\n",
    "* The method trigger is allowed to take time (but not significant computation time!) \n",
    "* The method read is used to retrieve the data\n",
    "\n",
    "What are the two methods doing (using the :class:`ophyd.Device`):\n",
    "* The method \"trigger\" triggers a device and waits for it to deliver data\n",
    "* The method \"read\" reads actually the data\n",
    "\n",
    "\n",
    "**NB** who to actually trigger a device is shown further down\n",
    "\n",
    "Let's intercept the methods to get a better understanding"
   ]
  },
  {
   "cell_type": "markdown",
   "metadata": {
    "slideshow": {
     "slide_type": "slide"
    }
   },
   "source": [
    "<h3> Setting up logging output </h3>\n",
    "\n",
    "Bluesky and ophyd simplify logging if one\n",
    "* intercepts calls: method overloading\n",
    "* activates logging accordingly"
   ]
  },
  {
   "cell_type": "markdown",
   "metadata": {
    "slideshow": {
     "slide_type": "subslide"
    }
   },
   "source": [
    "<h4> Logging by method overloading <h4>"
   ]
  },
  {
   "cell_type": "code",
   "execution_count": 14,
   "metadata": {
    "slideshow": {
     "slide_type": "fragment"
    }
   },
   "outputs": [],
   "source": [
    "from ophyd import Component as Cpt, Device as _oDevice, EpicsSignalRO as _oEpicsSignalRO\n",
    "class LogMethodCalls:\n",
    "    def trigger(self):\n",
    "        status = super().trigger()\n",
    "        cls_name = self.__class__.__name__\n",
    "        txt = f'{cls_name} method trigger returned {status}'\n",
    "        self.log.debug(txt)\n",
    "        return status\n",
    "    \n",
    "    def read(self):\n",
    "        result = super().read()\n",
    "        cls_name = self.__class__.__name__\n",
    "        txt = f'{cls_name} method read returned {result}'\n",
    "        self.log.debug(txt)\n",
    "        return result\n",
    "\n",
    "class Device(LogMethodCalls, _oDevice):\n",
    "    pass\n",
    "\n",
    "class EpicsSignalRO(LogMethodCalls, _oEpicsSignalRO):\n",
    "    pass\n"
   ]
  },
  {
   "cell_type": "markdown",
   "metadata": {
    "slideshow": {
     "slide_type": "subslide"
    }
   },
   "source": [
    "<h4> Device logging </h4>\n",
    "\n",
    "* With the fragment above the code only requires to be executed again\n",
    "* **NB** please take care that 'Device' and 'EpicsSignalRO' are not imported from 'ophyd'"
   ]
  },
  {
   "cell_type": "code",
   "execution_count": 15,
   "metadata": {
    "slideshow": {
     "slide_type": "fragment"
    }
   },
   "outputs": [],
   "source": [
    "class ReadonlyDevice(Device):\n",
    "    \"\"\"A simple sample device\n",
    "    \n",
    "    This devive is solely implemented as an example for a simple read only device\n",
    "    \"\"\"\n",
    "    ro = Cpt(EpicsSignalRO, sig_ro)"
   ]
  },
  {
   "cell_type": "markdown",
   "metadata": {
    "slideshow": {
     "slide_type": "subslide"
    }
   },
   "source": [
    "<h4> Setting up loggers </h4>\n",
    "\n",
    "* Bluesky has a nice formatted logger\n",
    "* logging.basicConfig interfers with this setup\n",
    "* Nicer output is given by \n",
    "\n",
    "This is achieved in the following manner\n",
    "* instantiate the device\n"
   ]
  },
  {
   "cell_type": "code",
   "execution_count": 16,
   "metadata": {
    "slideshow": {
     "slide_type": "fragment"
    }
   },
   "outputs": [],
   "source": [
    "ro_dev = ReadonlyDevice(name = 'sig')"
   ]
  },
  {
   "cell_type": "markdown",
   "metadata": {
    "slideshow": {
     "slide_type": "fragment"
    }
   },
   "source": [
    "Install the appropriate handler\n",
    "* select bluesky handler\n",
    "* register it with (the parent) of the device logger"
   ]
  },
  {
   "cell_type": "code",
   "execution_count": 17,
   "metadata": {
    "slideshow": {
     "slide_type": "fragment"
    }
   },
   "outputs": [],
   "source": [
    "bp_re_log = RE.log.parent.handlers[0]\n",
    "ro_dev.log.parent.addHandler(bp_re_log)"
   ]
  },
  {
   "cell_type": "markdown",
   "metadata": {
    "slideshow": {
     "slide_type": "subslide"
    }
   },
   "source": [
    "Finally set the logging level appropriately"
   ]
  },
  {
   "cell_type": "code",
   "execution_count": 18,
   "metadata": {
    "slideshow": {
     "slide_type": "fragment"
    }
   },
   "outputs": [],
   "source": [
    "RE.log.setLevel('WARNING')\n",
    "ro_dev.log.setLevel('DEBUG')"
   ]
  },
  {
   "cell_type": "markdown",
   "metadata": {
    "slideshow": {
     "slide_type": "subslide"
    }
   },
   "source": [
    "Execute the code"
   ]
  },
  {
   "cell_type": "code",
   "execution_count": 19,
   "metadata": {
    "slideshow": {
     "slide_type": "fragment"
    }
   },
   "outputs": [
    {
     "name": "stdout",
     "output_type": "stream",
     "text": [
      "[D 17:28:43.524 device:520] Staging sig\n",
      "[D 17:28:43.525 <ipython-input-14-7b7f6cdf7089>:7] ReadonlyDevice method trigger returned DeviceStatus(device=sig, done=True, success=True)\n",
      "[D 17:28:43.529 <ipython-input-14-7b7f6cdf7089>:14] EpicsSignalRO method read returned {'sig_ro': {'value': 0.0, 'timestamp': 1566919723.50771}}\n",
      "[D 17:28:43.529 <ipython-input-14-7b7f6cdf7089>:14] ReadonlyDevice method read returned OrderedDict([('sig_ro', {'value': 0.0, 'timestamp': 1566919723.50771})])\n",
      "[D 17:28:43.531 device:586] Unstaging sig\n"
     ]
    },
    {
     "data": {
      "text/plain": [
       "('a66c4842-20ac-40c3-9c41-5c1db3d1ca71',)"
      ]
     },
     "execution_count": 19,
     "metadata": {},
     "output_type": "execute_result"
    }
   ],
   "source": [
    "if not ro_dev.connected:\n",
    "    ro_dev.wait_for_connection()\n",
    "\n",
    "detectors = [ro_dev]\n",
    "RE(bps.count(detectors, 1))"
   ]
  },
  {
   "cell_type": "markdown",
   "metadata": {
    "slideshow": {
     "slide_type": "subslide"
    }
   },
   "source": [
    "<h4> Logging Summary </h4>\n",
    "\n",
    "* See full code below\n",
    "* **NB** the code is reordered\n",
    "* target: logging output only where required    \n"
   ]
  },
  {
   "cell_type": "code",
   "execution_count": 20,
   "metadata": {
    "slideshow": {
     "slide_type": "fragment"
    }
   },
   "outputs": [
    {
     "name": "stdout",
     "output_type": "stream",
     "text": [
      "[D 17:28:43.591 device:520] Staging sig\n",
      "[D 17:28:43.592 <ipython-input-14-7b7f6cdf7089>:7] ReadonlyDevice method trigger returned DeviceStatus(device=sig, done=True, success=True)\n",
      "[D 17:28:43.595 <ipython-input-14-7b7f6cdf7089>:14] EpicsSignalRO method read returned {'sig_ro': {'value': 0.0, 'timestamp': 1566919723.50771}}\n",
      "[D 17:28:43.596 <ipython-input-14-7b7f6cdf7089>:14] ReadonlyDevice method read returned OrderedDict([('sig_ro', {'value': 0.0, 'timestamp': 1566919723.50771})])\n",
      "[D 17:28:43.597 device:586] Unstaging sig\n"
     ]
    },
    {
     "data": {
      "text/plain": [
       "('afb3ae90-0d76-4a27-a4c9-9a62538277bb',)"
      ]
     },
     "execution_count": 20,
     "metadata": {},
     "output_type": "execute_result"
    }
   ],
   "source": [
    "ro_dev = ReadonlyDevice(name = 'sig')\n",
    "if not ro_dev.connected:\n",
    "    ro_dev.wait_for_connection()\n",
    "\n",
    "detectors = [ro_dev]\n",
    "\n",
    "bp_re_log = RE.log.parent.handlers[0]\n",
    "ro_dev.log.parent.addHandler(bp_re_log)\n",
    "\n",
    "RE.log.setLevel('WARNING')\n",
    "ro_dev.log.setLevel('DEBUG')\n",
    "RE(bps.count(detectors, 1))"
   ]
  },
  {
   "cell_type": "markdown",
   "metadata": {
    "slideshow": {
     "slide_type": "slide"
    }
   },
   "source": [
    "<h3> Device method evaluation </h3>\n",
    "\n",
    "The evaluation shows different methods"
   ]
  },
  {
   "cell_type": "markdown",
   "metadata": {
    "slideshow": {
     "slide_type": "subslide"
    }
   },
   "source": [
    "Now we see a difference:\n",
    "* trigger returns a status object\n",
    "* while read returns data\n",
    "\n",
    "What's a status object:\n",
    "* a delayed return value\n",
    "* think of the tokens you get in self service restaurants: they buzz as soon as your order is finished\n",
    "\n",
    "\n",
    "This is the general concept of ophyd and bluesky:\n",
    "* methods returning data are expected to execuate without any delay\n",
    "* methods returning status objects are allowed responding with some delay.\n",
    "  (but not to take computation. How to do that is detailed furhter down)\n",
    "  \n",
    "What'S the status object: well think of the new resteraunts that give you a token when you order: \n",
    "the token rings as soon as you are finished.\n",
    "\n",
    "I'll detail that in an other example:"
   ]
  },
  {
   "cell_type": "code",
   "execution_count": 21,
   "metadata": {
    "slideshow": {
     "slide_type": "subslide"
    }
   },
   "outputs": [
    {
     "name": "stdout",
     "output_type": "stream",
     "text": [
      "[D 17:28:43.654 device:520] Staging sig\n",
      "[D 17:28:43.655 <ipython-input-14-7b7f6cdf7089>:7] ReadonlyDevice method trigger returned DeviceStatus(device=sig, done=True, success=True)\n",
      "[D 17:28:43.657 <ipython-input-14-7b7f6cdf7089>:14] EpicsSignalRO method read returned {'sig_ro': {'value': 0.0, 'timestamp': 1566919723.50771}}\n",
      "[D 17:28:43.658 <ipython-input-14-7b7f6cdf7089>:14] ReadonlyDevice method read returned OrderedDict([('sig_ro', {'value': 0.0, 'timestamp': 1566919723.50771})])\n",
      "[D 17:28:43.660 device:586] Unstaging sig\n"
     ]
    },
    {
     "data": {
      "text/plain": [
       "('d81891eb-c76b-4354-a64f-04e7abe3cd5d',)"
      ]
     },
     "execution_count": 21,
     "metadata": {},
     "output_type": "execute_result"
    }
   ],
   "source": [
    "ro_dev = ReadonlyDevice(name = 'sig')\n",
    "\n",
    "# Yes that is a hack \n",
    "# But there are other methods to get it better organised\n",
    "if not ro_dev.connected:\n",
    "    ro_dev.wait_for_connection()\n",
    "\n",
    "# ro_dev.log.setLevel('DEBUG')\n",
    "detectors = [ro_dev]\n",
    "RE(bps.count(detectors, 1))"
   ]
  },
  {
   "cell_type": "code",
   "execution_count": 22,
   "metadata": {
    "slideshow": {
     "slide_type": "subslide"
    }
   },
   "outputs": [],
   "source": [
    "from ophyd.status import DeviceStatus\n",
    "\n",
    "class ReadonlyDevice(Device):\n",
    "    \"\"\"A simple sample device\n",
    "    \n",
    "    This devivce is solely used to describe the methods\n",
    "    \n",
    "    Warning:\n",
    "        This code is not properly made\n",
    "    \"\"\"\n",
    "    ro = Cpt(EpicsSignalRO, sig_ro)\n",
    "    \n",
    "    def trigger(self):\n",
    "        \"\"\"\n",
    "        \n",
    "        Warning:\n",
    "         This code is not the most elegant one ....\n",
    "          See further down for a simpler one\n",
    "        \"\"\"\n",
    "        cid = None\n",
    "        def cb(*args, **kwargs):\n",
    "            self.ro.clear_sub(cb)\n",
    "            status._finished()\n",
    "\n",
    "        status = DeviceStatus(self.ro, timeout = 10)\n",
    "        self.ro.subscribe(cb)\n",
    "        return status"
   ]
  },
  {
   "cell_type": "markdown",
   "metadata": {
    "slideshow": {
     "slide_type": "subslide"
    }
   },
   "source": [
    "The trigger method shows:\n",
    "* a status object is created. \n",
    "* a callback is subscribed to the variable\n",
    "* a status object is returned.\n",
    "\n",
    "How is that code executed:\n",
    "* The run engine will call trigger on the method  of this object\n",
    "* it will recieve a status object. \n",
    "\n",
    "The run eninge will take the status object and wait for it to complete. If different devices are to be checked it \n",
    "will wait that the last one has completed. In this manner it ensures that the different variables are handled in \n",
    "parallel. \n",
    "\n",
    "Please note: typically this code uses epics.PV. Thus this approach is not suitable for a large set of variables!\n",
    "\n",
    "\n",
    "This code can be further simplified if we use SubscriptionStatus instead of device status. Let's implement \n",
    "the smae code again\n"
   ]
  },
  {
   "cell_type": "code",
   "execution_count": 23,
   "metadata": {
    "slideshow": {
     "slide_type": "subslide"
    }
   },
   "outputs": [],
   "source": [
    "from ophyd.status import SubscriptionStatus\n",
    "\n",
    "import sys\n",
    "\n",
    "class ReadonlyDevice(Device):\n",
    "    \"\"\"A simple sample device\n",
    "    \n",
    "    \"\"\"\n",
    "    ro = Cpt(EpicsSignalRO, sig_ro)\n",
    "    \n",
    "    def trigger(self):\n",
    "        \"\"\"Ensure that new data has arrived\n",
    "        \"\"\"\n",
    "        def cb(*args,  **kwargs):\n",
    "            value = kwargs['value']\n",
    "            old_value = kwargs['old_value']\n",
    "            timestamp = kwargs['timestamp']\n",
    "            txt = f'cb {cb}: value = {value} old value {old_value} timestamp {timestamp}\\n'\n",
    "            self.log.debug(txt)\n",
    "            return True\n",
    "        \n",
    "        status = SubscriptionStatus(self.ro, cb, run = False)\n",
    "        return status"
   ]
  },
  {
   "cell_type": "code",
   "execution_count": 24,
   "metadata": {
    "slideshow": {
     "slide_type": "subslide"
    }
   },
   "outputs": [
    {
     "name": "stdout",
     "output_type": "stream",
     "text": [
      "[D 17:28:43.686 ophydobj:187] This is the first instance of OphydObject. name={self.name}, id={id(self)}\n",
      "[D 17:28:43.738 device:520] Staging sig\n",
      "[D 17:28:43.748 <ipython-input-23-d985b3628c31>:19] cb <function ReadonlyDevice.trigger.<locals>.cb at 0x7fc4517526a8>: value = 0.0 old value None timestamp 1566919723.50771\n",
      "    \n",
      "[D 17:28:43.749 <ipython-input-14-7b7f6cdf7089>:14] EpicsSignalRO method read returned {'sig_ro': {'value': 0.0, 'timestamp': 1566919723.50771}}\n",
      "[D 17:28:43.750 <ipython-input-14-7b7f6cdf7089>:14] ReadonlyDevice method read returned OrderedDict([('sig_ro', {'value': 0.0, 'timestamp': 1566919723.50771})])\n",
      "[D 17:28:43.751 device:586] Unstaging sig\n"
     ]
    },
    {
     "data": {
      "text/plain": [
       "('050a63ed-cc59-45a4-98d3-cdc80ec7a3bd',)"
      ]
     },
     "execution_count": 24,
     "metadata": {},
     "output_type": "execute_result"
    }
   ],
   "source": [
    "ro_dev = ReadonlyDevice(name = 'sig')\n",
    "\n",
    "if not ro_dev.connected:\n",
    "    ro_dev.wait_for_connection()\n",
    "\n",
    "detectors = [ro_dev]\n",
    "RE(bps.count(detectors, 1))"
   ]
  },
  {
   "cell_type": "markdown",
   "metadata": {
    "slideshow": {
     "slide_type": "subslide"
    }
   },
   "source": [
    "So now we arrive at some pretty straight forward code\n",
    "\n",
    "When trigger is called, the object SubscriptionStatus will subscribe the function (here ensure_run_once) to self.ro.\n",
    "Then the callback 'cb' is called every time when new data arrrive at signal self.ro.\n",
    "\n",
    "The keyword argument run=False, ensures that the method is only called the first time when  new data is arrived.\n",
    "It defaults to True. In this case it will be run immediately after the callback 'cb' has been subscribed \n",
    "to the device.\n",
    "\n",
    "Please note again, that all these triggers are expected to behave well. IF you need to wait or to do processing,\n",
    "see further down how to do that\n",
    "\n"
   ]
  },
  {
   "cell_type": "markdown",
   "metadata": {
    "slideshow": {
     "slide_type": "subslide"
    }
   },
   "source": [
    "Now we have used a very simple device Now let's see if we have a device with two signals"
   ]
  },
  {
   "cell_type": "code",
   "execution_count": 25,
   "metadata": {
    "slideshow": {
     "slide_type": "subslide"
    }
   },
   "outputs": [],
   "source": [
    "class ReadonlyDevice(Device):\n",
    "    \"\"\"A simple sample device\n",
    "    \n",
    "    \"\"\"\n",
    "    ro = Cpt(EpicsSignalRO,  sig_ro)\n",
    "    ro2 = Cpt(EpicsSignalRO, sig_ro2)"
   ]
  },
  {
   "cell_type": "markdown",
   "metadata": {
    "slideshow": {
     "slide_type": "subslide"
    }
   },
   "source": [
    "Now lets run the same simple example again as above:"
   ]
  },
  {
   "cell_type": "code",
   "execution_count": 26,
   "metadata": {
    "slideshow": {
     "slide_type": "subslide"
    }
   },
   "outputs": [
    {
     "name": "stdout",
     "output_type": "stream",
     "text": [
      "[D 17:28:43.767 ophydobj:187] This is the first instance of OphydObject. name={self.name}, id={id(self)}\n",
      "[D 17:28:43.821 device:520] Staging sig\n",
      "[D 17:28:43.822 <ipython-input-14-7b7f6cdf7089>:7] ReadonlyDevice method trigger returned DeviceStatus(device=sig, done=True, success=True)\n",
      "[D 17:28:43.823 <ipython-input-14-7b7f6cdf7089>:14] EpicsSignalRO method read returned {'sig_ro': {'value': 0.0, 'timestamp': 1566919723.50771}}\n",
      "[D 17:28:43.836 <ipython-input-14-7b7f6cdf7089>:14] EpicsSignalRO method read returned {'sig_ro2': {'value': 499621.31788209, 'timestamp': 1565684923.028094}}\n",
      "[D 17:28:43.836 <ipython-input-14-7b7f6cdf7089>:14] ReadonlyDevice method read returned OrderedDict([('sig_ro', {'value': 0.0, 'timestamp': 1566919723.50771}), ('sig_ro2', {'value': 499621.31788209, 'timestamp': 1565684923.028094})])\n",
      "[D 17:28:43.838 device:586] Unstaging sig\n"
     ]
    },
    {
     "data": {
      "text/plain": [
       "('30e59bbb-59bc-4f6e-b495-12975a4fea71',)"
      ]
     },
     "execution_count": 26,
     "metadata": {},
     "output_type": "execute_result"
    }
   ],
   "source": [
    "from bluesky import plans as bps, RunEngine \n",
    "\n",
    "\n",
    "ro_dev = ReadonlyDevice(name = 'sig')\n",
    "\n",
    "\n",
    "if not ro_dev.connected:\n",
    "    ro_dev.wait_for_connection()\n",
    "\n",
    "detectors = [ro_dev]\n",
    "RE(bps.count(detectors, 1))\n",
    "\n"
   ]
  },
  {
   "cell_type": "markdown",
   "metadata": {
    "slideshow": {
     "slide_type": "subslide"
    }
   },
   "source": [
    "The  important thing to note now:\n",
    "* We can see one trigger\n",
    "* and two read calls.\n",
    "\n",
    "That's the policy of bluesky (as far as I understand)\n",
    "* It will call trigger only for the top device. It is \n",
    "  the responsiblity of this device to delegate the triggers to other objects\n",
    "  if required.\n",
    "  \n",
    "* Reads are then transfered to all other devices.\n",
    "\n",
    "Please note that devices can be generated as a tree. The user can call handle \n",
    "either the top device or a leaf of the tree to the run engine. The run engine\n",
    "will call the method trigger only on the object passed to it.\n",
    "\n",
    "In this manner the device driver writer can organise how the device is read.\n",
    "For example, let's ensure that the data of the second signal has arrived only\n",
    "after the signal for the first one has arrived.\n",
    "\n",
    "This can be implemented in different manners. The one I chose is used to demonstrate\n",
    "the add_callback method of the status object."
   ]
  },
  {
   "cell_type": "code",
   "execution_count": 27,
   "metadata": {
    "slideshow": {
     "slide_type": "subslide"
    }
   },
   "outputs": [],
   "source": [
    "from ophyd import Component as Cpt\n",
    "from ophyd.status import SubscriptionStatus, AndStatus\n",
    "\n",
    "class ReadonlyDevice(Device):\n",
    "    \"\"\"Ensure data of signal ro2 are always newer than for signal ro. \n",
    "    \"\"\"\n",
    "    ro = Cpt(EpicsSignalRO,  sig_ro)\n",
    "    ro2 = Cpt(EpicsSignalRO, sig_ro2)\n",
    "    \n",
    "    def trigger(self):\n",
    "        \n",
    "        ro_done = False\n",
    "        def cb(*args, **kwargs):\n",
    "            return True\n",
    "    \n",
    "        def cb2(*args, **kwargs):\n",
    "            #nonlocal ro_done\n",
    "            if ro_done:\n",
    "                return True\n",
    "            return False\n",
    "    \n",
    "        def delayed_call(*args, **kwargs):\n",
    "            #nonlocal ro_done\n",
    "            ro_done = True\n",
    "        \n",
    "        stat2 = SubscriptionStatus(self.ro, cb2, run = False, timeout = 5)\n",
    "        stat = SubscriptionStatus(self.ro, cb, run = False, timeout = 5)\n",
    "        stat.add_callback(delayed_call)\n",
    "        s = AndStatus(stat2, stat)\n",
    "        return s"
   ]
  },
  {
   "cell_type": "code",
   "execution_count": 28,
   "metadata": {
    "slideshow": {
     "slide_type": "subslide"
    }
   },
   "outputs": [
    {
     "name": "stdout",
     "output_type": "stream",
     "text": [
      "[D 17:28:43.872 ophydobj:187] This is the first instance of OphydObject. name={self.name}, id={id(self)}\n",
      "[E 17:28:48.934 run_engine:1522] Run aborted\n",
      "    Traceback (most recent call last):\n",
      "      File \"/home/mfp/Devel/nsls_ii/bluesky/bluesky/run_engine.py\", line 1390, in _run\n",
      "        msg = self._plan_stack[-1].send(resp)\n",
      "      File \"/home/mfp/Devel/nsls_ii/bluesky/bluesky/plans.py\", line 67, in count\n",
      "        return (yield from inner_count())\n",
      "      File \"/home/mfp/Devel/nsls_ii/bluesky/bluesky/utils.py\", line 1045, in dec_inner\n",
      "        return (yield from plan)\n",
      "      File \"/home/mfp/Devel/nsls_ii/bluesky/bluesky/preprocessors.py\", line 940, in stage_wrapper\n",
      "        return (yield from finalize_wrapper(inner(), unstage_devices()))\n",
      "      File \"/home/mfp/Devel/nsls_ii/bluesky/bluesky/preprocessors.py\", line 501, in finalize_wrapper\n",
      "        ret = yield from plan\n",
      "      File \"/home/mfp/Devel/nsls_ii/bluesky/bluesky/preprocessors.py\", line 938, in inner\n",
      "        return (yield from plan)\n",
      "      File \"/home/mfp/Devel/nsls_ii/bluesky/bluesky/utils.py\", line 1045, in dec_inner\n",
      "        return (yield from plan)\n",
      "      File \"/home/mfp/Devel/nsls_ii/bluesky/bluesky/preprocessors.py\", line 327, in run_wrapper\n",
      "        else_plan=close_run)\n",
      "      File \"/home/mfp/Devel/nsls_ii/bluesky/bluesky/preprocessors.py\", line 563, in contingency_wrapper\n",
      "        ret = yield from plan\n",
      "      File \"/home/mfp/Devel/nsls_ii/bluesky/bluesky/plans.py\", line 65, in inner_count\n",
      "        num=num, delay=delay))\n",
      "      File \"/home/mfp/Devel/nsls_ii/bluesky/bluesky/plan_stubs.py\", line 1022, in repeat\n",
      "        return (yield from repeated_plan())\n",
      "      File \"/home/mfp/Devel/nsls_ii/bluesky/bluesky/plan_stubs.py\", line 1005, in repeated_plan\n",
      "        yield from ensure_generator(plan())\n",
      "      File \"/home/mfp/Devel/nsls_ii/bluesky/bluesky/plan_stubs.py\", line 802, in trigger_and_read\n",
      "        rewindable))\n",
      "      File \"/home/mfp/Devel/nsls_ii/bluesky/bluesky/preprocessors.py\", line 681, in rewindable_wrapper\n",
      "        return (yield from plan)\n",
      "      File \"/home/mfp/Devel/nsls_ii/bluesky/bluesky/plan_stubs.py\", line 791, in inner_trigger_and_read\n",
      "        yield from wait(group=grp)\n",
      "      File \"/home/mfp/Devel/nsls_ii/bluesky/bluesky/plan_stubs.py\", line 362, in wait\n",
      "        return (yield Msg('wait', None, group=group))\n",
      "    bluesky.utils.FailedStatus: AndStatus(done=True, success=False)\n",
      "[E 17:28:48.934 run_engine:1522] Run aborted\n",
      "    Traceback (most recent call last):\n",
      "      File \"/home/mfp/Devel/nsls_ii/bluesky/bluesky/run_engine.py\", line 1390, in _run\n",
      "        msg = self._plan_stack[-1].send(resp)\n",
      "      File \"/home/mfp/Devel/nsls_ii/bluesky/bluesky/plans.py\", line 67, in count\n",
      "        return (yield from inner_count())\n",
      "      File \"/home/mfp/Devel/nsls_ii/bluesky/bluesky/utils.py\", line 1045, in dec_inner\n",
      "        return (yield from plan)\n",
      "      File \"/home/mfp/Devel/nsls_ii/bluesky/bluesky/preprocessors.py\", line 940, in stage_wrapper\n",
      "        return (yield from finalize_wrapper(inner(), unstage_devices()))\n",
      "      File \"/home/mfp/Devel/nsls_ii/bluesky/bluesky/preprocessors.py\", line 501, in finalize_wrapper\n",
      "        ret = yield from plan\n",
      "      File \"/home/mfp/Devel/nsls_ii/bluesky/bluesky/preprocessors.py\", line 938, in inner\n",
      "        return (yield from plan)\n",
      "      File \"/home/mfp/Devel/nsls_ii/bluesky/bluesky/utils.py\", line 1045, in dec_inner\n",
      "        return (yield from plan)\n",
      "      File \"/home/mfp/Devel/nsls_ii/bluesky/bluesky/preprocessors.py\", line 327, in run_wrapper\n",
      "        else_plan=close_run)\n",
      "      File \"/home/mfp/Devel/nsls_ii/bluesky/bluesky/preprocessors.py\", line 563, in contingency_wrapper\n",
      "        ret = yield from plan\n",
      "      File \"/home/mfp/Devel/nsls_ii/bluesky/bluesky/plans.py\", line 65, in inner_count\n",
      "        num=num, delay=delay))\n",
      "      File \"/home/mfp/Devel/nsls_ii/bluesky/bluesky/plan_stubs.py\", line 1022, in repeat\n",
      "        return (yield from repeated_plan())\n",
      "      File \"/home/mfp/Devel/nsls_ii/bluesky/bluesky/plan_stubs.py\", line 1005, in repeated_plan\n",
      "        yield from ensure_generator(plan())\n",
      "      File \"/home/mfp/Devel/nsls_ii/bluesky/bluesky/plan_stubs.py\", line 802, in trigger_and_read\n",
      "        rewindable))\n",
      "      File \"/home/mfp/Devel/nsls_ii/bluesky/bluesky/preprocessors.py\", line 681, in rewindable_wrapper\n",
      "        return (yield from plan)\n",
      "      File \"/home/mfp/Devel/nsls_ii/bluesky/bluesky/plan_stubs.py\", line 791, in inner_trigger_and_read\n",
      "        yield from wait(group=grp)\n",
      "      File \"/home/mfp/Devel/nsls_ii/bluesky/bluesky/plan_stubs.py\", line 362, in wait\n",
      "        return (yield Msg('wait', None, group=group))\n",
      "    bluesky.utils.FailedStatus: AndStatus(done=True, success=False)\n"
     ]
    },
    {
     "name": "stderr",
     "output_type": "stream",
     "text": [
      "Exception in thread Thread-7:\n",
      "Traceback (most recent call last):\n",
      "  File \"/home/mfp/Devel/nsls_ii/ophyd/ophyd/status.py\", line 79, in _wait_and_cleanup\n",
      "    wait(self, timeout=timeout, poll_rate=0.2)\n",
      "  File \"/home/mfp/Devel/nsls_ii/ophyd/ophyd/status.py\", line 574, in wait\n",
      "    '(elapsed {:.2f} sec)'.format(timeout, elapsed))\n",
      "TimeoutError: Operation failed to complete within 5.0 seconds (elapsed 5.01 sec)\n",
      "\n",
      "During handling of the above exception, another exception occurred:\n",
      "\n",
      "Traceback (most recent call last):\n",
      "  File \"/usr/lib/python3.7/threading.py\", line 917, in _bootstrap_inner\n",
      "    self.run()\n",
      "  File \"/usr/lib/python3.7/threading.py\", line 865, in run\n",
      "    self._target(*self._args, **self._kwargs)\n",
      "  File \"/home/mfp/Devel/nsls_ii/ophyd/ophyd/status.py\", line 87, in _wait_and_cleanup\n",
      "    self._handle_failure()\n",
      "  File \"/home/mfp/Devel/nsls_ii/ophyd/ophyd/status.py\", line 299, in _handle_failure\n",
      "    self.device.stop()\n",
      "AttributeError: 'EpicsSignalRO' object has no attribute 'stop'\n",
      "\n",
      "Exception in thread Thread-8:\n",
      "Traceback (most recent call last):\n",
      "  File \"/home/mfp/Devel/nsls_ii/ophyd/ophyd/status.py\", line 79, in _wait_and_cleanup\n",
      "    wait(self, timeout=timeout, poll_rate=0.2)\n",
      "  File \"/home/mfp/Devel/nsls_ii/ophyd/ophyd/status.py\", line 574, in wait\n",
      "    '(elapsed {:.2f} sec)'.format(timeout, elapsed))\n",
      "TimeoutError: Operation failed to complete within 5.0 seconds (elapsed 5.01 sec)\n",
      "\n",
      "During handling of the above exception, another exception occurred:\n",
      "\n",
      "Traceback (most recent call last):\n",
      "  File \"/usr/lib/python3.7/threading.py\", line 917, in _bootstrap_inner\n",
      "    self.run()\n",
      "  File \"/usr/lib/python3.7/threading.py\", line 865, in run\n",
      "    self._target(*self._args, **self._kwargs)\n",
      "  File \"/home/mfp/Devel/nsls_ii/ophyd/ophyd/status.py\", line 87, in _wait_and_cleanup\n",
      "    self._handle_failure()\n",
      "  File \"/home/mfp/Devel/nsls_ii/ophyd/ophyd/status.py\", line 299, in _handle_failure\n",
      "    self.device.stop()\n",
      "AttributeError: 'EpicsSignalRO' object has no attribute 'stop'\n",
      "\n"
     ]
    },
    {
     "ename": "FailedStatus",
     "evalue": "AndStatus(done=True, success=False)",
     "output_type": "error",
     "traceback": [
      "\u001b[0;31m---------------------------------------------------------------------------\u001b[0m",
      "\u001b[0;31mFailedStatus\u001b[0m                              Traceback (most recent call last)",
      "\u001b[0;32m<ipython-input-28-5effec8e31c9>\u001b[0m in \u001b[0;36m<module>\u001b[0;34m()\u001b[0m\n\u001b[1;32m     15\u001b[0m \u001b[0;34m\u001b[0m\u001b[0m\n\u001b[1;32m     16\u001b[0m \u001b[0mdetectors\u001b[0m \u001b[0;34m=\u001b[0m \u001b[0;34m[\u001b[0m\u001b[0mro_dev\u001b[0m\u001b[0;34m]\u001b[0m\u001b[0;34m\u001b[0m\u001b[0;34m\u001b[0m\u001b[0m\n\u001b[0;32m---> 17\u001b[0;31m \u001b[0mRE\u001b[0m\u001b[0;34m(\u001b[0m\u001b[0mbps\u001b[0m\u001b[0;34m.\u001b[0m\u001b[0mcount\u001b[0m\u001b[0;34m(\u001b[0m\u001b[0mdetectors\u001b[0m\u001b[0;34m,\u001b[0m \u001b[0;36m1\u001b[0m\u001b[0;34m)\u001b[0m\u001b[0;34m)\u001b[0m\u001b[0;34m\u001b[0m\u001b[0;34m\u001b[0m\u001b[0m\n\u001b[0m",
      "\u001b[0;32m/home/mfp/Devel/nsls_ii/bluesky/bluesky/run_engine.py\u001b[0m in \u001b[0;36m__call__\u001b[0;34m(self, *args, **metadata_kw)\u001b[0m\n\u001b[1;32m    833\u001b[0m             \u001b[0mself\u001b[0m\u001b[0;34m.\u001b[0m\u001b[0m_task_fut\u001b[0m\u001b[0;34m.\u001b[0m\u001b[0madd_done_callback\u001b[0m\u001b[0;34m(\u001b[0m\u001b[0mset_blocking_event\u001b[0m\u001b[0;34m)\u001b[0m\u001b[0;34m\u001b[0m\u001b[0;34m\u001b[0m\u001b[0m\n\u001b[1;32m    834\u001b[0m \u001b[0;34m\u001b[0m\u001b[0m\n\u001b[0;32m--> 835\u001b[0;31m         \u001b[0mself\u001b[0m\u001b[0;34m.\u001b[0m\u001b[0m_resume_task\u001b[0m\u001b[0;34m(\u001b[0m\u001b[0minit_func\u001b[0m\u001b[0;34m=\u001b[0m\u001b[0m_build_task\u001b[0m\u001b[0;34m)\u001b[0m\u001b[0;34m\u001b[0m\u001b[0;34m\u001b[0m\u001b[0m\n\u001b[0m\u001b[1;32m    836\u001b[0m \u001b[0;34m\u001b[0m\u001b[0m\n\u001b[1;32m    837\u001b[0m         \u001b[0;32mif\u001b[0m \u001b[0mself\u001b[0m\u001b[0;34m.\u001b[0m\u001b[0m_interrupted\u001b[0m\u001b[0;34m:\u001b[0m\u001b[0;34m\u001b[0m\u001b[0;34m\u001b[0m\u001b[0m\n",
      "\u001b[0;32m/home/mfp/Devel/nsls_ii/bluesky/bluesky/run_engine.py\u001b[0m in \u001b[0;36m_resume_task\u001b[0;34m(self, init_func)\u001b[0m\n\u001b[1;32m    962\u001b[0m                     if (exc is not None\n\u001b[1;32m    963\u001b[0m                             and not isinstance(exc, _RunEnginePanic)):\n\u001b[0;32m--> 964\u001b[0;31m                         \u001b[0;32mraise\u001b[0m \u001b[0mexc\u001b[0m\u001b[0;34m\u001b[0m\u001b[0;34m\u001b[0m\u001b[0m\n\u001b[0m\u001b[1;32m    965\u001b[0m \u001b[0;34m\u001b[0m\u001b[0m\n\u001b[1;32m    966\u001b[0m     \u001b[0;32mdef\u001b[0m \u001b[0minstall_suspender\u001b[0m\u001b[0;34m(\u001b[0m\u001b[0mself\u001b[0m\u001b[0;34m,\u001b[0m \u001b[0msuspender\u001b[0m\u001b[0;34m)\u001b[0m\u001b[0;34m:\u001b[0m\u001b[0;34m\u001b[0m\u001b[0;34m\u001b[0m\u001b[0m\n",
      "\u001b[0;32m/home/mfp/Devel/nsls_ii/bluesky/bluesky/run_engine.py\u001b[0m in \u001b[0;36m_run\u001b[0;34m(self)\u001b[0m\n\u001b[1;32m   1521\u001b[0m             \u001b[0mself\u001b[0m\u001b[0;34m.\u001b[0m\u001b[0m_reason\u001b[0m \u001b[0;34m=\u001b[0m \u001b[0mstr\u001b[0m\u001b[0;34m(\u001b[0m\u001b[0merr\u001b[0m\u001b[0;34m)\u001b[0m\u001b[0;34m\u001b[0m\u001b[0;34m\u001b[0m\u001b[0m\n\u001b[1;32m   1522\u001b[0m             \u001b[0mself\u001b[0m\u001b[0;34m.\u001b[0m\u001b[0mlog\u001b[0m\u001b[0;34m.\u001b[0m\u001b[0mexception\u001b[0m\u001b[0;34m(\u001b[0m\u001b[0;34m\"Run aborted\"\u001b[0m\u001b[0;34m)\u001b[0m\u001b[0;34m\u001b[0m\u001b[0;34m\u001b[0m\u001b[0m\n\u001b[0;32m-> 1523\u001b[0;31m             \u001b[0;32mraise\u001b[0m \u001b[0merr\u001b[0m\u001b[0;34m\u001b[0m\u001b[0;34m\u001b[0m\u001b[0m\n\u001b[0m\u001b[1;32m   1524\u001b[0m         \u001b[0;32mfinally\u001b[0m\u001b[0;34m:\u001b[0m\u001b[0;34m\u001b[0m\u001b[0;34m\u001b[0m\u001b[0m\n\u001b[1;32m   1525\u001b[0m             \u001b[0;31m# Some done_callbacks may still be alive in other threads.\u001b[0m\u001b[0;34m\u001b[0m\u001b[0;34m\u001b[0m\u001b[0;34m\u001b[0m\u001b[0m\n",
      "\u001b[0;32m/home/mfp/Devel/nsls_ii/bluesky/bluesky/run_engine.py\u001b[0m in \u001b[0;36m_run\u001b[0;34m(self)\u001b[0m\n\u001b[1;32m   1388\u001b[0m                     \u001b[0;32melse\u001b[0m\u001b[0;34m:\u001b[0m\u001b[0;34m\u001b[0m\u001b[0;34m\u001b[0m\u001b[0m\n\u001b[1;32m   1389\u001b[0m                         \u001b[0;32mtry\u001b[0m\u001b[0;34m:\u001b[0m\u001b[0;34m\u001b[0m\u001b[0;34m\u001b[0m\u001b[0m\n\u001b[0;32m-> 1390\u001b[0;31m                             \u001b[0mmsg\u001b[0m \u001b[0;34m=\u001b[0m \u001b[0mself\u001b[0m\u001b[0;34m.\u001b[0m\u001b[0m_plan_stack\u001b[0m\u001b[0;34m[\u001b[0m\u001b[0;34m-\u001b[0m\u001b[0;36m1\u001b[0m\u001b[0;34m]\u001b[0m\u001b[0;34m.\u001b[0m\u001b[0msend\u001b[0m\u001b[0;34m(\u001b[0m\u001b[0mresp\u001b[0m\u001b[0;34m)\u001b[0m\u001b[0;34m\u001b[0m\u001b[0;34m\u001b[0m\u001b[0m\n\u001b[0m\u001b[1;32m   1391\u001b[0m                         \u001b[0;31m# We have exhausted the top generator\u001b[0m\u001b[0;34m\u001b[0m\u001b[0;34m\u001b[0m\u001b[0;34m\u001b[0m\u001b[0m\n\u001b[1;32m   1392\u001b[0m                         \u001b[0;32mexcept\u001b[0m \u001b[0mStopIteration\u001b[0m\u001b[0;34m:\u001b[0m\u001b[0;34m\u001b[0m\u001b[0;34m\u001b[0m\u001b[0m\n",
      "\u001b[0;32m/home/mfp/Devel/nsls_ii/bluesky/bluesky/plans.py\u001b[0m in \u001b[0;36mcount\u001b[0;34m(detectors, num, delay, md)\u001b[0m\n\u001b[1;32m     65\u001b[0m                                       num=num, delay=delay))\n\u001b[1;32m     66\u001b[0m \u001b[0;34m\u001b[0m\u001b[0m\n\u001b[0;32m---> 67\u001b[0;31m     \u001b[0;32mreturn\u001b[0m \u001b[0;34m(\u001b[0m\u001b[0;32myield\u001b[0m \u001b[0;32mfrom\u001b[0m \u001b[0minner_count\u001b[0m\u001b[0;34m(\u001b[0m\u001b[0;34m)\u001b[0m\u001b[0;34m)\u001b[0m\u001b[0;34m\u001b[0m\u001b[0;34m\u001b[0m\u001b[0m\n\u001b[0m\u001b[1;32m     68\u001b[0m \u001b[0;34m\u001b[0m\u001b[0m\n\u001b[1;32m     69\u001b[0m \u001b[0;34m\u001b[0m\u001b[0m\n",
      "\u001b[0;32m/home/mfp/Devel/nsls_ii/bluesky/bluesky/utils.py\u001b[0m in \u001b[0;36mdec_inner\u001b[0;34m(*inner_args, **inner_kwargs)\u001b[0m\n\u001b[1;32m   1043\u001b[0m                 \u001b[0mplan\u001b[0m \u001b[0;34m=\u001b[0m \u001b[0mgen_func\u001b[0m\u001b[0;34m(\u001b[0m\u001b[0;34m*\u001b[0m\u001b[0minner_args\u001b[0m\u001b[0;34m,\u001b[0m \u001b[0;34m**\u001b[0m\u001b[0minner_kwargs\u001b[0m\u001b[0;34m)\u001b[0m\u001b[0;34m\u001b[0m\u001b[0;34m\u001b[0m\u001b[0m\n\u001b[1;32m   1044\u001b[0m                 \u001b[0mplan\u001b[0m \u001b[0;34m=\u001b[0m \u001b[0mwrapper\u001b[0m\u001b[0;34m(\u001b[0m\u001b[0mplan\u001b[0m\u001b[0;34m,\u001b[0m \u001b[0;34m*\u001b[0m\u001b[0margs\u001b[0m\u001b[0;34m,\u001b[0m \u001b[0;34m**\u001b[0m\u001b[0mkwargs\u001b[0m\u001b[0;34m)\u001b[0m\u001b[0;34m\u001b[0m\u001b[0;34m\u001b[0m\u001b[0m\n\u001b[0;32m-> 1045\u001b[0;31m                 \u001b[0;32mreturn\u001b[0m \u001b[0;34m(\u001b[0m\u001b[0;32myield\u001b[0m \u001b[0;32mfrom\u001b[0m \u001b[0mplan\u001b[0m\u001b[0;34m)\u001b[0m\u001b[0;34m\u001b[0m\u001b[0;34m\u001b[0m\u001b[0m\n\u001b[0m\u001b[1;32m   1046\u001b[0m             \u001b[0;32mreturn\u001b[0m \u001b[0mdec_inner\u001b[0m\u001b[0;34m\u001b[0m\u001b[0;34m\u001b[0m\u001b[0m\n\u001b[1;32m   1047\u001b[0m         \u001b[0;32mreturn\u001b[0m \u001b[0mdec\u001b[0m\u001b[0;34m\u001b[0m\u001b[0;34m\u001b[0m\u001b[0m\n",
      "\u001b[0;32m/home/mfp/Devel/nsls_ii/bluesky/bluesky/preprocessors.py\u001b[0m in \u001b[0;36mstage_wrapper\u001b[0;34m(plan, devices)\u001b[0m\n\u001b[1;32m    938\u001b[0m         \u001b[0;32mreturn\u001b[0m \u001b[0;34m(\u001b[0m\u001b[0;32myield\u001b[0m \u001b[0;32mfrom\u001b[0m \u001b[0mplan\u001b[0m\u001b[0;34m)\u001b[0m\u001b[0;34m\u001b[0m\u001b[0;34m\u001b[0m\u001b[0m\n\u001b[1;32m    939\u001b[0m \u001b[0;34m\u001b[0m\u001b[0m\n\u001b[0;32m--> 940\u001b[0;31m     \u001b[0;32mreturn\u001b[0m \u001b[0;34m(\u001b[0m\u001b[0;32myield\u001b[0m \u001b[0;32mfrom\u001b[0m \u001b[0mfinalize_wrapper\u001b[0m\u001b[0;34m(\u001b[0m\u001b[0minner\u001b[0m\u001b[0;34m(\u001b[0m\u001b[0;34m)\u001b[0m\u001b[0;34m,\u001b[0m \u001b[0munstage_devices\u001b[0m\u001b[0;34m(\u001b[0m\u001b[0;34m)\u001b[0m\u001b[0;34m)\u001b[0m\u001b[0;34m)\u001b[0m\u001b[0;34m\u001b[0m\u001b[0;34m\u001b[0m\u001b[0m\n\u001b[0m\u001b[1;32m    941\u001b[0m \u001b[0;34m\u001b[0m\u001b[0m\n\u001b[1;32m    942\u001b[0m \u001b[0;34m\u001b[0m\u001b[0m\n",
      "\u001b[0;32m/home/mfp/Devel/nsls_ii/bluesky/bluesky/preprocessors.py\u001b[0m in \u001b[0;36mfinalize_wrapper\u001b[0;34m(plan, final_plan, pause_for_debug)\u001b[0m\n\u001b[1;32m    499\u001b[0m     \u001b[0mcleanup\u001b[0m \u001b[0;34m=\u001b[0m \u001b[0;32mTrue\u001b[0m\u001b[0;34m\u001b[0m\u001b[0;34m\u001b[0m\u001b[0m\n\u001b[1;32m    500\u001b[0m     \u001b[0;32mtry\u001b[0m\u001b[0;34m:\u001b[0m\u001b[0;34m\u001b[0m\u001b[0;34m\u001b[0m\u001b[0m\n\u001b[0;32m--> 501\u001b[0;31m         \u001b[0mret\u001b[0m \u001b[0;34m=\u001b[0m \u001b[0;32myield\u001b[0m \u001b[0;32mfrom\u001b[0m \u001b[0mplan\u001b[0m\u001b[0;34m\u001b[0m\u001b[0;34m\u001b[0m\u001b[0m\n\u001b[0m\u001b[1;32m    502\u001b[0m     \u001b[0;32mexcept\u001b[0m \u001b[0mGeneratorExit\u001b[0m\u001b[0;34m:\u001b[0m\u001b[0;34m\u001b[0m\u001b[0;34m\u001b[0m\u001b[0m\n\u001b[1;32m    503\u001b[0m         \u001b[0mcleanup\u001b[0m \u001b[0;34m=\u001b[0m \u001b[0;32mFalse\u001b[0m\u001b[0;34m\u001b[0m\u001b[0;34m\u001b[0m\u001b[0m\n",
      "\u001b[0;32m/home/mfp/Devel/nsls_ii/bluesky/bluesky/preprocessors.py\u001b[0m in \u001b[0;36minner\u001b[0;34m()\u001b[0m\n\u001b[1;32m    936\u001b[0m     \u001b[0;32mdef\u001b[0m \u001b[0minner\u001b[0m\u001b[0;34m(\u001b[0m\u001b[0;34m)\u001b[0m\u001b[0;34m:\u001b[0m\u001b[0;34m\u001b[0m\u001b[0;34m\u001b[0m\u001b[0m\n\u001b[1;32m    937\u001b[0m         \u001b[0;32myield\u001b[0m \u001b[0;32mfrom\u001b[0m \u001b[0mstage_devices\u001b[0m\u001b[0;34m(\u001b[0m\u001b[0;34m)\u001b[0m\u001b[0;34m\u001b[0m\u001b[0;34m\u001b[0m\u001b[0m\n\u001b[0;32m--> 938\u001b[0;31m         \u001b[0;32mreturn\u001b[0m \u001b[0;34m(\u001b[0m\u001b[0;32myield\u001b[0m \u001b[0;32mfrom\u001b[0m \u001b[0mplan\u001b[0m\u001b[0;34m)\u001b[0m\u001b[0;34m\u001b[0m\u001b[0;34m\u001b[0m\u001b[0m\n\u001b[0m\u001b[1;32m    939\u001b[0m \u001b[0;34m\u001b[0m\u001b[0m\n\u001b[1;32m    940\u001b[0m     \u001b[0;32mreturn\u001b[0m \u001b[0;34m(\u001b[0m\u001b[0;32myield\u001b[0m \u001b[0;32mfrom\u001b[0m \u001b[0mfinalize_wrapper\u001b[0m\u001b[0;34m(\u001b[0m\u001b[0minner\u001b[0m\u001b[0;34m(\u001b[0m\u001b[0;34m)\u001b[0m\u001b[0;34m,\u001b[0m \u001b[0munstage_devices\u001b[0m\u001b[0;34m(\u001b[0m\u001b[0;34m)\u001b[0m\u001b[0;34m)\u001b[0m\u001b[0;34m)\u001b[0m\u001b[0;34m\u001b[0m\u001b[0;34m\u001b[0m\u001b[0m\n",
      "\u001b[0;32m/home/mfp/Devel/nsls_ii/bluesky/bluesky/utils.py\u001b[0m in \u001b[0;36mdec_inner\u001b[0;34m(*inner_args, **inner_kwargs)\u001b[0m\n\u001b[1;32m   1043\u001b[0m                 \u001b[0mplan\u001b[0m \u001b[0;34m=\u001b[0m \u001b[0mgen_func\u001b[0m\u001b[0;34m(\u001b[0m\u001b[0;34m*\u001b[0m\u001b[0minner_args\u001b[0m\u001b[0;34m,\u001b[0m \u001b[0;34m**\u001b[0m\u001b[0minner_kwargs\u001b[0m\u001b[0;34m)\u001b[0m\u001b[0;34m\u001b[0m\u001b[0;34m\u001b[0m\u001b[0m\n\u001b[1;32m   1044\u001b[0m                 \u001b[0mplan\u001b[0m \u001b[0;34m=\u001b[0m \u001b[0mwrapper\u001b[0m\u001b[0;34m(\u001b[0m\u001b[0mplan\u001b[0m\u001b[0;34m,\u001b[0m \u001b[0;34m*\u001b[0m\u001b[0margs\u001b[0m\u001b[0;34m,\u001b[0m \u001b[0;34m**\u001b[0m\u001b[0mkwargs\u001b[0m\u001b[0;34m)\u001b[0m\u001b[0;34m\u001b[0m\u001b[0;34m\u001b[0m\u001b[0m\n\u001b[0;32m-> 1045\u001b[0;31m                 \u001b[0;32mreturn\u001b[0m \u001b[0;34m(\u001b[0m\u001b[0;32myield\u001b[0m \u001b[0;32mfrom\u001b[0m \u001b[0mplan\u001b[0m\u001b[0;34m)\u001b[0m\u001b[0;34m\u001b[0m\u001b[0;34m\u001b[0m\u001b[0m\n\u001b[0m\u001b[1;32m   1046\u001b[0m             \u001b[0;32mreturn\u001b[0m \u001b[0mdec_inner\u001b[0m\u001b[0;34m\u001b[0m\u001b[0;34m\u001b[0m\u001b[0m\n\u001b[1;32m   1047\u001b[0m         \u001b[0;32mreturn\u001b[0m \u001b[0mdec\u001b[0m\u001b[0;34m\u001b[0m\u001b[0;34m\u001b[0m\u001b[0m\n",
      "\u001b[0;32m/home/mfp/Devel/nsls_ii/bluesky/bluesky/preprocessors.py\u001b[0m in \u001b[0;36mrun_wrapper\u001b[0;34m(plan, md)\u001b[0m\n\u001b[1;32m    325\u001b[0m     yield from contingency_wrapper(plan,\n\u001b[1;32m    326\u001b[0m                                    \u001b[0mexcept_plan\u001b[0m\u001b[0;34m=\u001b[0m\u001b[0mexcept_plan\u001b[0m\u001b[0;34m,\u001b[0m\u001b[0;34m\u001b[0m\u001b[0;34m\u001b[0m\u001b[0m\n\u001b[0;32m--> 327\u001b[0;31m                                    else_plan=close_run)\n\u001b[0m\u001b[1;32m    328\u001b[0m     \u001b[0;32mreturn\u001b[0m \u001b[0mrs_uid\u001b[0m\u001b[0;34m\u001b[0m\u001b[0;34m\u001b[0m\u001b[0m\n\u001b[1;32m    329\u001b[0m \u001b[0;34m\u001b[0m\u001b[0m\n",
      "\u001b[0;32m/home/mfp/Devel/nsls_ii/bluesky/bluesky/preprocessors.py\u001b[0m in \u001b[0;36mcontingency_wrapper\u001b[0;34m(plan, except_plan, else_plan, final_plan, pause_for_debug)\u001b[0m\n\u001b[1;32m    561\u001b[0m     \u001b[0mcleanup\u001b[0m \u001b[0;34m=\u001b[0m \u001b[0;32mTrue\u001b[0m\u001b[0;34m\u001b[0m\u001b[0;34m\u001b[0m\u001b[0m\n\u001b[1;32m    562\u001b[0m     \u001b[0;32mtry\u001b[0m\u001b[0;34m:\u001b[0m\u001b[0;34m\u001b[0m\u001b[0;34m\u001b[0m\u001b[0m\n\u001b[0;32m--> 563\u001b[0;31m         \u001b[0mret\u001b[0m \u001b[0;34m=\u001b[0m \u001b[0;32myield\u001b[0m \u001b[0;32mfrom\u001b[0m \u001b[0mplan\u001b[0m\u001b[0;34m\u001b[0m\u001b[0;34m\u001b[0m\u001b[0m\n\u001b[0m\u001b[1;32m    564\u001b[0m     \u001b[0;32mexcept\u001b[0m \u001b[0mGeneratorExit\u001b[0m\u001b[0;34m:\u001b[0m\u001b[0;34m\u001b[0m\u001b[0;34m\u001b[0m\u001b[0m\n\u001b[1;32m    565\u001b[0m         \u001b[0mcleanup\u001b[0m \u001b[0;34m=\u001b[0m \u001b[0;32mFalse\u001b[0m\u001b[0;34m\u001b[0m\u001b[0;34m\u001b[0m\u001b[0m\n",
      "\u001b[0;32m/home/mfp/Devel/nsls_ii/bluesky/bluesky/plans.py\u001b[0m in \u001b[0;36minner_count\u001b[0;34m()\u001b[0m\n\u001b[1;32m     63\u001b[0m     \u001b[0;32mdef\u001b[0m \u001b[0minner_count\u001b[0m\u001b[0;34m(\u001b[0m\u001b[0;34m)\u001b[0m\u001b[0;34m:\u001b[0m\u001b[0;34m\u001b[0m\u001b[0;34m\u001b[0m\u001b[0m\n\u001b[1;32m     64\u001b[0m         return (yield from bps.repeat(partial(bps.trigger_and_read, detectors),\n\u001b[0;32m---> 65\u001b[0;31m                                       num=num, delay=delay))\n\u001b[0m\u001b[1;32m     66\u001b[0m \u001b[0;34m\u001b[0m\u001b[0m\n\u001b[1;32m     67\u001b[0m     \u001b[0;32mreturn\u001b[0m \u001b[0;34m(\u001b[0m\u001b[0;32myield\u001b[0m \u001b[0;32mfrom\u001b[0m \u001b[0minner_count\u001b[0m\u001b[0;34m(\u001b[0m\u001b[0;34m)\u001b[0m\u001b[0;34m)\u001b[0m\u001b[0;34m\u001b[0m\u001b[0;34m\u001b[0m\u001b[0m\n",
      "\u001b[0;32m/home/mfp/Devel/nsls_ii/bluesky/bluesky/plan_stubs.py\u001b[0m in \u001b[0;36mrepeat\u001b[0;34m(plan, num, delay)\u001b[0m\n\u001b[1;32m   1020\u001b[0m                     \u001b[0;32myield\u001b[0m \u001b[0mMsg\u001b[0m\u001b[0;34m(\u001b[0m\u001b[0;34m'sleep'\u001b[0m\u001b[0;34m,\u001b[0m \u001b[0;32mNone\u001b[0m\u001b[0;34m,\u001b[0m \u001b[0md\u001b[0m\u001b[0;34m)\u001b[0m\u001b[0;34m\u001b[0m\u001b[0;34m\u001b[0m\u001b[0m\n\u001b[1;32m   1021\u001b[0m \u001b[0;34m\u001b[0m\u001b[0m\n\u001b[0;32m-> 1022\u001b[0;31m     \u001b[0;32mreturn\u001b[0m \u001b[0;34m(\u001b[0m\u001b[0;32myield\u001b[0m \u001b[0;32mfrom\u001b[0m \u001b[0mrepeated_plan\u001b[0m\u001b[0;34m(\u001b[0m\u001b[0;34m)\u001b[0m\u001b[0;34m)\u001b[0m\u001b[0;34m\u001b[0m\u001b[0;34m\u001b[0m\u001b[0m\n\u001b[0m",
      "\u001b[0;32m/home/mfp/Devel/nsls_ii/bluesky/bluesky/plan_stubs.py\u001b[0m in \u001b[0;36mrepeated_plan\u001b[0;34m()\u001b[0m\n\u001b[1;32m   1003\u001b[0m             \u001b[0mnow\u001b[0m \u001b[0;34m=\u001b[0m \u001b[0mtime\u001b[0m\u001b[0;34m.\u001b[0m\u001b[0mtime\u001b[0m\u001b[0;34m(\u001b[0m\u001b[0;34m)\u001b[0m  \u001b[0;31m# Intercept the flow in its earliest moment.\u001b[0m\u001b[0;34m\u001b[0m\u001b[0;34m\u001b[0m\u001b[0m\n\u001b[1;32m   1004\u001b[0m             \u001b[0;32myield\u001b[0m \u001b[0mMsg\u001b[0m\u001b[0;34m(\u001b[0m\u001b[0;34m'checkpoint'\u001b[0m\u001b[0;34m)\u001b[0m\u001b[0;34m\u001b[0m\u001b[0;34m\u001b[0m\u001b[0m\n\u001b[0;32m-> 1005\u001b[0;31m             \u001b[0;32myield\u001b[0m \u001b[0;32mfrom\u001b[0m \u001b[0mensure_generator\u001b[0m\u001b[0;34m(\u001b[0m\u001b[0mplan\u001b[0m\u001b[0;34m(\u001b[0m\u001b[0;34m)\u001b[0m\u001b[0;34m)\u001b[0m\u001b[0;34m\u001b[0m\u001b[0;34m\u001b[0m\u001b[0m\n\u001b[0m\u001b[1;32m   1006\u001b[0m             \u001b[0;32mtry\u001b[0m\u001b[0;34m:\u001b[0m\u001b[0;34m\u001b[0m\u001b[0;34m\u001b[0m\u001b[0m\n\u001b[1;32m   1007\u001b[0m                 \u001b[0md\u001b[0m \u001b[0;34m=\u001b[0m \u001b[0mnext\u001b[0m\u001b[0;34m(\u001b[0m\u001b[0mdelay\u001b[0m\u001b[0;34m)\u001b[0m\u001b[0;34m\u001b[0m\u001b[0;34m\u001b[0m\u001b[0m\n",
      "\u001b[0;32m/home/mfp/Devel/nsls_ii/bluesky/bluesky/plan_stubs.py\u001b[0m in \u001b[0;36mtrigger_and_read\u001b[0;34m(devices, name)\u001b[0m\n\u001b[1;32m    800\u001b[0m     \u001b[0;32mfrom\u001b[0m \u001b[0;34m.\u001b[0m\u001b[0mpreprocessors\u001b[0m \u001b[0;32mimport\u001b[0m \u001b[0mrewindable_wrapper\u001b[0m\u001b[0;34m\u001b[0m\u001b[0;34m\u001b[0m\u001b[0m\n\u001b[1;32m    801\u001b[0m     return (yield from rewindable_wrapper(inner_trigger_and_read(),\n\u001b[0;32m--> 802\u001b[0;31m                                           rewindable))\n\u001b[0m\u001b[1;32m    803\u001b[0m \u001b[0;34m\u001b[0m\u001b[0m\n\u001b[1;32m    804\u001b[0m \u001b[0;34m\u001b[0m\u001b[0m\n",
      "\u001b[0;32m/home/mfp/Devel/nsls_ii/bluesky/bluesky/preprocessors.py\u001b[0m in \u001b[0;36mrewindable_wrapper\u001b[0;34m(plan, rewindable)\u001b[0m\n\u001b[1;32m    679\u001b[0m                                             restore_rewindable()))\n\u001b[1;32m    680\u001b[0m     \u001b[0;32melse\u001b[0m\u001b[0;34m:\u001b[0m\u001b[0;34m\u001b[0m\u001b[0;34m\u001b[0m\u001b[0m\n\u001b[0;32m--> 681\u001b[0;31m         \u001b[0;32mreturn\u001b[0m \u001b[0;34m(\u001b[0m\u001b[0;32myield\u001b[0m \u001b[0;32mfrom\u001b[0m \u001b[0mplan\u001b[0m\u001b[0;34m)\u001b[0m\u001b[0;34m\u001b[0m\u001b[0;34m\u001b[0m\u001b[0m\n\u001b[0m\u001b[1;32m    682\u001b[0m \u001b[0;34m\u001b[0m\u001b[0m\n\u001b[1;32m    683\u001b[0m \u001b[0;34m\u001b[0m\u001b[0m\n",
      "\u001b[0;32m/home/mfp/Devel/nsls_ii/bluesky/bluesky/plan_stubs.py\u001b[0m in \u001b[0;36minner_trigger_and_read\u001b[0;34m()\u001b[0m\n\u001b[1;32m    789\u001b[0m         \u001b[0;31m# Skip 'wait' if none of the devices implemented a trigger method.\u001b[0m\u001b[0;34m\u001b[0m\u001b[0;34m\u001b[0m\u001b[0;34m\u001b[0m\u001b[0m\n\u001b[1;32m    790\u001b[0m         \u001b[0;32mif\u001b[0m \u001b[0;32mnot\u001b[0m \u001b[0mno_wait\u001b[0m\u001b[0;34m:\u001b[0m\u001b[0;34m\u001b[0m\u001b[0;34m\u001b[0m\u001b[0m\n\u001b[0;32m--> 791\u001b[0;31m             \u001b[0;32myield\u001b[0m \u001b[0;32mfrom\u001b[0m \u001b[0mwait\u001b[0m\u001b[0;34m(\u001b[0m\u001b[0mgroup\u001b[0m\u001b[0;34m=\u001b[0m\u001b[0mgrp\u001b[0m\u001b[0;34m)\u001b[0m\u001b[0;34m\u001b[0m\u001b[0;34m\u001b[0m\u001b[0m\n\u001b[0m\u001b[1;32m    792\u001b[0m         \u001b[0;32myield\u001b[0m \u001b[0;32mfrom\u001b[0m \u001b[0mcreate\u001b[0m\u001b[0;34m(\u001b[0m\u001b[0mname\u001b[0m\u001b[0;34m)\u001b[0m\u001b[0;34m\u001b[0m\u001b[0;34m\u001b[0m\u001b[0m\n\u001b[1;32m    793\u001b[0m         \u001b[0mret\u001b[0m \u001b[0;34m=\u001b[0m \u001b[0;34m{\u001b[0m\u001b[0;34m}\u001b[0m  \u001b[0;31m# collect and return readings to give plan access to them\u001b[0m\u001b[0;34m\u001b[0m\u001b[0;34m\u001b[0m\u001b[0m\n",
      "\u001b[0;32m/home/mfp/Devel/nsls_ii/bluesky/bluesky/plan_stubs.py\u001b[0m in \u001b[0;36mwait\u001b[0;34m(group)\u001b[0m\n\u001b[1;32m    360\u001b[0m         \u001b[0mMsg\u001b[0m\u001b[0;34m(\u001b[0m\u001b[0;34m'wait'\u001b[0m\u001b[0;34m,\u001b[0m \u001b[0;32mNone\u001b[0m\u001b[0;34m,\u001b[0m \u001b[0mgroup\u001b[0m\u001b[0;34m=\u001b[0m\u001b[0mgroup\u001b[0m\u001b[0;34m)\u001b[0m\u001b[0;34m\u001b[0m\u001b[0;34m\u001b[0m\u001b[0m\n\u001b[1;32m    361\u001b[0m     \"\"\"\n\u001b[0;32m--> 362\u001b[0;31m     \u001b[0;32mreturn\u001b[0m \u001b[0;34m(\u001b[0m\u001b[0;32myield\u001b[0m \u001b[0mMsg\u001b[0m\u001b[0;34m(\u001b[0m\u001b[0;34m'wait'\u001b[0m\u001b[0;34m,\u001b[0m \u001b[0;32mNone\u001b[0m\u001b[0;34m,\u001b[0m \u001b[0mgroup\u001b[0m\u001b[0;34m=\u001b[0m\u001b[0mgroup\u001b[0m\u001b[0;34m)\u001b[0m\u001b[0;34m)\u001b[0m\u001b[0;34m\u001b[0m\u001b[0;34m\u001b[0m\u001b[0m\n\u001b[0m\u001b[1;32m    363\u001b[0m \u001b[0;34m\u001b[0m\u001b[0m\n\u001b[1;32m    364\u001b[0m \u001b[0;34m\u001b[0m\u001b[0m\n",
      "\u001b[0;31mFailedStatus\u001b[0m: AndStatus(done=True, success=False)"
     ]
    }
   ],
   "source": [
    "from bluesky import plans as bps, RunEngine \n",
    "\n",
    "# Check that debug print works!\n",
    "#RE = RunEngine()\n",
    "#RE.log.setLevel('DEBUG')\n",
    "\n",
    "\n",
    "ro_dev = ReadonlyDevice(name = 'sig')\n",
    "\n",
    "# Yes that is a hack \n",
    "# But there are other methods to get it better organised\n",
    "ro_dev.log = RE.log\n",
    "if not ro_dev.connected:\n",
    "    ro_dev.wait_for_connection()\n",
    "\n",
    "detectors = [ro_dev]\n",
    "RE(bps.count(detectors, 1))"
   ]
  },
  {
   "cell_type": "markdown",
   "metadata": {
    "slideshow": {
     "slide_type": "subslide"
    }
   },
   "source": [
    "This code could be chained further on. Such code can extended further on and stacked. \n",
    "Based on my experience: if the device needs more handling I recommend to consider to \n",
    "base the code on a state engine."
   ]
  },
  {
   "cell_type": "markdown",
   "metadata": {
    "slideshow": {
     "slide_type": "subslide"
    }
   },
   "source": [
    "<h3> Summary </h3>"
   ]
  },
  {
   "cell_type": "markdown",
   "metadata": {
    "slideshow": {
     "slide_type": "notes"
    }
   },
   "source": [
    "So to sum up:\n",
    "\n",
    "Bluesky run eninge is based on cooperative multi tasking. It assumes that all calls to ophyd device require only a short time to run.\n",
    "Methods that return a status object, are expected to return the status object immediately. "
   ]
  },
  {
   "cell_type": "markdown",
   "metadata": {
    "slideshow": {
     "slide_type": "fragment"
    }
   },
   "source": [
    "* bluesky run engine $\\to$ cooperative multi task\n",
    "* ophyd device driver:\n",
    "   * typically: methods are expected short sequence of CPU\n",
    "   * methods returning status objects:\n",
    "      * Device status objects\n",
    "         * return status object immediatly\n",
    "         * status object method '_finished()' called when done\n",
    "      * or use 'SubscriptionStatus'\n",
    "    * examples given here: callbacks triggered by epics variable changes\n",
    "      ophyd subscribes to the device\n"
   ]
  },
  {
   "cell_type": "markdown",
   "metadata": {
    "slideshow": {
     "slide_type": "slide"
    }
   },
   "source": [
    "<h2>Ophyd signals: everything is a signal </h2>  \n",
    "\n",
    "Compariosn: Unix everything is a file\n",
    "\n",
    "Ophyd:\n",
    "* Everything is a signal\n",
    "* Signals are used to create events\n",
    "* Lifeplots can use them\n",
    "* Bluesky run engine uses signals to gather device information\n",
    "* See further down on event model to understand how it simplifies\n",
    "  measurements"
   ]
  },
  {
   "cell_type": "markdown",
   "metadata": {
    "slideshow": {
     "slide_type": "slide"
    }
   },
   "source": [
    "<h2> Settable devices </h2>\n",
    "\n",
    "The description above concentrated on generating devices, which allow only reading data. \n",
    "Let's see how to implement that. Here I will not go into the basis but show how it can be done\n",
    "using the already implemented bases of ophyd.\n",
    "\n",
    "(I did all the details above as I wanted to illustrate the difference of direct calls to delayed \n",
    "calls).\n",
    "\n",
    "For ophyd settable devices are consideed as \"motors\". Any device that has a set value and a read value falls into \n",
    "this category. Personally I prefer to think of an actuator instead of a motor.\n",
    "\n",
    "Ophyd has several implementations, which facilitate implementing actuators:\n",
    "* Motors\n",
    "* PVPositioner\n",
    "* PVPositionerPC"
   ]
  },
  {
   "cell_type": "markdown",
   "metadata": {
    "slideshow": {
     "slide_type": "subslide"
    }
   },
   "source": [
    "Let's implement a PVPositioner (see also https://github.com/TMsangohan/bact2/blob/66d4bea4f13507b1b82ccb3577fc6a7bfc4b627c/examples/exp/mono_chromator.py#L1)"
   ]
  },
  {
   "cell_type": "code",
   "execution_count": 29,
   "metadata": {
    "slideshow": {
     "slide_type": "subslide"
    }
   },
   "outputs": [],
   "source": [
    "from ophyd import EpicsSignal, EpicsSignalRO, PVPositioner, Component as Cpt\n",
    "\n",
    "class Monochromator( PVPositioner ):\n",
    "    setpoint    = Cpt(EpicsSignal,   ':monoSetEnergy')\n",
    "    readback    = Cpt(EpicsSignalRO, ':monoGetEnergy')\n",
    "    done        = Cpt(EpicsSignalRO, ':multiaxis:running')"
   ]
  },
  {
   "cell_type": "markdown",
   "metadata": {
    "slideshow": {
     "slide_type": "subslide"
    }
   },
   "source": [
    "<h3> PV positioner </h3>\n",
    "\n",
    "Ophyd PV Positioner: requires three variables:\n",
    "* setpoint: a variable that describes the desired value\n",
    "* readback: a variable that descrives the read back value\n",
    "* done: a variable that indicates if the move is finished\n",
    "\n",
    "**Note**: ophyd will consider the move finished when the variable done is set to **True**\n",
    "Setpoint is only used to set the value, readback to read the value\n",
    "Based on these signals the user can get feedback on how long it will take that the \n",
    "move is finished"
   ]
  },
  {
   "cell_type": "markdown",
   "metadata": {
    "slideshow": {
     "slide_type": "subslide"
    }
   },
   "source": [
    "<h3> PV positioner </h3>\n",
    "\n",
    "Ophyd PV Positioner: more functionality:\n",
    "* done: indication value can be set to **False**\n",
    "* stop value: used to request a stop to the actuator\n",
    "\n",
    "See an implementation for a BESSY II monochromator for a idea of it"
   ]
  },
  {
   "cell_type": "code",
   "execution_count": 30,
   "metadata": {
    "slideshow": {
     "slide_type": "fragment"
    }
   },
   "outputs": [],
   "source": [
    "from ophyd import EpicsSignal, EpicsSignalRO, PVPositioner, Component as Cpt\n",
    "\n",
    "class Monochromator( PVPositioner ):\n",
    "    setpoint    = Cpt(EpicsSignal,   ':monoSetEnergy')\n",
    "    readback    = Cpt(EpicsSignalRO, ':monoGetEnergy')\n",
    "    done        = Cpt(EpicsSignalRO, ':multiaxis:running')\n",
    "    done_val = 0\n",
    "    stop_signal = Cpt(EpicsSignal,   ':multiaxis:stop')\n",
    "    stop_val = 1"
   ]
  },
  {
   "cell_type": "markdown",
   "metadata": {
    "slideshow": {
     "slide_type": "subslide"
    }
   },
   "source": [
    "<h3>Adapting it further to our needs</h3>\n",
    "    \n",
    "The monochromator now is fairly nicely  fulfilling our needs. But we can go further....\n",
    "\n",
    "Ophyd follows the idea of intelligent devices:\n",
    "* Settle time: how long does it take a device to stabilise after \n",
    "  the movement has signalled finished (e.g. a bar stops osszilating)\n",
    "* Time out: maximum time that the movement is allowwed to take\n",
    "\n",
    "**NB** these are variables of the status object. Thus' these can be \n",
    "computed if required....\n"
   ]
  },
  {
   "cell_type": "code",
   "execution_count": 31,
   "metadata": {
    "slideshow": {
     "slide_type": "subslide"
    }
   },
   "outputs": [],
   "source": [
    "class _Monochromator( PVPositioner ):\n",
    "    setpoint    = Cpt(EpicsSignal,   ':monoSetEnergy')\n",
    "    readback    = Cpt(EpicsSignalRO, ':monoGetEnergy')\n",
    "    done        = Cpt(EpicsSignalRO, ':multiaxis:running')\n",
    "    done_val = 0\n",
    "    stop_signal = Cpt(EpicsSignal,   ':multiaxis:stop')\n",
    "    stop_val = 1\n",
    "\n",
    "\n",
    "    def trigger(self):\n",
    "        \"\"\"Trigger only after new data has arrived\n",
    "        Deactivated not to interfere with :class:`PVPositioner`\n",
    "        \n",
    "        Warning:\n",
    "            Untested code!!!\n",
    "            \n",
    "        Better test it first\n",
    "        \"\"\"\n",
    "        status = super().trigger()\n",
    "        status.set_settle\n",
    "\n",
    "        def cb_rdbk(*args, **kwargs):\n",
    "            return True\n",
    "        \n",
    "        stat_rdbk = SubscriptionStatus(self.readback, cb_rdbk, run = False, timeout = 1, settle_time = 2)\n",
    "        return stat_rdbk\n",
    "\n",
    "class Monochromator( Device ):\n",
    "    dev = Cpt(_Monochromator, 'u171dcm1', name = 'mc', egu = 'eV')"
   ]
  },
  {
   "cell_type": "markdown",
   "metadata": {
    "slideshow": {
     "slide_type": "subslide"
    }
   },
   "source": [
    "<h3> Everything is a signal </h3>\n",
    "\n",
    "Settle time and timeouts are values, which can be convieniently stored in the event document. \n",
    "\n",
    "This can be handled too: make these values signals\n"
   ]
  },
  {
   "cell_type": "code",
   "execution_count": 32,
   "metadata": {
    "slideshow": {
     "slide_type": "subslide"
    }
   },
   "outputs": [],
   "source": [
    "from ophyd import PVPositioner, Component as Cpt, Signal, EpicsSignal, EpicsSignalRO\n",
    "\n",
    "class _Monochromator( PVPositioner ):\n",
    "    setpoint    = Cpt(EpicsSignal,   ':monoSetEnergy')\n",
    "    readback    = Cpt(EpicsSignalRO, ':monoGetEnergy')\n",
    "    done        = Cpt(EpicsSignalRO, ':multiaxis:running')\n",
    "    done_val = 0\n",
    "    stop_signal = Cpt(EpicsSignal,   ':multiaxis:stop')\n",
    "    stop_val = 1\n",
    "\n",
    "    timeout    = Cpt(Signal, 'timeout', default=1.0)\n",
    "    settle_time = Cpt(Signal, 'settle_time', default=2.0), \n",
    "    \n",
    "    def trigger(self):\n",
    "        \"\"\"Trigger only after new data has arrived\n",
    "        Deactivated not to interfere with :class:`PVPositioner`\n",
    "        \n",
    "        Warning:\n",
    "            Untested code!!!\n",
    "            \n",
    "        Better test it first\n",
    "        \"\"\"\n",
    "        status = super().trigger()\n",
    "    \n",
    "        stat_rdbk = SubscriptionStatus(self.readback, cb_rdbk, run = False, \n",
    "                                       timeout = self.timeout.value, \n",
    "                                       settle_time = self.settle_time.value)\n",
    "        stat_rdbk.add_callback(status)\n",
    "        return stat_rdbk"
   ]
  },
  {
   "cell_type": "markdown",
   "metadata": {
    "slideshow": {
     "slide_type": "slide"
    }
   },
   "source": [
    "<h3> Marking signals as configuration signals</h3>\n",
    "\n",
    "Blueskys RunEngin will emit event documents. The setup is described in http://nsls-ii.github.io//architecture-overview.html.\n",
    "\n",
    "As a rule of thumb:\n",
    "* Ophydd devices can contain a tree of devices\n",
    "* Bluesky inspects the devices and read all signals\n",
    "* The information of all signals will be added to each event\n",
    "\n"
   ]
  },
  {
   "cell_type": "code",
   "execution_count": null,
   "metadata": {},
   "outputs": [],
   "source": []
  },
  {
   "cell_type": "code",
   "execution_count": 33,
   "metadata": {
    "slideshow": {
     "slide_type": "fragment"
    }
   },
   "outputs": [],
   "source": [
    "class _Monochromator( PVPositioner ):\n",
    "    # Class members only stored in configuration run\n",
    "    _default_configuration_attrs = ('timeout', 'settle_time')"
   ]
  },
  {
   "cell_type": "markdown",
   "metadata": {
    "slideshow": {
     "slide_type": "fragment"
    }
   },
   "source": [
    "In this case the timeout and settle time variables are read out only at the beginning of the run."
   ]
  },
  {
   "cell_type": "markdown",
   "metadata": {
    "slideshow": {
     "slide_type": "subslide"
    }
   },
   "source": [
    "<h3> A slow moving device </h3>\n",
    "\n",
    "If we have a slow moving device, perhaps we want to compute the acceptable \n",
    "time for the movement. This time can depend very much on the required time ...\n",
    "\n",
    "\n",
    "Here two points should be separated:\n",
    "* appropriate time out value depends on the path length (see next slide)\n",
    "* how to inform the user, that progress takes some time\n"
   ]
  },
  {
   "cell_type": "code",
   "execution_count": 34,
   "metadata": {
    "slideshow": {
     "slide_type": "subslide"
    }
   },
   "outputs": [],
   "source": [
    "class SlowMovingDevice ( PVPositioner ):\n",
    "    setpoint = Cpt(EpicsSignal,   ':set')\n",
    "    readback = Cpt(EpicsSignalRO, ':rbk')\n",
    "    done     = Cpt(EpicsSignalRO, ':done')\n",
    "    \n",
    "    timeout    = Cpt(Signal, 'timeout', default=1.0)\n",
    "    settle_time = Cpt(Signal, 'settle_time', default=2.0), \n",
    "\n",
    "    \n",
    "    def computeMovementTime(self, current, target):\n",
    "        \"\"\"\n",
    "        Todo:\n",
    "            compute settle time\n",
    "        \"\"\"\n",
    "        \n",
    "        return settle_time\n",
    "    \n",
    "    def set(self, value):\n",
    "        \"\"\"\n",
    "        \n",
    "        WARNING:\n",
    "            Untested code!\n",
    "        \"\"\"\n",
    "        current = self.readback.value\n",
    "        movement_time = self.computeMovementTime(current, value)\n",
    "        # how much to add to the pure movement time?\n",
    "        # typically a percentage and an additional value\n",
    "        setlle_time = movement_time\n",
    "        self.settle_time.set(settle_time)\n",
    "        \n",
    "        # create a status object or add the settle time to the \n",
    "        # status object\n"
   ]
  },
  {
   "cell_type": "markdown",
   "metadata": {
    "slideshow": {
     "slide_type": "slide"
    }
   },
   "source": [
    "<h3> Informing the user on progress </h3>\n",
    "\n",
    "* Progress bar: provided by bluesky\n",
    "* Requires attachment to RunEngine\n"
   ]
  },
  {
   "cell_type": "code",
   "execution_count": 35,
   "metadata": {
    "slideshow": {
     "slide_type": "fragment"
    }
   },
   "outputs": [],
   "source": [
    "from bluesky.utils import ProgressBarManager\n",
    "# if you are running from shell: seems to become obsolete\n",
    "# from bluesky.utils import install_qt_kicker\n",
    "from bluesky.utils import install_nb_kicker\n",
    "\n",
    "install_nb_kicker()\n",
    "RE.waiting_hook = ProgressBarManager()"
   ]
  },
  {
   "cell_type": "markdown",
   "metadata": {
    "slideshow": {
     "slide_type": "subslide"
    }
   },
   "source": [
    "<h4> Info to progress bar manager </h4>\n",
    "\n",
    "* Modell: Buzzer in the beer garden\n",
    "* Normally: buzzes when dish is ready\n",
    "* preferable version: \n",
    "    * have a display showing when dish expected to finish\n",
    "    * e.g. cook entering periodically when happen next  \n",
    "* ophyd: device has to inform on status\n",
    "\n",
    "see `MoveStatus` https://github.com/bluesky/ophyd/blob/master/ophyd/status.py\n",
    "and in particular `watch` method \n",
    "see next slide"
   ]
  },
  {
   "cell_type": "code",
   "execution_count": 36,
   "metadata": {
    "slideshow": {
     "slide_type": "subslide"
    }
   },
   "outputs": [],
   "source": [
    "class FollowStatus(ophyd.status.SubscriptionStatus):\n",
    "    def watch(self, func):\n",
    "        \"\"\"\n",
    "        Subscribe to notifications about progress. Useful for progress bars.\n",
    "        Parameters\n",
    "        ----------\n",
    "        func : callable\n",
    "            Expected to accept the keyword aruments:\n",
    "                * ``name``\n",
    "                * ``current``\n",
    "                * ``initial``\n",
    "                * ``target``\n",
    "                * ``unit``\n",
    "                * ``precision``\n",
    "                * ``fraction``\n",
    "                * ``time_elapsed``\n",
    "                * ``time_remaining``\n",
    "        \"\"\"\n",
    "    "
   ]
  },
  {
   "cell_type": "markdown",
   "metadata": {
    "slideshow": {
     "slide_type": "subslide"
    }
   },
   "source": [
    "<h4> Implementation example: Movestatus</h4>"
   ]
  },
  {
   "cell_type": "code",
   "execution_count": 37,
   "metadata": {
    "slideshow": {
     "slide_type": "fragment"
    }
   },
   "outputs": [],
   "source": [
    "class FollowStatus(ophyd.status.SubscriptionStatus):\n",
    "    \"\"\"\n",
    "    Warning:\n",
    "        Do not use: just for illustration purpose\n",
    "    \"\"\"\n",
    "    def __init__(self, dev, *args, **kws):\n",
    "        super().__init__(self, dev, *args, **kws)\n",
    "         \n",
    "        self.device.subscribe(self._notify_watchers)\n",
    "            \n",
    "    def _notify_watchers(self, value, *args, **kwargs):\n",
    "        if not self._watchers:\n",
    "            return\n",
    "        \n",
    "        for watcher in self._watchers:\n",
    "            # watcher(name=, current = , initial = , target  = , unit= , precision = , time_elapsed=, fraction=)\n",
    "            pass"
   ]
  },
  {
   "cell_type": "markdown",
   "metadata": {
    "slideshow": {
     "slide_type": "subslide"
    }
   },
   "source": [
    "Be aware: \n",
    " * this example: triggered by changes on device\n",
    " * Typically updates every **50 ms**\n",
    " * bluesky expectes updates at least every **0.2 s**\n",
    " * If slower: will complain that no information is available"
   ]
  },
  {
   "cell_type": "markdown",
   "metadata": {
    "slideshow": {
     "slide_type": "subslide"
    }
   },
   "source": [
    "<h3> Watching progress </h3>"
   ]
  },
  {
   "cell_type": "code",
   "execution_count": 38,
   "metadata": {
    "slideshow": {
     "slide_type": "subslide"
    }
   },
   "outputs": [
    {
     "name": "stdout",
     "output_type": "stream",
     "text": [
      "Transient Scan ID: 9     Time: 2019-08-27 17:29:16\n",
      "Persistent Unique Scan ID: '28009dff-258c-49db-95f9-5b27fc6bc82e'\n",
      "motor [In progress. No progress bar available.]                                \n",
      "\u001b[AA 'deferred pause' has been requested. The RunEngine will pause at the next checkpoint. To pause immediately, hit Ctrl+C again in the next 10 seconds.Deferred pause acknowledged. Continuing to checkpoint.\n",
      "\n",
      "trying a second time\n",
      "Pausing...\n",
      "                                                                               \n",
      "\u001b[A"
     ]
    },
    {
     "ename": "RunEngineInterrupted",
     "evalue": "\nYour RunEngine is entering a paused state. These are your options for changing\nthe state of the RunEngine:\n\nRE.resume()    Resume the plan.\nRE.abort()     Perform cleanup, then kill plan. Mark exit_stats='aborted'.\nRE.stop()      Perform cleanup, then kill plan. Mark exit_status='success'.\nRE.halt()      Emergency Stop: Do not perform cleanup --- just stop.\n",
     "output_type": "error",
     "traceback": [
      "\u001b[0;31m---------------------------------------------------------------------------\u001b[0m",
      "\u001b[0;31mRunEngineInterrupted\u001b[0m                      Traceback (most recent call last)",
      "\u001b[0;32m<ipython-input-38-6afc735e2411>\u001b[0m in \u001b[0;36m<module>\u001b[0;34m()\u001b[0m\n\u001b[1;32m     46\u001b[0m \u001b[0mRE\u001b[0m\u001b[0;34m.\u001b[0m\u001b[0mlog\u001b[0m\u001b[0;34m.\u001b[0m\u001b[0msetLevel\u001b[0m\u001b[0;34m(\u001b[0m\u001b[0;34m'WARNING'\u001b[0m\u001b[0;34m)\u001b[0m\u001b[0;34m\u001b[0m\u001b[0;34m\u001b[0m\u001b[0m\n\u001b[1;32m     47\u001b[0m \u001b[0mdetectors\u001b[0m \u001b[0;34m=\u001b[0m \u001b[0;34m[\u001b[0m\u001b[0mdet\u001b[0m\u001b[0;34m]\u001b[0m\u001b[0;34m\u001b[0m\u001b[0;34m\u001b[0m\u001b[0m\n\u001b[0;32m---> 48\u001b[0;31m \u001b[0mRE\u001b[0m\u001b[0;34m(\u001b[0m\u001b[0mbp\u001b[0m\u001b[0;34m.\u001b[0m\u001b[0mscan\u001b[0m\u001b[0;34m(\u001b[0m\u001b[0mdetectors\u001b[0m\u001b[0;34m,\u001b[0m \u001b[0mmotor\u001b[0m\u001b[0;34m,\u001b[0m \u001b[0;36m0\u001b[0m\u001b[0;34m,\u001b[0m \u001b[0;36m3\u001b[0m\u001b[0;34m,\u001b[0m \u001b[0mnum\u001b[0m\u001b[0;34m=\u001b[0m\u001b[0;36m2\u001b[0m\u001b[0;34m)\u001b[0m\u001b[0;34m)\u001b[0m\u001b[0;34m\u001b[0m\u001b[0;34m\u001b[0m\u001b[0m\n\u001b[0m",
      "\u001b[0;32m/home/mfp/Devel/nsls_ii/bluesky/bluesky/run_engine.py\u001b[0m in \u001b[0;36m__call__\u001b[0;34m(self, *args, **metadata_kw)\u001b[0m\n\u001b[1;32m    836\u001b[0m \u001b[0;34m\u001b[0m\u001b[0m\n\u001b[1;32m    837\u001b[0m         \u001b[0;32mif\u001b[0m \u001b[0mself\u001b[0m\u001b[0;34m.\u001b[0m\u001b[0m_interrupted\u001b[0m\u001b[0;34m:\u001b[0m\u001b[0;34m\u001b[0m\u001b[0;34m\u001b[0m\u001b[0m\n\u001b[0;32m--> 838\u001b[0;31m             \u001b[0;32mraise\u001b[0m \u001b[0mRunEngineInterrupted\u001b[0m\u001b[0;34m(\u001b[0m\u001b[0mself\u001b[0m\u001b[0;34m.\u001b[0m\u001b[0mpause_msg\u001b[0m\u001b[0;34m)\u001b[0m \u001b[0;32mfrom\u001b[0m \u001b[0;32mNone\u001b[0m\u001b[0;34m\u001b[0m\u001b[0;34m\u001b[0m\u001b[0m\n\u001b[0m\u001b[1;32m    839\u001b[0m \u001b[0;34m\u001b[0m\u001b[0m\n\u001b[1;32m    840\u001b[0m         \u001b[0;32mreturn\u001b[0m \u001b[0mtuple\u001b[0m\u001b[0;34m(\u001b[0m\u001b[0mself\u001b[0m\u001b[0;34m.\u001b[0m\u001b[0m_run_start_uids\u001b[0m\u001b[0;34m)\u001b[0m\u001b[0;34m\u001b[0m\u001b[0;34m\u001b[0m\u001b[0m\n",
      "\u001b[0;31mRunEngineInterrupted\u001b[0m: \nYour RunEngine is entering a paused state. These are your options for changing\nthe state of the RunEngine:\n\nRE.resume()    Resume the plan.\nRE.abort()     Perform cleanup, then kill plan. Mark exit_stats='aborted'.\nRE.stop()      Perform cleanup, then kill plan. Mark exit_status='success'.\nRE.halt()      Emergency Stop: Do not perform cleanup --- just stop.\n"
     ]
    }
   ],
   "source": [
    "from ophyd.sim import SynAxis, det\n",
    "\n",
    "class SimMoveStatus(DeviceStatus):\n",
    "    def __init__(self, *args, **kwargs):\n",
    "        super().__init__(*args, **kwargs)\n",
    "        \n",
    "        if not self.done:\n",
    "            self.device.subscribe(self._notify_watchers,\n",
    "                                   # event_type=self.device.SUB_READBACK\n",
    "                                  )\n",
    "\n",
    "    def _settled(self,  *args, **kwargs):\n",
    "        self.device.clear_sub(self._notify_watchers)\n",
    "        self._watchers.clear()\n",
    "\n",
    "    def _notify_watchers(self, value, *args, **kwargs):\n",
    "        if not self._watchers:\n",
    "            return\n",
    "        \n",
    "        dev = self.device\n",
    "        for watcher in self._watchers:\n",
    "            watcher(name = dev.name, current = dev.readback, target = dev.setpoint\n",
    "            )\n",
    "\n",
    "class SlowSimulatedAxis(SynAxis):\n",
    "    def set(self, value):\n",
    "        stat = super().set(value)\n",
    "        #self.log.warning(f\"status = {status} of type {type(status)}\")\n",
    "        \n",
    "        stat2 = SimMoveStatus(device = self)\n",
    "        def cb_finished(**kwargs):\n",
    "            nonlocal stat2\n",
    "            stat2._finished()\n",
    "        stat.add_callback(cb_finished)\n",
    "        \n",
    "        return stat2\n",
    "        \n",
    "motor = SlowSimulatedAxis(name = 'motor', delay = .5)\n",
    "from bluesky.utils import ProgressBarManager\n",
    "from bluesky.callbacks.best_effort import BestEffortCallback\n",
    "\n",
    "import bluesky.plans as bp\n",
    "\n",
    "RE.waiting_hook = ProgressBarManager()\n",
    "# RE.subscribe(BestEffortCallback())\n",
    "RE.log.setLevel('WARNING')\n",
    "detectors = [det]\n",
    "RE(bp.scan(detectors, motor, 0, 3, num=2))"
   ]
  },
  {
   "cell_type": "code",
   "execution_count": null,
   "metadata": {},
   "outputs": [],
   "source": [
    "bp.scan?"
   ]
  },
  {
   "cell_type": "code",
   "execution_count": null,
   "metadata": {},
   "outputs": [],
   "source": [
    "RE.stop()"
   ]
  },
  {
   "cell_type": "markdown",
   "metadata": {
    "slideshow": {
     "slide_type": "slide"
    }
   },
   "source": [
    "<h1> Code fragments from gitter </h1>"
   ]
  },
  {
   "cell_type": "code",
   "execution_count": null,
   "metadata": {
    "slideshow": {
     "slide_type": "subslide"
    }
   },
   "outputs": [],
   "source": [
    "from ophyd import Device, Component as Cpt, EpicsSignal, Signal, DeviceStatus\n",
    "\n",
    "class AccumulatingSignal(Device):\n",
    "     target = Cpt(EpicsSignal, 'thermo:I')\n",
    "     window_size = Cpt(Signal, value=5)\n",
    "     last_read = Cpt(Signal, value=[])     \n",
    "\n",
    "\n",
    "     def trigger(self):\n",
    "\n",
    "          dbuffer = []\n",
    "          count = 0\n",
    "          target_N = self.window_size.get()\n",
    "          status = DeviceStatus(self)\n",
    "\n",
    "          def accumulating_callback(value, **kwargs):\n",
    "               if status.done:\n",
    "                    self.target.clear_sub(accumulating_callback)\n",
    "               nonlocal count\n",
    "\n",
    "               dbuffer.append(value)\n",
    "               count += 1\n",
    "\n",
    "               if count >= target_N:\n",
    "                    self.last_read.put(dbuffer[:target_N])\n",
    "                    self.target.clear_sub(accumulating_callback)                         \n",
    "                    status._finished()\n",
    "\n",
    "          self.target.subscribe(accumulating_callback, run=False)          \n",
    "\n",
    "          return status\n",
    "\n",
    "     def put(self, *args, **kwargs):\n",
    "           raise Exception(\"no, read only\")"
   ]
  },
  {
   "cell_type": "code",
   "execution_count": null,
   "metadata": {},
   "outputs": [],
   "source": []
  },
  {
   "cell_type": "code",
   "execution_count": null,
   "metadata": {},
   "outputs": [],
   "source": []
  }
 ],
 "metadata": {
  "celltoolbar": "Slideshow",
  "kernelspec": {
   "display_name": "Python 3",
   "language": "python",
   "name": "python3"
  },
  "language_info": {
   "codemirror_mode": {
    "name": "ipython",
    "version": 3
   },
   "file_extension": ".py",
   "mimetype": "text/x-python",
   "name": "python",
   "nbconvert_exporter": "python",
   "pygments_lexer": "ipython3",
   "version": "3.7.3"
  }
 },
 "nbformat": 4,
 "nbformat_minor": 2
}
