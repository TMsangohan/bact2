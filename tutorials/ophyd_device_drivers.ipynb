{
 "cells": [
  {
   "cell_type": "code",
   "execution_count": 2,
   "metadata": {
    "slideshow": {
     "slide_type": "skip"
    }
   },
   "outputs": [],
   "source": [
    "from notebook.services.config import ConfigManager\n",
    "cm = ConfigManager()"
   ]
  },
  {
   "cell_type": "code",
   "execution_count": 3,
   "metadata": {
    "slideshow": {
     "slide_type": "skip"
    }
   },
   "outputs": [],
   "source": [
    "from notebook.services.config import ConfigManager\n",
    "cm = ConfigManager()"
   ]
  },
  {
   "cell_type": "code",
   "execution_count": 4,
   "metadata": {
    "slideshow": {
     "slide_type": "skip"
    }
   },
   "outputs": [
    {
     "data": {
      "text/plain": [
       "{'width': 1000, 'height': 600, 'scroll': True}"
      ]
     },
     "execution_count": 4,
     "metadata": {},
     "output_type": "execute_result"
    }
   ],
   "source": [
    "cm.update('livereveal', {\n",
    "#              'width': 1000,\n",
    "#              'height': 600,\n",
    "#              'scroll': True,\n",
    "})"
   ]
  },
  {
   "cell_type": "code",
   "execution_count": null,
   "metadata": {
    "slideshow": {
     "slide_type": "skip"
    }
   },
   "outputs": [],
   "source": [
    "# Select a read only variable which gives a new output every now and then "
   ]
  },
  {
   "cell_type": "markdown",
   "metadata": {
    "slideshow": {
     "slide_type": "slide"
    }
   },
   "source": [
    "<h1> Introduction to Bluesky and Ophyd </h1>\n",
    "\n",
    "Author: Pierre Schnizer\n"
   ]
  },
  {
   "cell_type": "markdown",
   "metadata": {
    "slideshow": {
     "slide_type": "subslide"
    }
   },
   "source": [
    "<h2> Literature </h2>\n",
    "\n",
    "<h3> Python knowledge </h3>\n",
    "\n",
    "* classes and inheritance\n",
    "* generators  \n",
    "* decorators\n",
    "* asyncio\n",
    "* Global Intepreter Lock\n",
    "\n"
   ]
  },
  {
   "cell_type": "markdown",
   "metadata": {
    "slideshow": {
     "slide_type": "notes"
    }
   },
   "source": [
    "<h2> Literature </h2>\n",
    "\n",
    "<h3> Python </h3>\n",
    "The author assumes that the reader is familiar with python language version 3. \n",
    "Bluesky and Ophyd make have use of:\n",
    "\n",
    "* asyncio\n",
    "* generators  \n",
    "* decorators\n",
    "* Global Intepreter Lock\n",
    "\n"
   ]
  },
  {
   "cell_type": "markdown",
   "metadata": {
    "slideshow": {
     "slide_type": "subslide"
    }
   },
   "source": [
    "<h3> Abstraction </h3>\n",
    "\n",
    "Most of these implementation details are abstracted in an elegant manner. \n",
    "But ocassioally, in particular when debugging \n",
    "a faulty device driver, it can be helpful to be awaare of the general concepts of asynchronous programming.\n",
    "\n",
    "Generators are used by bluesky plans or plan stubs. If plans are used, which are provided by bluesky,\n",
    "the user does not need to worry about these details.\n",
    "\n",
    "If one wants to implement ophyd device drivers, the concept of classes should be understood.\n",
    "\n",
    "<h3> Bluesky and ophyd links </h3>\n",
    "\n",
    "* Bluesky and ophyd are available from https://github.com/bluesky/bluesky\n",
    "* Documentation: https://blueskyproject.io/bluesky/\n",
    "* Tutorial: https://github.com/bluesky/tutorial/\n",
    "* Chat https://gitter.im/NSLS-II/DAMA"
   ]
  },
  {
   "cell_type": "markdown",
   "metadata": {
    "slideshow": {
     "slide_type": "slide"
    }
   },
   "source": [
    "<h2> General Concepts </h2>\n",
    "\n",
    "Bluesky is used with already two meanings:\n",
    "* Bluesky collaboration: a set of different modules used to simplify taking data within the EPICS control system environement\n",
    "* Bluesky as the python module, which provides the RunEngine and plans\n",
    "\n",
    "In the following I will use \"Bluesky\" as reference to the module. If I want to refer to the whole package, I refer to it\n",
    "as \"Bluesky measurement orchestration\"\n",
    "\n"
   ]
  },
  {
   "cell_type": "markdown",
   "metadata": {
    "slideshow": {
     "slide_type": "subslide"
    }
   },
   "source": [
    "<h3> Bluesky build up</h3>\n",
    "\n",
    "Bluesky collaboration uses the following concpets:\n",
    "* A control system (EPICS) is responsible for taking data\n",
    "* This control system provides asynchronos and parallel access to the devices using variables\n",
    "* It separates device abstraction from measurement plans\n",
    "* In this concept:\n",
    "\n",
    "    * Ophyd allows making devices accessible abstracted as classes with different methods\n",
    "    * Bluesky provides measurement plans and the run engine\n",
    "    * The run engine executes the plans by calling appropriate methods of the involved devices. \n",
    "      (This description is a bit imprecise and will be detailed further below)\n",
    "\n",
    "\n"
   ]
  },
  {
   "cell_type": "markdown",
   "metadata": {
    "slideshow": {
     "slide_type": "subslide"
    }
   },
   "source": [
    "<h3> Asynchronous access</h3>\n",
    "\n",
    "At this stage, one could still directly access the different process variables. But the run engine\n",
    "assures that these are accessed in an asynchronous fashion. How this works is detailed below.\n",
    "\n",
    "Furthermore:\n",
    "* these modules (as much as python) are not real time software (and in particular not \n",
    "  *hard* real time software)\n",
    "* but it has the tools to:\n",
    "  * set up different hard real time devices\n",
    "  * to get them going \n",
    "  * and to collect their data in the end\n",
    "* It is right to control a small or medium size experiments\n",
    "\n",
    "Your millage may vary ;-)"
   ]
  },
  {
   "cell_type": "markdown",
   "metadata": {
    "slideshow": {
     "slide_type": "slide"
    }
   },
   "source": [
    "<h3> Device driver example </h3>\n",
    "\n",
    "Let's look to a simple device driver. For the beginning let's assume we have a read only\n",
    "Epics variable with name 'sig:ro'.\n"
   ]
  },
  {
   "cell_type": "code",
   "execution_count": 10,
   "metadata": {
    "slideshow": {
     "slide_type": "subslide"
    }
   },
   "outputs": [],
   "source": [
    "from ophyd import Device\n",
    "from ophyd.status import Status\n",
    "\n",
    "class ReadonlyDevice(Device):\n",
    "    \"\"\"A simple sample device\n",
    "    \n",
    "    This devivce is solely used to describe the methods\n",
    "    \"\"\"\n",
    "    ro = Cpt(EpicsSignalRO, name = 'sig:ro')"
   ]
  },
  {
   "cell_type": "markdown",
   "metadata": {
    "slideshow": {
     "slide_type": "subslide"
    }
   },
   "source": [
    "If nothing fancy is required that would be sufficient. If we now want to read the data \n",
    "lets say 5 times the following code would do the job"
   ]
  },
  {
   "cell_type": "code",
   "execution_count": null,
   "metadata": {
    "slideshow": {
     "slide_type": "subslide"
    }
   },
   "outputs": [],
   "source": [
    "from bluesky import plans as bps, RunEngine \n",
    "\n",
    "r = ReadonlyDevice(name = sig)\n",
    "\n",
    "RE = Runengine()\n",
    "RE(bps.count(r, 5))"
   ]
  },
  {
   "cell_type": "markdown",
   "metadata": {
    "slideshow": {
     "slide_type": "subslide"
    }
   },
   "source": [
    "This is rather opaque, so lets see what is happening under the hood:\n",
    "\n",
    "This we can do if we use the same code as above and enable logging"
   ]
  },
  {
   "cell_type": "code",
   "execution_count": 16,
   "metadata": {
    "slideshow": {
     "slide_type": "subslide"
    }
   },
   "outputs": [
    {
     "ename": "TypeError",
     "evalue": "__init__() missing 1 required positional argument: 'read_pv'",
     "output_type": "error",
     "traceback": [
      "\u001b[1;31m---------------------------------------------------------------------------\u001b[0m",
      "\u001b[1;31mTypeError\u001b[0m                                 Traceback (most recent call last)",
      "\u001b[1;32m<ipython-input-16-7d03e31d5791>\u001b[0m in \u001b[0;36m<module>\u001b[1;34m\u001b[0m\n\u001b[0;32m      6\u001b[0m \u001b[1;33m\u001b[0m\u001b[0m\n\u001b[0;32m      7\u001b[0m \u001b[1;33m\u001b[0m\u001b[0m\n\u001b[1;32m----> 8\u001b[1;33m \u001b[0mr\u001b[0m \u001b[1;33m=\u001b[0m \u001b[0mReadonlyDevice\u001b[0m\u001b[1;33m(\u001b[0m\u001b[0mname\u001b[0m \u001b[1;33m=\u001b[0m \u001b[1;34m'sig'\u001b[0m\u001b[1;33m)\u001b[0m\u001b[1;33m\u001b[0m\u001b[1;33m\u001b[0m\u001b[0m\n\u001b[0m\u001b[0;32m      9\u001b[0m \u001b[1;33m\u001b[0m\u001b[0m\n\u001b[0;32m     10\u001b[0m \u001b[0mRE\u001b[0m\u001b[1;33m(\u001b[0m\u001b[0mbps\u001b[0m\u001b[1;33m.\u001b[0m\u001b[0mcount\u001b[0m\u001b[1;33m(\u001b[0m\u001b[0mr\u001b[0m\u001b[1;33m,\u001b[0m \u001b[1;36m5\u001b[0m\u001b[1;33m)\u001b[0m\u001b[1;33m)\u001b[0m\u001b[1;33m\u001b[0m\u001b[1;33m\u001b[0m\u001b[0m\n",
      "\u001b[1;32mC:\\LocalPrograms\\Anaconda\\lib\\site-packages\\ophyd-0+unknown-py3.6.egg\\ophyd\\device.py\u001b[0m in \u001b[0;36m__init__\u001b[1;34m(self, prefix, name, kind, read_attrs, configuration_attrs, parent, **kwargs)\u001b[0m\n\u001b[0;32m    855\u001b[0m         \u001b[1;32mwith\u001b[0m \u001b[0mdo_not_wait_for_lazy_connection\u001b[0m\u001b[1;33m(\u001b[0m\u001b[0mself\u001b[0m\u001b[1;33m)\u001b[0m\u001b[1;33m:\u001b[0m\u001b[1;33m\u001b[0m\u001b[1;33m\u001b[0m\u001b[0m\n\u001b[0;32m    856\u001b[0m             \u001b[1;31m# Instantiate non-lazy signals and lazy signals with subscriptions\u001b[0m\u001b[1;33m\u001b[0m\u001b[1;33m\u001b[0m\u001b[1;33m\u001b[0m\u001b[0m\n\u001b[1;32m--> 857\u001b[1;33m             [getattr(self, attr) for attr, cpt in self._sig_attrs.items()\n\u001b[0m\u001b[0;32m    858\u001b[0m              if not cpt.lazy or cpt._subscriptions]\n\u001b[0;32m    859\u001b[0m \u001b[1;33m\u001b[0m\u001b[0m\n",
      "\u001b[1;32mC:\\LocalPrograms\\Anaconda\\lib\\site-packages\\ophyd-0+unknown-py3.6.egg\\ophyd\\device.py\u001b[0m in \u001b[0;36m<listcomp>\u001b[1;34m(.0)\u001b[0m\n\u001b[0;32m    856\u001b[0m             \u001b[1;31m# Instantiate non-lazy signals and lazy signals with subscriptions\u001b[0m\u001b[1;33m\u001b[0m\u001b[1;33m\u001b[0m\u001b[1;33m\u001b[0m\u001b[0m\n\u001b[0;32m    857\u001b[0m             [getattr(self, attr) for attr, cpt in self._sig_attrs.items()\n\u001b[1;32m--> 858\u001b[1;33m              if not cpt.lazy or cpt._subscriptions]\n\u001b[0m\u001b[0;32m    859\u001b[0m \u001b[1;33m\u001b[0m\u001b[0m\n\u001b[0;32m    860\u001b[0m     \u001b[1;33m@\u001b[0m\u001b[0mclassmethod\u001b[0m\u001b[1;33m\u001b[0m\u001b[1;33m\u001b[0m\u001b[0m\n",
      "\u001b[1;32mC:\\LocalPrograms\\Anaconda\\lib\\site-packages\\ophyd-0+unknown-py3.6.egg\\ophyd\\device.py\u001b[0m in \u001b[0;36m__get__\u001b[1;34m(self, instance, owner)\u001b[0m\n\u001b[0;32m    195\u001b[0m \u001b[1;33m\u001b[0m\u001b[0m\n\u001b[0;32m    196\u001b[0m         \u001b[1;32mif\u001b[0m \u001b[0mself\u001b[0m\u001b[1;33m.\u001b[0m\u001b[0mattr\u001b[0m \u001b[1;32mnot\u001b[0m \u001b[1;32min\u001b[0m \u001b[0minstance\u001b[0m\u001b[1;33m.\u001b[0m\u001b[0m_signals\u001b[0m\u001b[1;33m:\u001b[0m\u001b[1;33m\u001b[0m\u001b[1;33m\u001b[0m\u001b[0m\n\u001b[1;32m--> 197\u001b[1;33m             \u001b[0mcpt_inst\u001b[0m \u001b[1;33m=\u001b[0m \u001b[0mself\u001b[0m\u001b[1;33m.\u001b[0m\u001b[0mcreate_component\u001b[0m\u001b[1;33m(\u001b[0m\u001b[0minstance\u001b[0m\u001b[1;33m)\u001b[0m\u001b[1;33m\u001b[0m\u001b[1;33m\u001b[0m\u001b[0m\n\u001b[0m\u001b[0;32m    198\u001b[0m             \u001b[0minstance\u001b[0m\u001b[1;33m.\u001b[0m\u001b[0m_signals\u001b[0m\u001b[1;33m[\u001b[0m\u001b[0mself\u001b[0m\u001b[1;33m.\u001b[0m\u001b[0mattr\u001b[0m\u001b[1;33m]\u001b[0m \u001b[1;33m=\u001b[0m \u001b[0mcpt_inst\u001b[0m\u001b[1;33m\u001b[0m\u001b[1;33m\u001b[0m\u001b[0m\n\u001b[0;32m    199\u001b[0m \u001b[1;33m\u001b[0m\u001b[0m\n",
      "\u001b[1;32mC:\\LocalPrograms\\Anaconda\\lib\\site-packages\\ophyd-0+unknown-py3.6.egg\\ophyd\\device.py\u001b[0m in \u001b[0;36mcreate_component\u001b[1;34m(self, instance)\u001b[0m\n\u001b[0;32m    145\u001b[0m             \u001b[0mcpt_inst\u001b[0m \u001b[1;33m=\u001b[0m \u001b[0mself\u001b[0m\u001b[1;33m.\u001b[0m\u001b[0mcls\u001b[0m\u001b[1;33m(\u001b[0m\u001b[0mpv_name\u001b[0m\u001b[1;33m,\u001b[0m \u001b[0mparent\u001b[0m\u001b[1;33m=\u001b[0m\u001b[0minstance\u001b[0m\u001b[1;33m,\u001b[0m \u001b[1;33m**\u001b[0m\u001b[0mkwargs\u001b[0m\u001b[1;33m)\u001b[0m\u001b[1;33m\u001b[0m\u001b[1;33m\u001b[0m\u001b[0m\n\u001b[0;32m    146\u001b[0m         \u001b[1;32melse\u001b[0m\u001b[1;33m:\u001b[0m\u001b[1;33m\u001b[0m\u001b[1;33m\u001b[0m\u001b[0m\n\u001b[1;32m--> 147\u001b[1;33m             \u001b[0mcpt_inst\u001b[0m \u001b[1;33m=\u001b[0m \u001b[0mself\u001b[0m\u001b[1;33m.\u001b[0m\u001b[0mcls\u001b[0m\u001b[1;33m(\u001b[0m\u001b[0mparent\u001b[0m\u001b[1;33m=\u001b[0m\u001b[0minstance\u001b[0m\u001b[1;33m,\u001b[0m \u001b[1;33m**\u001b[0m\u001b[0mkwargs\u001b[0m\u001b[1;33m)\u001b[0m\u001b[1;33m\u001b[0m\u001b[1;33m\u001b[0m\u001b[0m\n\u001b[0m\u001b[0;32m    148\u001b[0m \u001b[1;33m\u001b[0m\u001b[0m\n\u001b[0;32m    149\u001b[0m         \u001b[1;32mif\u001b[0m \u001b[0mself\u001b[0m\u001b[1;33m.\u001b[0m\u001b[0mlazy\u001b[0m \u001b[1;32mand\u001b[0m \u001b[0mhasattr\u001b[0m\u001b[1;33m(\u001b[0m\u001b[0mself\u001b[0m\u001b[1;33m.\u001b[0m\u001b[0mcls\u001b[0m\u001b[1;33m,\u001b[0m \u001b[1;34m'wait_for_connection'\u001b[0m\u001b[1;33m)\u001b[0m\u001b[1;33m:\u001b[0m\u001b[1;33m\u001b[0m\u001b[1;33m\u001b[0m\u001b[0m\n",
      "\u001b[1;31mTypeError\u001b[0m: __init__() missing 1 required positional argument: 'read_pv'"
     ]
    }
   ],
   "source": [
    "from bluesky import plans as bps, RunEngine \n",
    "\n",
    "# Check that debug print works!\n",
    "# RE = RunEngine({})\n",
    "# RE.log.setLevel('DEBUG')\n",
    "\n",
    "\n",
    "r = ReadonlyDevice(name = 'sig')\n",
    "\n",
    "RE(bps.count(r, 5))"
   ]
  },
  {
   "cell_type": "markdown",
   "metadata": {
    "slideshow": {
     "slide_type": "subslide"
    }
   },
   "source": [
    "Now let'S look to the output. There is quite some output being presented. \n",
    "What is happending? Let's look under the hood:\n",
    "\n",
    "XXX check if that is right\n",
    "* There is a call to trigger made\n",
    "* There is a call to read\n",
    "\n",
    "So what's the difference?\n",
    "* The method trigger is allowed to take time (but not computation time!) \n",
    "* The method read is used to generate data but not from the device\n",
    "\n",
    "What are the two methods doing:\n",
    "* The method trigger actually \"triggers\" that a device is read.\n",
    "  It is expected that during this call the data from some remote device are transfered to the\n",
    "  local device\n",
    "* The method read takes care to handle the data over to the run engine\n",
    "\n",
    "So let's intercecpt the methods to get a better idea of that"
   ]
  },
  {
   "cell_type": "code",
   "execution_count": 18,
   "metadata": {
    "slideshow": {
     "slide_type": "subslide"
    }
   },
   "outputs": [],
   "source": [
    "from ophyd import Device, Component as Cpt, EpicsSignalRO\n",
    "\n",
    "class ReadonlyDevice(Device):\n",
    "    \"\"\"A simple sample device\n",
    "    \n",
    "    This devivce is solely used to describe the methods\n",
    "    \"\"\"\n",
    "    ro = Cpt(EpicsSignalRO, name = 'sig:ro')\n",
    "    \n",
    "    def trigger(self):\n",
    "        status = super().trigger()\n",
    "        self.log.debug(f'Super method trigger returned {status}')\n",
    "        return status\n",
    "    \n",
    "    def read(self):\n",
    "        result = super().read()\n",
    "        self.log.debug(f'Read returned {result}')\n",
    "        return r"
   ]
  },
  {
   "cell_type": "markdown",
   "metadata": {
    "slideshow": {
     "slide_type": "subslide"
    }
   },
   "source": [
    "Now we see a difference:\n",
    "* trigger returns a status object\n",
    "* while read returns data\n",
    "\n",
    "What's a status object:\n",
    "* a delayed return value\n",
    "* think of the tokens you get in self service restaurants: they buzz as soon as your order is finished\n",
    "\n",
    "\n",
    "This is the general concept of ophyd and bluesky:\n",
    "* methods returning data are expected to execuate without any delay\n",
    "* methods returning status objects are allowed responding with some delay.\n",
    "  (but not to take computation. How to do that is detailed furhter down)\n",
    "  \n",
    "What'S the status object: well think of the new resteraunts that give you a token when you order: \n",
    "the token rings as soon as you are finished.\n",
    "\n",
    "I'll detail that in an other example:"
   ]
  },
  {
   "cell_type": "code",
   "execution_count": 21,
   "metadata": {
    "slideshow": {
     "slide_type": "subslide"
    }
   },
   "outputs": [],
   "source": [
    "from ophyd import Device\n",
    "from ophyd.status import DeviceStatus\n",
    "\n",
    "class ReadonlyDevice(Device):\n",
    "    \"\"\"A simple sample device\n",
    "    \n",
    "    This devivce is solely used to describe the methods\n",
    "    \n",
    "    Warning:\n",
    "        This code is not properly made\n",
    "    \"\"\"\n",
    "    ro = Cpt(EpicsSignalRO, name = 'sig:ro')\n",
    "    \n",
    "    def trigger(self):\n",
    "        \"\"\"\n",
    "        \n",
    "        Warning:\n",
    "         This code is not the most elegant one ....\n",
    "          See further down for a simpler one\n",
    "        \"\"\"\n",
    "        cid = None\n",
    "        status = Devicestatus()\n",
    "        def ensure_new_data(*args, value = None, old_value = None, **kwargs):\n",
    "                self.ro.clear_sub(ensure_new_data)\n",
    "                status._finished()\n",
    "                \n",
    "                \n",
    "        self.ro.subscibe(ensure_new_data)\n",
    "        return status"
   ]
  },
  {
   "cell_type": "markdown",
   "metadata": {
    "slideshow": {
     "slide_type": "subslide"
    }
   },
   "source": [
    "The trigger method shows:\n",
    "* a status object is created. \n",
    "* a callback is subscribed to the variable\n",
    "* a status object is returned.\n",
    "\n",
    "How is that code executed:\n",
    "* The run engine will call trigger on the method  of this object\n",
    "* it will recieve a status object. \n",
    "\n",
    "The run eninge will take the status object and wait for it to complete. If different devices are to be checked it \n",
    "will wait that the last one has completed. In this manner it ensures that the different variables are handled in \n",
    "parallel. \n",
    "\n",
    "Please note: typically this code uses epics.PV. Thus this approach is not suitable for a large set of variables!\n",
    "\n",
    "\n",
    "This code can be further simplified if we use SubscriptionStatus instead of device status. Let's implement \n",
    "the smae code again\n"
   ]
  },
  {
   "cell_type": "code",
   "execution_count": 23,
   "metadata": {
    "slideshow": {
     "slide_type": "subslide"
    }
   },
   "outputs": [],
   "source": [
    "from ophyd import Device\n",
    "from ophyd.status import SubscriptionStatus\n",
    "\n",
    "class ReadonlyDevice(Device):\n",
    "    \"\"\"A simple sample device\n",
    "    \n",
    "    \"\"\"\n",
    "    ro = Cpt(EpicsSignalRO, name = 'sig:ro')\n",
    "    \n",
    "    def trigger(self):\n",
    "        \"\"\"Ensure that new data has arrived\n",
    "        \"\"\"\n",
    "        def cb(*args,  **kwargs):\n",
    "            return True\n",
    "        \n",
    "        status = SubcriptionStatus(self.ro, cb, run = False)\n",
    "        return status"
   ]
  },
  {
   "cell_type": "markdown",
   "metadata": {
    "slideshow": {
     "slide_type": "subslide"
    }
   },
   "source": [
    "So now we arrive at some pretty straight forward code\n",
    "\n",
    "When trigger is called, the object SubscriptionStatus will subscribe the function (here ensure_run_once) to self.ro.\n",
    "Then the callback 'cb' is called every time when new data arrrive at signal self.ro.\n",
    "\n",
    "The keyword argument run=False, ensures that the method is only called the first time when  new data is arrived.\n",
    "It defaults to True. In this case it will be run immediately after the callback 'cb' has been subscribed \n",
    "to the device.\n",
    "\n",
    "Please note again, that all these triggers are expected to behave well. IF you need to wait or to do processing,\n",
    "see further down how to do that\n",
    "\n"
   ]
  },
  {
   "cell_type": "markdown",
   "metadata": {
    "slideshow": {
     "slide_type": "subslide"
    }
   },
   "source": [
    "Now we have used a very simple device Now let's see if we have a device with two signals"
   ]
  },
  {
   "cell_type": "code",
   "execution_count": 24,
   "metadata": {
    "slideshow": {
     "slide_type": "subslide"
    }
   },
   "outputs": [],
   "source": [
    "from ophyd import Device\n",
    "from ophyd.status import SubscriptionStatus\n",
    "\n",
    "class ReadonlyDevice(Device):\n",
    "    \"\"\"A simple sample device\n",
    "    \n",
    "    \"\"\"\n",
    "    ro = Cpt(EpicsSignalRO, name = 'sig:ro')\n",
    "    ro2 = Cpt(EpicsSignalRO, name = 'sig2:ro')"
   ]
  },
  {
   "cell_type": "markdown",
   "metadata": {
    "slideshow": {
     "slide_type": "subslide"
    }
   },
   "source": [
    "Now lets run the same simple example again as above:"
   ]
  },
  {
   "cell_type": "code",
   "execution_count": 26,
   "metadata": {
    "slideshow": {
     "slide_type": "subslide"
    }
   },
   "outputs": [
    {
     "ename": "NameError",
     "evalue": "name 'sig' is not defined",
     "output_type": "error",
     "traceback": [
      "\u001b[1;31m---------------------------------------------------------------------------\u001b[0m",
      "\u001b[1;31mNameError\u001b[0m                                 Traceback (most recent call last)",
      "\u001b[1;32m<ipython-input-26-75c31d38220b>\u001b[0m in \u001b[0;36m<module>\u001b[1;34m\u001b[0m\n\u001b[0;32m      6\u001b[0m \u001b[1;33m\u001b[0m\u001b[0m\n\u001b[0;32m      7\u001b[0m \u001b[1;33m\u001b[0m\u001b[0m\n\u001b[1;32m----> 8\u001b[1;33m \u001b[0mr\u001b[0m \u001b[1;33m=\u001b[0m \u001b[0mReadonlyDevice\u001b[0m\u001b[1;33m(\u001b[0m\u001b[0mname\u001b[0m \u001b[1;33m=\u001b[0m \u001b[0msig\u001b[0m\u001b[1;33m)\u001b[0m\u001b[1;33m\u001b[0m\u001b[1;33m\u001b[0m\u001b[0m\n\u001b[0m\u001b[0;32m      9\u001b[0m \u001b[1;33m\u001b[0m\u001b[0m\n\u001b[0;32m     10\u001b[0m \u001b[0mRE\u001b[0m\u001b[1;33m(\u001b[0m\u001b[0mbps\u001b[0m\u001b[1;33m.\u001b[0m\u001b[0mcount\u001b[0m\u001b[1;33m(\u001b[0m\u001b[0mr\u001b[0m\u001b[1;33m,\u001b[0m \u001b[1;36m1\u001b[0m\u001b[1;33m)\u001b[0m\u001b[1;33m)\u001b[0m\u001b[1;33m\u001b[0m\u001b[1;33m\u001b[0m\u001b[0m\n",
      "\u001b[1;31mNameError\u001b[0m: name 'sig' is not defined"
     ]
    }
   ],
   "source": [
    "from bluesky import plans as bps, RunEngine \n",
    "\n",
    "# Check that debug print works!\n",
    "#RE = RunEngine()\n",
    "#RE.log.setLevel('DEBUG')\n",
    "\n",
    "\n",
    "r = ReadonlyDevice(name = 'sig')\n",
    "\n",
    "RE(bps.count(r, 1))"
   ]
  },
  {
   "cell_type": "markdown",
   "metadata": {
    "slideshow": {
     "slide_type": "subslide"
    }
   },
   "source": [
    "The  important thing to note now:\n",
    "* We can see one trigger\n",
    "* and two read calls.\n",
    "\n",
    "That's the policy of bluesky (as far as I understand)\n",
    "* It will call trigger only for the top device. It is \n",
    "  the responsiblity of this device to delegate the triggers to other objects\n",
    "  if required.\n",
    "  \n",
    "* Reads are then transfered to all other devices.\n",
    "\n",
    "Please note that devices can be generated as a tree. The user can call handle \n",
    "either the top device or a leaf of the tree to the run engine. The run engine\n",
    "will call the method trigger only on the object passed to it.\n",
    "\n",
    "In this manner the device driver writer can organise how the device is read.\n",
    "For example, let's ensure that the data of the second signal has arrived only\n",
    "after the signal for the first one has arrived.\n",
    "\n",
    "This can be implemented in different manners. The one I chose is used to demonstrate\n",
    "the add_callback method of the status object."
   ]
  },
  {
   "cell_type": "code",
   "execution_count": 33,
   "metadata": {
    "slideshow": {
     "slide_type": "subslide"
    }
   },
   "outputs": [],
   "source": [
    "from ophyd import Device, Component as Cpt, EpicsSignalRO\n",
    "from ophyd.status import SubscriptionStatus, AndStatus\n",
    "\n",
    "class ReadonlyDevice(Device):\n",
    "    \"\"\"Ensure data of signal ro2 are always newer than for signal ro. \n",
    "    \"\"\"\n",
    "    ro = Cpt(EpicsSignalRO, name = 'sig:ro')\n",
    "    ro2 = Cpt(EpicsSignalRO, name = 'sig2:ro')\n",
    "    \n",
    "    def trigger(self):\n",
    "        \n",
    "        ro_done = False\n",
    "        def cb(*args, **kwargs):\n",
    "            return True\n",
    "    \n",
    "        def cb2(*args, **kwargs):\n",
    "            #nonlocal ro_done\n",
    "            if ro_done:\n",
    "                return True\n",
    "            return False\n",
    "    \n",
    "        def delayed_call(*args, **kwargs):\n",
    "            #nonlocal ro_done\n",
    "            ro_done = True\n",
    "        \n",
    "        stat2 = SubscriptionStatus(self.ro, cb2, run = False)\n",
    "        stat = SubscriptionStatus(self.ro, cb, run = False)\n",
    "        stat.add_callback(delayed_call)\n",
    "        s = AndStatus(stat2, stat)\n",
    "        return s"
   ]
  },
  {
   "cell_type": "markdown",
   "metadata": {
    "slideshow": {
     "slide_type": "subslide"
    }
   },
   "source": [
    "This code could be chained further on. Such code can extended further on and stacked. \n",
    "Based on my experience: if the device needs more handling I recommend to consider to \n",
    "base the code on a state engine."
   ]
  },
  {
   "cell_type": "code",
   "execution_count": 34,
   "metadata": {
    "slideshow": {
     "slide_type": "subslide"
    }
   },
   "outputs": [],
   "source": [
    "from ophyd import Device, Component as Cpt, EpicsSignal, Signal, DeviceStatus\n",
    "\n",
    "class AccumulatingSignal(Device):\n",
    "     target = Cpt(EpicsSignal, 'thermo:I')\n",
    "     window_size = Cpt(Signal, value=5)\n",
    "     last_read = Cpt(Signal, value=[])     \n",
    "\n",
    "\n",
    "     def trigger(self):\n",
    "\n",
    "          dbuffer = []\n",
    "          count = 0\n",
    "          target_N = self.window_size.get()\n",
    "          status = DeviceStatus(self)\n",
    "\n",
    "          def accumulating_callback(value, **kwargs):\n",
    "               if status.done:\n",
    "                    self.target.clear_sub(accumulating_callback)\n",
    "               nonlocal count\n",
    "\n",
    "               dbuffer.append(value)\n",
    "               count += 1\n",
    "\n",
    "               if count >= target_N:\n",
    "                    self.last_read.put(dbuffer[:target_N])\n",
    "                    self.target.clear_sub(accumulating_callback)                         \n",
    "                    status._finished()\n",
    "\n",
    "          self.target.subscribe(accumulating_callback, run=False)          \n",
    "\n",
    "          return status\n",
    "\n",
    "     def put(self, *args, **kwargs):\n",
    "           raise Exception(\"no, read only\")"
   ]
  },
  {
   "cell_type": "markdown",
   "metadata": {
    "slideshow": {
     "slide_type": "subslide"
    }
   },
   "source": [
    "<h3> Summary </h3>"
   ]
  },
  {
   "cell_type": "markdown",
   "metadata": {
    "slideshow": {
     "slide_type": "notes"
    }
   },
   "source": [
    "So to sum up:\n",
    "\n",
    "Bluesky run eninge is based on cooperative multi tasking. It assumes that all calls to ophyd device require only a short time to run.\n",
    "Methods that return a status object, are expected to return the status object immediately. "
   ]
  },
  {
   "cell_type": "markdown",
   "metadata": {
    "slideshow": {
     "slide_type": "fragment"
    }
   },
   "source": [
    "* bluesky run engine $\\to$ cooperative multi task\n",
    "* ophyd device driver:\n",
    "   * typically: methods are expected short sequence of CPU\n",
    "   * methods returning status objects:\n",
    "      * return staatus object immediatly\n",
    "      * status object method '_finished()' called when done\n",
    "      * or use 'SubscriptionStatus'\n",
    "      * up to now: react to callbacks e.g. triggered by data changed \n",
    "        by epics"
   ]
  },
  {
   "cell_type": "markdown",
   "metadata": {
    "slideshow": {
     "slide_type": "slide"
    }
   },
   "source": [
    "<h2>Ophyd signals: everything is a signal </h2>  \n",
    "\n",
    "Compariosn: Unix everything is a file\n",
    "\n",
    "Ophyd:\n",
    "* Everything is a signal\n",
    "* Signals are used to create events\n",
    "* Lifeplots can use them\n",
    "* Bluesky run engine uses signals to gather device information\n",
    "* See further down on event model to understand how it simplifies\n",
    "  measurements"
   ]
  },
  {
   "cell_type": "markdown",
   "metadata": {
    "slideshow": {
     "slide_type": "slide"
    }
   },
   "source": [
    "<h2> Settable devices </h2>\n",
    "\n",
    "The description above concentrated on generating devices, which allow only reading data. \n",
    "Let's see how to implement that. Here I will not go into the basis but show how it can be done\n",
    "using the already implemented bases of ophyd.\n",
    "\n",
    "(I did all the details above as I wanted to illustrate the difference of direct calls to delayed \n",
    "calls).\n",
    "\n",
    "For ophyd settable devices are consideed as \"motors\". Any device that has a set value and a read value falls into \n",
    "this category. Personally I prefer to think of an actuator instead of a motor.\n",
    "\n",
    "Ophyd has several implementations, which facilitate implementing actuators:\n",
    "* Motors\n",
    "* PVPositioner\n",
    "* PVPositionerPC"
   ]
  },
  {
   "cell_type": "markdown",
   "metadata": {
    "slideshow": {
     "slide_type": "subslide"
    }
   },
   "source": [
    "Let's implement a PVPositioner (see also https://github.com/TMsangohan/bact2/blob/66d4bea4f13507b1b82ccb3577fc6a7bfc4b627c/examples/exp/mono_chromator.py#L1)"
   ]
  },
  {
   "cell_type": "code",
   "execution_count": 36,
   "metadata": {
    "slideshow": {
     "slide_type": "subslide"
    }
   },
   "outputs": [],
   "source": [
    "from ophyd import EpicsSignal, EpicsSignalRO, PVPositioner, Component as Cpt\n",
    "\n",
    "class Monochromator( PVPositioner ):\n",
    "    setpoint    = Cpt(EpicsSignal,   ':monoSetEnergy')\n",
    "    readback    = Cpt(EpicsSignalRO, ':monoGetEnergy')\n",
    "    done        = Cpt(EpicsSignalRO, ':multiaxis:running')"
   ]
  },
  {
   "cell_type": "markdown",
   "metadata": {
    "slideshow": {
     "slide_type": "subslide"
    }
   },
   "source": [
    "<h3> PV positioner </h3>\n",
    "\n",
    "Ophyd PV Positioner: requires three variables:\n",
    "* setpoint: a variable that describes the desired value\n",
    "* readback: a variable that descrives the read back value\n",
    "* done: a variable that indicates if the move is finished\n",
    "\n",
    "**Note**: ophyd will consider the move finished when the variable done is set to **True**\n",
    "Setpoint is only used to set the value, readback to read the value\n",
    "Based on these signals the user can get feedback on how long it will take that the \n",
    "move is finished"
   ]
  },
  {
   "cell_type": "markdown",
   "metadata": {
    "slideshow": {
     "slide_type": "subslide"
    }
   },
   "source": [
    "<h3> PV positioner </h3>\n",
    "\n",
    "Ophyd PV Positioner: more functionality:\n",
    "* done: indication value can be set to **False**\n",
    "* stop value: used to request a stop to the actuator\n",
    "\n",
    "See an implementation for a BESSY II monochromator for a idea of it"
   ]
  },
  {
   "cell_type": "code",
   "execution_count": 37,
   "metadata": {
    "slideshow": {
     "slide_type": "fragment"
    }
   },
   "outputs": [],
   "source": [
    "from ophyd import EpicsSignal, EpicsSignalRO, PVPositioner, Component as Cpt\n",
    "\n",
    "class Monochromator( PVPositioner ):\n",
    "    setpoint    = Cpt(EpicsSignal,   ':monoSetEnergy')\n",
    "    readback    = Cpt(EpicsSignalRO, ':monoGetEnergy')\n",
    "    done        = Cpt(EpicsSignalRO, ':multiaxis:running')\n",
    "    done_val = 0\n",
    "    stop_signal = Cpt(EpicsSignal,   ':multiaxis:stop')\n",
    "    stop_val = 1"
   ]
  },
  {
   "cell_type": "markdown",
   "metadata": {
    "slideshow": {
     "slide_type": "subslide"
    }
   },
   "source": [
    "<h3>Adapting it further to our needs</h3\n",
    "    \n",
    "The monochromator now is fairly nicely  fulfilling our needs. But we can go further....\n",
    "\n",
    "Ophyd follows the idea of intelligent devices:\n",
    "* Settle time: how long does it take a device to stabilise after \n",
    "  the movement has signalled finished (e.g. a bar stops osszilating)\n",
    "* Time out: maximum time that the movement is allowwed to take\n",
    "\n",
    "**NB** these are variables of the status object. Thus' these can be \n",
    "computed if required....\n"
   ]
  },
  {
   "cell_type": "code",
   "execution_count": 38,
   "metadata": {
    "slideshow": {
     "slide_type": "subslide"
    }
   },
   "outputs": [],
   "source": [
    "class _Monochromator( PVPositioner ):\n",
    "    setpoint    = Cpt(EpicsSignal,   ':monoSetEnergy')\n",
    "    readback    = Cpt(EpicsSignalRO, ':monoGetEnergy')\n",
    "    done        = Cpt(EpicsSignalRO, ':multiaxis:running')\n",
    "    done_val = 0\n",
    "    stop_signal = Cpt(EpicsSignal,   ':multiaxis:stop')\n",
    "    stop_val = 1\n",
    "\n",
    "\n",
    "    def trigger(self):\n",
    "        \"\"\"Trigger only after new data has arrived\n",
    "        Deactivated not to interfere with :class:`PVPositioner`\n",
    "        \n",
    "        Warning:\n",
    "            Untested code!!!\n",
    "            \n",
    "        Better test it first\n",
    "        \"\"\"\n",
    "        status = super().trigger()\n",
    "        status.set_settle\n",
    "\n",
    "        stat_rdbk = SubscriptionStatus(self.readback, cb_rdbk, run = False, timeout = 1, settle_time = 2)\n",
    "        return stat_rdbk\n",
    "\n",
    "class Monochromator( Device ):\n",
    "    dev = Cpt(_Monochromator, 'u171dcm1', name = 'mc', egu = 'eV')"
   ]
  },
  {
   "cell_type": "markdown",
   "metadata": {
    "slideshow": {
     "slide_type": "subslide"
    }
   },
   "source": [
    "<h3> Everything is a signal </h3>\n",
    "\n",
    "Settle time and timeouts are values, which are not necessarily documented. But \n",
    "this can be handled too\n"
   ]
  },
  {
   "cell_type": "code",
   "execution_count": 41,
   "metadata": {
    "slideshow": {
     "slide_type": "subslide"
    }
   },
   "outputs": [],
   "source": [
    "class _Monochromator( PVPositioner ):\n",
    "    setpoint    = Cpt(EpicsSignal,   ':monoSetEnergy')\n",
    "    readback    = Cpt(EpicsSignalRO, ':monoGetEnergy')\n",
    "    done        = Cpt(EpicsSignalRO, ':multiaxis:running')\n",
    "    done_val = 0\n",
    "    stop_signal = Cpt(EpicsSignal,   ':multiaxis:stop')\n",
    "    stop_val = 1\n",
    "\n",
    "    timeout    = Cpt(Signal, 'timeout', default=1.0)\n",
    "    settle_time = Cpt(Signal, 'settle_time', default=2.0), \n",
    "    \n",
    "    def trigger(self):\n",
    "        \"\"\"Trigger only after new data has arrived\n",
    "        Deactivated not to interfere with :class:`PVPositioner`\n",
    "        \n",
    "        Warning:\n",
    "            Untested code!!!\n",
    "            \n",
    "        Better test it first\n",
    "        \"\"\"\n",
    "        status = super().trigger()\n",
    "    \n",
    "        stat_rdbk = SubscriptionStatus(self.readback, cb_rdbk, run = False, \n",
    "                                       timeout = self.timeout.value, \n",
    "                                       settle_time = self.settle_time.value)\n",
    "        stat_rdbk.add_callback(status)\n",
    "        return stat_rdbk"
   ]
  },
  {
   "cell_type": "markdown",
   "metadata": {
    "slideshow": {
     "slide_type": "slide"
    }
   },
   "source": [
    "<h3> Marking signals as cofiguration signals</h3>\n",
    "\n",
    "Blueskys RunEngin will emit event documents. The setup is described in XXXX.\n",
    "\n",
    "As a rule of thumb:\n",
    "* Ophydd devices can contain a tree of devices\n",
    "* Bluesky inspects the devices and read all signals\n",
    "* The information of all signals will be added to each event\n",
    "\n"
   ]
  },
  {
   "cell_type": "code",
   "execution_count": 42,
   "metadata": {
    "slideshow": {
     "slide_type": "fragment"
    }
   },
   "outputs": [],
   "source": [
    "class _Monochromator( PVPositioner ):\n",
    "    # Class members skipped\n",
    "    _default_configuration_attrs = ('timeout', 'settle_time')"
   ]
  },
  {
   "cell_type": "markdown",
   "metadata": {
    "slideshow": {
     "slide_type": "fragment"
    }
   },
   "source": [
    "In this case the timeout and settle time variables are read out only at the beginning of the run."
   ]
  },
  {
   "cell_type": "markdown",
   "metadata": {
    "slideshow": {
     "slide_type": "subslide"
    }
   },
   "source": [
    "<h3> A slow moving device </h3>\n",
    "\n",
    "If we have a slow moving device, perhaps we want to compute the acceptable \n",
    "time for the movement depending on where we are "
   ]
  },
  {
   "cell_type": "code",
   "execution_count": 43,
   "metadata": {
    "slideshow": {
     "slide_type": "subslide"
    }
   },
   "outputs": [],
   "source": [
    "class SlowMovingDevice ( PVPositioner ):\n",
    "    setpoint = Cpt(EpicsSignal,   ':set')\n",
    "    readback = Cpt(EpicsSignalRO, ':rbk')\n",
    "    done     = Cpt(EpicsSignalRO, ':done')\n",
    "    \n",
    "    timeout    = Cpt(Signal, 'timeout', default=1.0)\n",
    "    settle_time = Cpt(Signal, 'settle_time', default=2.0), \n",
    "\n",
    "    \n",
    "    def computeMovementTime(self, current, target):\n",
    "        \"\"\"\n",
    "        Todo:\n",
    "            compute settle time\n",
    "        \"\"\"\n",
    "        \n",
    "        return settle_time\n",
    "    \n",
    "    def set(self, value):\n",
    "        \"\"\"\n",
    "        \n",
    "        WARNING:\n",
    "            Untested code!\n",
    "        \"\"\"\n",
    "        current = self.readback.value\n",
    "        movement_time = self.computeMovementTime(current, value)\n",
    "        # how much to add to the pure movement time?\n",
    "        # typically a percentage and an additional value\n",
    "        setlle_time = movement_time\n",
    "        self.settle_time.set(settle_time)\n",
    "        \n",
    "        # create a status object or add the settle time to the \n",
    "        # status object"
   ]
  },
  {
   "cell_type": "code",
   "execution_count": null,
   "metadata": {},
   "outputs": [],
   "source": []
  }
 ],
 "metadata": {
  "celltoolbar": "Slideshow",
  "kernelspec": {
   "display_name": "Python 3",
   "language": "python",
   "name": "python3"
  },
  "language_info": {
   "codemirror_mode": {
    "name": "ipython",
    "version": 3
   },
   "file_extension": ".py",
   "mimetype": "text/x-python",
   "name": "python",
   "nbconvert_exporter": "python",
   "pygments_lexer": "ipython3",
   "version": "3.6.8"
  }
 },
 "nbformat": 4,
 "nbformat_minor": 2
}
