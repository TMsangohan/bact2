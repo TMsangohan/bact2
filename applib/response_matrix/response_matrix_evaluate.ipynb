{
 "cells": [
  {
   "cell_type": "code",
   "execution_count": null,
   "metadata": {},
   "outputs": [],
   "source": [
    "import matplotlib.pyplot as plt\n",
    "%pylab inline\n",
    "import pandas as pd\n",
    "import numpy as np\n",
    "from matplotlib import cm\n",
    "from mpl_toolkits.mplot3d import Axes3D\n",
    "import datetime\n",
    "import pprint"
   ]
  },
  {
   "cell_type": "code",
   "execution_count": null,
   "metadata": {},
   "outputs": [],
   "source": [
    "import os.path\n",
    "import sys\n",
    "import importlib\n",
    "\n",
    "pierres_dir = '/net/nfs/srv/MachinePhysics/MachineDevelopment/schnizer/github/'\n",
    "if pierres_dir not in sys.path:\n",
    "    sys.path.append(pierres_dir)\n",
    "\n",
    "import bact2.pandas.dataframe.df_aggregate as dfg\n",
    "importlib.reload(dfg)\n",
    "\n",
    "from bact2.applib.utils import steerer as st_u, utils as m_u\n",
    "from bact2.applib.response_matrix import bpm_data as bd\n",
    "importlib.reload(st_u)\n",
    "importlib.reload(m_u)\n",
    "importlib.reload(bd)"
   ]
  },
  {
   "cell_type": "code",
   "execution_count": null,
   "metadata": {},
   "outputs": [],
   "source": [
    "use_json = True"
   ]
  },
  {
   "cell_type": "code",
   "execution_count": null,
   "metadata": {},
   "outputs": [],
   "source": [
    "if not use_json:\n",
    "    from databroker import Broker\n",
    "    db = Broker.named('light')\n",
    "    uid = '78f148ec-4f55-44c8-bde4-e389ea6ec4d3'\n",
    "    uid = 'ee52c929-4d97-4838-b007-517beb58cba7'\n",
    "    uid = '02fe5d1c-b012-4054-8e53-77c911b97e3b'\n",
    "    uid = '75c454ca-bda5-4254-b7af-0acf365e989d'\n",
    "    r = db(plan_name='response_matrix')\n",
    "    cnt = 0\n",
    "    for doc in r:\n",
    "        start = doc['start']\n",
    "        d = datetime.datetime.fromtimestamp(start['time'])\n",
    "        print(d, start['uid'])"
   ]
  },
  {
   "cell_type": "code",
   "execution_count": null,
   "metadata": {},
   "outputs": [],
   "source": [
    "# First full run \n",
    "uid = '5af3a89f-c496-4d3d-84fd-1ca76c9331dc'\n",
    "# second full run \n"
   ]
  },
  {
   "cell_type": "code",
   "execution_count": null,
   "metadata": {},
   "outputs": [],
   "source": [
    "if not use_json:\n",
    "    header = db[uid]"
   ]
  },
  {
   "cell_type": "code",
   "execution_count": null,
   "metadata": {},
   "outputs": [],
   "source": [
    "path = '/opt/OPI/MachinePhysics/MeasurementData/Users/schnizer/response_matrix'\n",
    "path = os.getcwd()\n",
    "path"
   ]
  },
  {
   "cell_type": "code",
   "execution_count": null,
   "metadata": {},
   "outputs": [],
   "source": [
    "pickle_name = os.path.join(path, 'response_measurement.json.bz2')\n",
    "pickle_name"
   ]
  },
  {
   "cell_type": "code",
   "execution_count": null,
   "metadata": {},
   "outputs": [],
   "source": [
    "if use_json:\n",
    "    t_table = pd.read_json(pickle_name)\n",
    "else:\n",
    "    t_table = header.table()\n",
    "    t_table.tail()"
   ]
  },
  {
   "cell_type": "code",
   "execution_count": null,
   "metadata": {},
   "outputs": [],
   "source": [
    "t_table.time.max()"
   ]
  },
  {
   "cell_type": "code",
   "execution_count": null,
   "metadata": {},
   "outputs": [],
   "source": [
    "t_table = t_table.infer_objects().sort_index()"
   ]
  },
  {
   "cell_type": "code",
   "execution_count": null,
   "metadata": {},
   "outputs": [],
   "source": [
    "nt = dfg.df_vectors_convert(t_table).sort_index()"
   ]
  },
  {
   "cell_type": "code",
   "execution_count": null,
   "metadata": {},
   "outputs": [],
   "source": [
    "tt = np.array([datetime.datetime.fromtimestamp(t/1e3) for t in t_table.time.values])"
   ]
  },
  {
   "cell_type": "code",
   "execution_count": null,
   "metadata": {},
   "outputs": [],
   "source": [
    "t_table = nt"
   ]
  },
  {
   "cell_type": "code",
   "execution_count": null,
   "metadata": {},
   "outputs": [],
   "source": [
    "def provide_steerer_sort(df):\n",
    "    tmp = [st_u.SteererSort(*tup) for tup in zip(df.sc_selected, df.index)]\n",
    "    tmp.sort()\n",
    "    counter = m_u.Counter()\n",
    "    for t in tmp:\n",
    "        t.count = counter(t.name)\n",
    "    return tmp\n"
   ]
  },
  {
   "cell_type": "markdown",
   "metadata": {},
   "source": [
    "Used to get the average position"
   ]
  },
  {
   "cell_type": "code",
   "execution_count": null,
   "metadata": {},
   "outputs": [],
   "source": [
    "cols_to_process = [\n",
    "    'time',\n",
    "    'sc_selected',\n",
    "    'bpm_x_ref', 'bpm_y_ref',\n",
    "    'bpm_x_diff', 'bpm_y_diff',\n",
    "    'bk_dev_mode', \n",
    "    'steerer_mode',\n",
    "    'steerer_pos',\n",
    "    'measurement',\n",
    "    'I_rounded',\n",
    "    'bk_dev_dI', 'bk_dev_scale_factor', 'bk_dev_current_offset', \n",
    "    'sc_sel_dev_setpoint', 'sc_sel_dev_readback',\n",
    "    'ramp_index',\n",
    "    'bpm_waveform_x_pos', 'bpm_waveform_y_pos', \n",
    "    'bpm_waveform_ds',\n",
    "    'dt',\n",
    "    'bpm_x_scale', 'bpm_y_scale',\n",
    "    'steerer_type'\n",
    "]"
   ]
  },
  {
   "cell_type": "code",
   "execution_count": null,
   "metadata": {},
   "outputs": [],
   "source": [
    "def round_float_values(values, rounding_scale=1e6):\n",
    "    values = np.asarray(values)\n",
    "    nvals = values * rounding_scale\n",
    "    nvals = nvals.astype(np.int_)\n",
    "    nvals = nvals / rounding_scale\n",
    "    return nvals"
   ]
  },
  {
   "cell_type": "code",
   "execution_count": null,
   "metadata": {},
   "outputs": [],
   "source": [
    "table_sel = t_table.reindex(columns=cols_to_process,index=t_table.index)\n",
    "table_sel.loc[:,'I_rounded'] = round_float_values(table_sel.sc_sel_dev_setpoint)\n",
    "table_sel.loc[:, 'measurement'] = -1\n",
    "table_sel.loc[:, 'steerer_pos'] = -1\n",
    "table_sel.loc[:, 'ramp_index'] = -1\n",
    "\n",
    "st_sort = provide_steerer_sort(table_sel)\n",
    "for st in st_sort:\n",
    "    table_sel.loc[st.payload, 'steerer_pos'] = int(st.count)\n",
    "    if st.type == 'h':\n",
    "        table_sel.loc[st.payload, 'steerer_type'] = 'horizontal'\n",
    "    elif st.type == 'v':\n",
    "        table_sel.loc[st.payload, 'steerer_type'] = 'vertical'\n",
    "    else:\n",
    "        raise AssertionError('steerer of type {} (name {}) unknwon'.format(st.type, st.name))\n",
    "\n",
    "table_sel = table_sel.infer_objects()\n",
    "table_sel.head()"
   ]
  },
  {
   "cell_type": "code",
   "execution_count": null,
   "metadata": {},
   "outputs": [],
   "source": [
    "tmp = (table_sel.sc_sel_dev_setpoint - table_sel.bk_dev_current_offset) / table_sel.bk_dev_scale_factor / 0.07\n",
    "tmp.min(), tmp.max()"
   ]
  },
  {
   "cell_type": "code",
   "execution_count": null,
   "metadata": {},
   "outputs": [],
   "source": [
    "tt = m_u.add_measurement_counts(table_sel)\n",
    "tt.loc[:, 'measurement'] = pd.to_numeric(tt.measurement)\n",
    "table_agg = dfg.df_with_vectors_mean_skip_first(tt.infer_objects())\n",
    "assert(tt.shape[0]/table_agg.shape[0]==3)"
   ]
  },
  {
   "cell_type": "code",
   "execution_count": null,
   "metadata": {},
   "outputs": [],
   "source": [
    "table_agg.index"
   ]
  },
  {
   "cell_type": "code",
   "execution_count": null,
   "metadata": {},
   "outputs": [],
   "source": [
    "table_meas = table_agg.loc[table_agg.bk_dev_mode == 'store_data'].infer_objects()\n",
    "table_meas = m_u.add_measurement_index(table_meas)\n",
    "meas_ref = bd.calc_bpm_gains(table_meas)#.infer_objects()\n",
    "table_meas_w_ref = bd.calc_bpm_diff(table_meas, meas_ref)"
   ]
  },
  {
   "cell_type": "code",
   "execution_count": null,
   "metadata": {},
   "outputs": [],
   "source": [
    "table_meas_w_ref.head()"
   ]
  },
  {
   "cell_type": "code",
   "execution_count": null,
   "metadata": {},
   "outputs": [],
   "source": [
    "grp = table_meas.groupby(by='sc_selected')\n",
    "for steerer_name, index in grp.groups.items():\n",
    "    print(steerer_name)\n",
    "    sel = table_meas.loc[index,:]\n",
    "    break"
   ]
  },
  {
   "cell_type": "code",
   "execution_count": null,
   "metadata": {},
   "outputs": [],
   "source": [
    "meas_ref_s = meas_ref.sort_values(by='steerer_pos')\n",
    "table_meas_w_ref_s = table_meas_w_ref.sort_values(by='steerer_pos')"
   ]
  },
  {
   "cell_type": "code",
   "execution_count": null,
   "metadata": {},
   "outputs": [],
   "source": [
    "gy_all = np.array(meas_ref_s.bpm_gy.tolist(), dtype=np.float_)\n",
    "gx_all = np.array(meas_ref_s.bpm_gx.tolist(), dtype=np.float_)"
   ]
  },
  {
   "cell_type": "code",
   "execution_count": null,
   "metadata": {},
   "outputs": [],
   "source": [
    "gx_all.shape"
   ]
  },
  {
   "cell_type": "code",
   "execution_count": null,
   "metadata": {},
   "outputs": [],
   "source": [
    "meas_ref.head()"
   ]
  },
  {
   "cell_type": "code",
   "execution_count": null,
   "metadata": {},
   "outputs": [],
   "source": [
    "indices =  np.arange(gx_all.shape[0])\n",
    "ds = table_agg.bpm_waveform_ds.iat[0]\n",
    "DS, Indices = np.meshgrid(ds, indices)"
   ]
  },
  {
   "cell_type": "code",
   "execution_count": null,
   "metadata": {},
   "outputs": [],
   "source": []
  },
  {
   "cell_type": "code",
   "execution_count": null,
   "metadata": {},
   "outputs": [],
   "source": [
    "savename = os.path.join(path, 'response_matrix_x.png')\n",
    "fig = plt.figure(figsize=[16,12])\n",
    "ax = Axes3D(fig)\n",
    "ax.plot_surface(Indices, DS, gx_all, rstride=1, cstride=1, cmap=cm.viridis)\n",
    "ax.set_xlabel('steerer_index')\n",
    "ax.set_ylabel('bpm position [m]')\n",
    "ax.set_zlabel('$g_x$ [mm/A]')\n",
    "fig.savefig(savename, dpi=100)"
   ]
  },
  {
   "cell_type": "code",
   "execution_count": null,
   "metadata": {},
   "outputs": [],
   "source": [
    "savename = os.path.join(path, 'response_matrix_y.png')\n",
    "fig = plt.figure(figsize=[16,12])\n",
    "ax = Axes3D(fig)\n",
    "ax.plot_surface(Indices, DS, gy_all, rstride=1, cstride=1, cmap=cm.viridis)\n",
    "ax.set_xlabel('steerer_index')\n",
    "ax.set_ylabel('bpm position [m]')\n",
    "ax.set_zlabel('$g_y$ [mm/A]')\n",
    "fig.savefig(savename, dpi=100)"
   ]
  },
  {
   "cell_type": "code",
   "execution_count": null,
   "metadata": {},
   "outputs": [],
   "source": [
    "def add_steerer_scale(df, column_name='sc_selected', copy=True):\n",
    "    if copy:\n",
    "        df = df.copy()\n",
    "\n",
    "    df.bpm_x_diff = df.bpm_waveform_x_pos - df.bpm_x_ref\n",
    "    df.bpm_y_diff = df.bpm_waveform_y_pos - df.bpm_y_ref\n",
    "    \n",
    "    grp = df.groupby(by='sc_selected')\n",
    "    for steerer_name, index in grp.groups.items():\n",
    "        sel = df.loc[index,:]\n",
    "        sel_ri = sel.loc[sel.ramp_index == 4,:]\n",
    "        assert(sel_ri.shape[0] == 1)\n",
    "        \n",
    "        # scale for the x factor\n",
    "        s_x = sel_ri.bpm_waveform_x_pos.iat[0]\n",
    "        # scale for the y factor\n",
    "        s_y = sel_ri.bpm_waveform_y_pos.iat[0]\n",
    "        \n",
    "        li = len(index)\n",
    "        ss_x = pd.Series(index=index, data=[s_x] * li, dtype=np.object_)\n",
    "        ss_y = pd.Series(index=index, data=[s_y] * li, dtype=np.object_)\n",
    "            \n",
    "        df.loc[index, 'bpm_x_scale'] = ss_x\n",
    "        df.loc[index, 'bpm_y_scale'] = ss_y\n",
    "        \n",
    "    return df\n",
    "        #break  \n",
    "    "
   ]
  },
  {
   "cell_type": "code",
   "execution_count": null,
   "metadata": {},
   "outputs": [],
   "source": [
    "table_meas_w_ref = add_steerer_scale(table_meas_w_ref)"
   ]
  },
  {
   "cell_type": "code",
   "execution_count": null,
   "metadata": {},
   "outputs": [],
   "source": [
    "table_meas_w_ref.loc[:, ['time', 'sc_selected', 'ramp_index', 'bpm_x_diff', 'bpm_y_diff', ]]"
   ]
  },
  {
   "cell_type": "code",
   "execution_count": null,
   "metadata": {},
   "outputs": [],
   "source": [
    "steerer_sel = 'hs1pd1r'\n",
    "df_sel = table_meas_w_ref.loc[table_meas_w_ref.sc_selected==steerer_sel,:]\n",
    "\n",
    "dx_one = np.array(df_sel.bpm_x_diff.tolist(), dtype=np.float_)\n",
    "dy_one = np.array(df_sel.bpm_y_diff.tolist(), dtype=np.float_)\n",
    "dx_s   = np.array(df_sel.bpm_x_scale.tolist(), dtype=np.float_)\n",
    "dy_s   = np.array(df_sel.bpm_y_scale.tolist(), dtype=np.float_)"
   ]
  },
  {
   "cell_type": "code",
   "execution_count": null,
   "metadata": {},
   "outputs": [],
   "source": [
    "dx_s_one = dx_one/dx_s"
   ]
  },
  {
   "cell_type": "code",
   "execution_count": null,
   "metadata": {},
   "outputs": [],
   "source": [
    "dy_s_one = dy_one/dy_s"
   ]
  },
  {
   "cell_type": "code",
   "execution_count": null,
   "metadata": {},
   "outputs": [],
   "source": [
    "indices =  df_sel.ramp_index\n",
    "ds = df_sel.bpm_waveform_ds.iat[0]\n",
    "DS, Indices = np.meshgrid(ds, indices)"
   ]
  },
  {
   "cell_type": "code",
   "execution_count": null,
   "metadata": {},
   "outputs": [],
   "source": [
    "savename = os.path.join(path, 'steerer_inhomogeneity_{}_x.png'.format(steerer_sel))\n",
    "fig = plt.figure(figsize=[16,12])\n",
    "ax = Axes3D(fig)\n",
    "ax.plot_surface(Indices, DS, dx_s_one, rstride=1, cstride=1, cmap=cm.viridis)\n",
    "ax.set_xlabel('ramp_index')\n",
    "ax.set_ylabel('bpm position [m]')\n",
    "ax.set_zlabel('$d_x$ [$\\mu$m]')\n",
    "fig.savefig(savename, dpi=100)"
   ]
  },
  {
   "cell_type": "code",
   "execution_count": null,
   "metadata": {},
   "outputs": [],
   "source": [
    "savename = os.path.join(path, 'steerer_inhomogeneity_{}_y.png'.format(steerer_sel))\n",
    "fig = plt.figure(figsize=[16,12])\n",
    "ax = Axes3D(fig)\n",
    "ax.plot_surface(Indices, DS, dy_s_one * 1000, rstride=1, cstride=1, cmap=cm.viridis)\n",
    "ax.set_xlabel('ramp_index')\n",
    "ax.set_ylabel('bpm position [m]')\n",
    "ax.set_zlabel('$d_y$ [$\\mu$m]')\n",
    "fig.savefig(savename, dpi=100)"
   ]
  },
  {
   "cell_type": "code",
   "execution_count": null,
   "metadata": {},
   "outputs": [],
   "source": [
    "df_sel = table_meas_w_ref.loc[table_meas_w_ref.steerer_type == 'horizontal']\n",
    "dx_all = np.array(df_sel.bpm_x_diff.tolist(), dtype=np.float_)\n",
    "dx_s_all = np.array(df_sel.bpm_x_scale.tolist(), dtype=np.float_)\n",
    "sdx_all = dx_all/dx_s_all\n",
    "\n",
    "val = 10\n",
    "sdx_all[np.absolute(sdx_all>val)] = 0\n"
   ]
  },
  {
   "cell_type": "code",
   "execution_count": null,
   "metadata": {},
   "outputs": [],
   "source": [
    "indices =  df_sel.measurement\n",
    "ds = df_sel.bpm_waveform_ds.iat[0]\n",
    "DS, Indices = np.meshgrid(ds, indices)"
   ]
  },
  {
   "cell_type": "code",
   "execution_count": null,
   "metadata": {},
   "outputs": [],
   "source": []
  },
  {
   "cell_type": "code",
   "execution_count": null,
   "metadata": {},
   "outputs": [],
   "source": [
    "savename = os.path.join(path, 'steerer_inhomogeneity_all_x.png')\n",
    "fig = plt.figure(figsize=[16,12])\n",
    "ax = Axes3D(fig)\n",
    "ax.plot_surface(Indices, DS, sdx_all, rstride=1, cstride=1, cmap=cm.viridis)\n",
    "ax.set_xlabel('ramp_index')\n",
    "ax.set_ylabel('bpm position [m]')\n",
    "ax.set_zlabel('$d_x$ [$\\mu$m]')\n",
    "fig.savefig(savename, dpi=100)"
   ]
  },
  {
   "cell_type": "code",
   "execution_count": null,
   "metadata": {},
   "outputs": [],
   "source": [
    "df_sel = table_meas_w_ref.loc[table_meas_w_ref.steerer_type == 'vertical']\n",
    "dy_all = np.array(df_sel.bpm_y_diff.tolist(), dtype=np.float_)\n",
    "dy_s_all = np.array(df_sel.bpm_y_scale.tolist(), dtype=np.float_)\n",
    "sdy_all = dy_all/dy_s_all\n",
    "\n",
    "val = 1\n",
    "sdy_all[np.absolute(sdy_all)>val] = 0"
   ]
  },
  {
   "cell_type": "code",
   "execution_count": null,
   "metadata": {},
   "outputs": [],
   "source": [
    "indices =  df_sel.measurement\n",
    "ds = df_sel.bpm_waveform_ds.iat[0]\n",
    "DS, Indices = np.meshgrid(ds, indices)"
   ]
  },
  {
   "cell_type": "code",
   "execution_count": null,
   "metadata": {},
   "outputs": [],
   "source": [
    "savename = os.path.join(path, 'steerer_inhomogeneity_all_y.png')\n",
    "fig = plt.figure(figsize=[16,12])\n",
    "ax = Axes3D(fig)\n",
    "ax.plot_surface(Indices, DS, sdy_all, rstride=1, cstride=1, cmap=cm.viridis)\n",
    "ax.set_xlabel('ramp_index')\n",
    "ax.set_ylabel('bpm position [m]')\n",
    "ax.set_zlabel('$sd_x$')\n",
    "fig.savefig(savename, dpi=100)"
   ]
  },
  {
   "cell_type": "code",
   "execution_count": null,
   "metadata": {},
   "outputs": [],
   "source": [
    "ax.axis()"
   ]
  },
  {
   "cell_type": "code",
   "execution_count": null,
   "metadata": {},
   "outputs": [],
   "source": []
  }
 ],
 "metadata": {
  "kernelspec": {
   "display_name": "Python 3",
   "language": "python",
   "name": "python3"
  },
  "language_info": {
   "codemirror_mode": {
    "name": "ipython",
    "version": 3
   },
   "file_extension": ".py",
   "mimetype": "text/x-python",
   "name": "python",
   "nbconvert_exporter": "python",
   "pygments_lexer": "ipython3",
   "version": "3.7.3"
  }
 },
 "nbformat": 4,
 "nbformat_minor": 2
}
